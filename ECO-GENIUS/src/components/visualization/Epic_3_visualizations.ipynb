{
 "cells": [
  {
   "cell_type": "markdown",
   "id": "dd221962-74e1-4245-89a9-582b082af6bb",
   "metadata": {},
   "source": [
    "## Visualization 1: Victoria Annual Waste Flows (2015–2024)"
   ]
  },
  {
   "cell_type": "markdown",
   "id": "101dbca7-736d-4f9a-ade1-0a14529a598b",
   "metadata": {},
   "source": [
    "Victoria’s total waste generation has grown over time, but local recovery (including Waste-to-Energy) is steadily increasing while exports are declining.  \n",
    "However, disposal levels remain relatively stable, showing that stronger community participation in recycling is still needed to further cut landfill.  \n",
    "For new migrants, this highlights both the progress of Victoria’s waste system and the importance of individual sorting habits."
   ]
  },
  {
   "cell_type": "code",
   "execution_count": 53,
   "id": "c4140a09-505f-4d09-96d9-0353377154c7",
   "metadata": {},
   "outputs": [
    {
     "data": {
      "application/vnd.plotly.v1+json": {
       "config": {
        "plotlyServerURL": "https://plot.ly"
       },
       "data": [
        {
         "hovertemplate": "Category=Total Generation<br>Year=%{x}<br>Thousand Tonnes=%{y:.1f}<extra></extra>",
         "legendgroup": "Total Generation",
         "line": {
          "color": "#636efa",
          "dash": "solid"
         },
         "marker": {
          "symbol": "circle"
         },
         "mode": "lines+markers",
         "name": "Total Generation",
         "orientation": "v",
         "showlegend": true,
         "type": "scatter",
         "x": [
          "2015-2016",
          "2016-2017",
          "2017-2018",
          "2018-2019",
          "2019-2020",
          "2020-2021",
          "2021-2022",
          "2022-2023",
          "2023-2024"
         ],
         "xaxis": "x",
         "y": [
          12325.28083,
          12619.18375,
          14042.94435,
          14758.03279,
          15494.04809,
          15810.432560000001,
          14434.803,
          14463.18849,
          14230.33635
         ],
         "yaxis": "y"
        },
        {
         "hovertemplate": "Category=Disposal<br>Year=%{x}<br>Thousand Tonnes=%{y:.1f}<extra></extra>",
         "legendgroup": "Disposal",
         "line": {
          "color": "#EF553B",
          "dash": "solid"
         },
         "marker": {
          "symbol": "circle"
         },
         "mode": "lines+markers",
         "name": "Disposal",
         "orientation": "v",
         "showlegend": true,
         "type": "scatter",
         "x": [
          "2015-2016",
          "2016-2017",
          "2017-2018",
          "2018-2019",
          "2019-2020",
          "2020-2021",
          "2021-2022",
          "2022-2023",
          "2023-2024"
         ],
         "xaxis": "x",
         "y": [
          4138.77672,
          4199.339,
          4392.82092,
          4536.25847,
          4763.97919,
          4691.896769999999,
          4525.00287,
          4517.46439,
          4335.4147
         ],
         "yaxis": "y"
        },
        {
         "hovertemplate": "Category=Recoverd locally (including Waste to Energy)<br>Year=%{x}<br>Thousand Tonnes=%{y:.1f}<extra></extra>",
         "legendgroup": "Recoverd locally (including Waste to Energy)",
         "line": {
          "color": "#00cc96",
          "dash": "solid"
         },
         "marker": {
          "symbol": "circle"
         },
         "mode": "lines+markers",
         "name": "Recoverd locally (including Waste to Energy)",
         "orientation": "v",
         "showlegend": true,
         "type": "scatter",
         "x": [
          "2015-2016",
          "2016-2017",
          "2017-2018",
          "2018-2019",
          "2019-2020",
          "2020-2021",
          "2021-2022",
          "2022-2023",
          "2023-2024"
         ],
         "xaxis": "x",
         "y": [
          7017.5998,
          7257.6405,
          8330.35966,
          9050.40896,
          9572.73457,
          10109.069210000001,
          8873.490960000001,
          9030.85004,
          8805.25057
         ],
         "yaxis": "y"
        },
        {
         "hovertemplate": "Category=Exports<br>Year=%{x}<br>Thousand Tonnes=%{y:.1f}<extra></extra>",
         "legendgroup": "Exports",
         "line": {
          "color": "#ab63fa",
          "dash": "solid"
         },
         "marker": {
          "symbol": "circle"
         },
         "mode": "lines+markers",
         "name": "Exports",
         "orientation": "v",
         "showlegend": true,
         "type": "scatter",
         "x": [
          "2015-2016",
          "2016-2017",
          "2017-2018",
          "2018-2019",
          "2019-2020",
          "2020-2021",
          "2021-2022",
          "2022-2023",
          "2023-2024"
         ],
         "xaxis": "x",
         "y": [
          1168.9043100000001,
          1162.20425,
          1319.76378,
          1171.36535,
          1157.3343200000002,
          1009.4665699999999,
          1036.30916,
          914.87405,
          1089.67108
         ],
         "yaxis": "y"
        }
       ],
       "layout": {
        "autosize": true,
        "hovermode": "x unified",
        "legend": {
         "title": {
          "text": "Waste Flow"
         },
         "tracegroupgap": 0
        },
        "template": {
         "data": {
          "bar": [
           {
            "error_x": {
             "color": "#2a3f5f"
            },
            "error_y": {
             "color": "#2a3f5f"
            },
            "marker": {
             "line": {
              "color": "white",
              "width": 0.5
             },
             "pattern": {
              "fillmode": "overlay",
              "size": 10,
              "solidity": 0.2
             }
            },
            "type": "bar"
           }
          ],
          "barpolar": [
           {
            "marker": {
             "line": {
              "color": "white",
              "width": 0.5
             },
             "pattern": {
              "fillmode": "overlay",
              "size": 10,
              "solidity": 0.2
             }
            },
            "type": "barpolar"
           }
          ],
          "carpet": [
           {
            "aaxis": {
             "endlinecolor": "#2a3f5f",
             "gridcolor": "#C8D4E3",
             "linecolor": "#C8D4E3",
             "minorgridcolor": "#C8D4E3",
             "startlinecolor": "#2a3f5f"
            },
            "baxis": {
             "endlinecolor": "#2a3f5f",
             "gridcolor": "#C8D4E3",
             "linecolor": "#C8D4E3",
             "minorgridcolor": "#C8D4E3",
             "startlinecolor": "#2a3f5f"
            },
            "type": "carpet"
           }
          ],
          "choropleth": [
           {
            "colorbar": {
             "outlinewidth": 0,
             "ticks": ""
            },
            "type": "choropleth"
           }
          ],
          "contour": [
           {
            "colorbar": {
             "outlinewidth": 0,
             "ticks": ""
            },
            "colorscale": [
             [
              0,
              "#0d0887"
             ],
             [
              0.1111111111111111,
              "#46039f"
             ],
             [
              0.2222222222222222,
              "#7201a8"
             ],
             [
              0.3333333333333333,
              "#9c179e"
             ],
             [
              0.4444444444444444,
              "#bd3786"
             ],
             [
              0.5555555555555556,
              "#d8576b"
             ],
             [
              0.6666666666666666,
              "#ed7953"
             ],
             [
              0.7777777777777778,
              "#fb9f3a"
             ],
             [
              0.8888888888888888,
              "#fdca26"
             ],
             [
              1,
              "#f0f921"
             ]
            ],
            "type": "contour"
           }
          ],
          "contourcarpet": [
           {
            "colorbar": {
             "outlinewidth": 0,
             "ticks": ""
            },
            "type": "contourcarpet"
           }
          ],
          "heatmap": [
           {
            "colorbar": {
             "outlinewidth": 0,
             "ticks": ""
            },
            "colorscale": [
             [
              0,
              "#0d0887"
             ],
             [
              0.1111111111111111,
              "#46039f"
             ],
             [
              0.2222222222222222,
              "#7201a8"
             ],
             [
              0.3333333333333333,
              "#9c179e"
             ],
             [
              0.4444444444444444,
              "#bd3786"
             ],
             [
              0.5555555555555556,
              "#d8576b"
             ],
             [
              0.6666666666666666,
              "#ed7953"
             ],
             [
              0.7777777777777778,
              "#fb9f3a"
             ],
             [
              0.8888888888888888,
              "#fdca26"
             ],
             [
              1,
              "#f0f921"
             ]
            ],
            "type": "heatmap"
           }
          ],
          "heatmapgl": [
           {
            "colorbar": {
             "outlinewidth": 0,
             "ticks": ""
            },
            "colorscale": [
             [
              0,
              "#0d0887"
             ],
             [
              0.1111111111111111,
              "#46039f"
             ],
             [
              0.2222222222222222,
              "#7201a8"
             ],
             [
              0.3333333333333333,
              "#9c179e"
             ],
             [
              0.4444444444444444,
              "#bd3786"
             ],
             [
              0.5555555555555556,
              "#d8576b"
             ],
             [
              0.6666666666666666,
              "#ed7953"
             ],
             [
              0.7777777777777778,
              "#fb9f3a"
             ],
             [
              0.8888888888888888,
              "#fdca26"
             ],
             [
              1,
              "#f0f921"
             ]
            ],
            "type": "heatmapgl"
           }
          ],
          "histogram": [
           {
            "marker": {
             "pattern": {
              "fillmode": "overlay",
              "size": 10,
              "solidity": 0.2
             }
            },
            "type": "histogram"
           }
          ],
          "histogram2d": [
           {
            "colorbar": {
             "outlinewidth": 0,
             "ticks": ""
            },
            "colorscale": [
             [
              0,
              "#0d0887"
             ],
             [
              0.1111111111111111,
              "#46039f"
             ],
             [
              0.2222222222222222,
              "#7201a8"
             ],
             [
              0.3333333333333333,
              "#9c179e"
             ],
             [
              0.4444444444444444,
              "#bd3786"
             ],
             [
              0.5555555555555556,
              "#d8576b"
             ],
             [
              0.6666666666666666,
              "#ed7953"
             ],
             [
              0.7777777777777778,
              "#fb9f3a"
             ],
             [
              0.8888888888888888,
              "#fdca26"
             ],
             [
              1,
              "#f0f921"
             ]
            ],
            "type": "histogram2d"
           }
          ],
          "histogram2dcontour": [
           {
            "colorbar": {
             "outlinewidth": 0,
             "ticks": ""
            },
            "colorscale": [
             [
              0,
              "#0d0887"
             ],
             [
              0.1111111111111111,
              "#46039f"
             ],
             [
              0.2222222222222222,
              "#7201a8"
             ],
             [
              0.3333333333333333,
              "#9c179e"
             ],
             [
              0.4444444444444444,
              "#bd3786"
             ],
             [
              0.5555555555555556,
              "#d8576b"
             ],
             [
              0.6666666666666666,
              "#ed7953"
             ],
             [
              0.7777777777777778,
              "#fb9f3a"
             ],
             [
              0.8888888888888888,
              "#fdca26"
             ],
             [
              1,
              "#f0f921"
             ]
            ],
            "type": "histogram2dcontour"
           }
          ],
          "mesh3d": [
           {
            "colorbar": {
             "outlinewidth": 0,
             "ticks": ""
            },
            "type": "mesh3d"
           }
          ],
          "parcoords": [
           {
            "line": {
             "colorbar": {
              "outlinewidth": 0,
              "ticks": ""
             }
            },
            "type": "parcoords"
           }
          ],
          "pie": [
           {
            "automargin": true,
            "type": "pie"
           }
          ],
          "scatter": [
           {
            "fillpattern": {
             "fillmode": "overlay",
             "size": 10,
             "solidity": 0.2
            },
            "type": "scatter"
           }
          ],
          "scatter3d": [
           {
            "line": {
             "colorbar": {
              "outlinewidth": 0,
              "ticks": ""
             }
            },
            "marker": {
             "colorbar": {
              "outlinewidth": 0,
              "ticks": ""
             }
            },
            "type": "scatter3d"
           }
          ],
          "scattercarpet": [
           {
            "marker": {
             "colorbar": {
              "outlinewidth": 0,
              "ticks": ""
             }
            },
            "type": "scattercarpet"
           }
          ],
          "scattergeo": [
           {
            "marker": {
             "colorbar": {
              "outlinewidth": 0,
              "ticks": ""
             }
            },
            "type": "scattergeo"
           }
          ],
          "scattergl": [
           {
            "marker": {
             "colorbar": {
              "outlinewidth": 0,
              "ticks": ""
             }
            },
            "type": "scattergl"
           }
          ],
          "scattermapbox": [
           {
            "marker": {
             "colorbar": {
              "outlinewidth": 0,
              "ticks": ""
             }
            },
            "type": "scattermapbox"
           }
          ],
          "scatterpolar": [
           {
            "marker": {
             "colorbar": {
              "outlinewidth": 0,
              "ticks": ""
             }
            },
            "type": "scatterpolar"
           }
          ],
          "scatterpolargl": [
           {
            "marker": {
             "colorbar": {
              "outlinewidth": 0,
              "ticks": ""
             }
            },
            "type": "scatterpolargl"
           }
          ],
          "scatterternary": [
           {
            "marker": {
             "colorbar": {
              "outlinewidth": 0,
              "ticks": ""
             }
            },
            "type": "scatterternary"
           }
          ],
          "surface": [
           {
            "colorbar": {
             "outlinewidth": 0,
             "ticks": ""
            },
            "colorscale": [
             [
              0,
              "#0d0887"
             ],
             [
              0.1111111111111111,
              "#46039f"
             ],
             [
              0.2222222222222222,
              "#7201a8"
             ],
             [
              0.3333333333333333,
              "#9c179e"
             ],
             [
              0.4444444444444444,
              "#bd3786"
             ],
             [
              0.5555555555555556,
              "#d8576b"
             ],
             [
              0.6666666666666666,
              "#ed7953"
             ],
             [
              0.7777777777777778,
              "#fb9f3a"
             ],
             [
              0.8888888888888888,
              "#fdca26"
             ],
             [
              1,
              "#f0f921"
             ]
            ],
            "type": "surface"
           }
          ],
          "table": [
           {
            "cells": {
             "fill": {
              "color": "#EBF0F8"
             },
             "line": {
              "color": "white"
             }
            },
            "header": {
             "fill": {
              "color": "#C8D4E3"
             },
             "line": {
              "color": "white"
             }
            },
            "type": "table"
           }
          ]
         },
         "layout": {
          "annotationdefaults": {
           "arrowcolor": "#2a3f5f",
           "arrowhead": 0,
           "arrowwidth": 1
          },
          "autotypenumbers": "strict",
          "coloraxis": {
           "colorbar": {
            "outlinewidth": 0,
            "ticks": ""
           }
          },
          "colorscale": {
           "diverging": [
            [
             0,
             "#8e0152"
            ],
            [
             0.1,
             "#c51b7d"
            ],
            [
             0.2,
             "#de77ae"
            ],
            [
             0.3,
             "#f1b6da"
            ],
            [
             0.4,
             "#fde0ef"
            ],
            [
             0.5,
             "#f7f7f7"
            ],
            [
             0.6,
             "#e6f5d0"
            ],
            [
             0.7,
             "#b8e186"
            ],
            [
             0.8,
             "#7fbc41"
            ],
            [
             0.9,
             "#4d9221"
            ],
            [
             1,
             "#276419"
            ]
           ],
           "sequential": [
            [
             0,
             "#0d0887"
            ],
            [
             0.1111111111111111,
             "#46039f"
            ],
            [
             0.2222222222222222,
             "#7201a8"
            ],
            [
             0.3333333333333333,
             "#9c179e"
            ],
            [
             0.4444444444444444,
             "#bd3786"
            ],
            [
             0.5555555555555556,
             "#d8576b"
            ],
            [
             0.6666666666666666,
             "#ed7953"
            ],
            [
             0.7777777777777778,
             "#fb9f3a"
            ],
            [
             0.8888888888888888,
             "#fdca26"
            ],
            [
             1,
             "#f0f921"
            ]
           ],
           "sequentialminus": [
            [
             0,
             "#0d0887"
            ],
            [
             0.1111111111111111,
             "#46039f"
            ],
            [
             0.2222222222222222,
             "#7201a8"
            ],
            [
             0.3333333333333333,
             "#9c179e"
            ],
            [
             0.4444444444444444,
             "#bd3786"
            ],
            [
             0.5555555555555556,
             "#d8576b"
            ],
            [
             0.6666666666666666,
             "#ed7953"
            ],
            [
             0.7777777777777778,
             "#fb9f3a"
            ],
            [
             0.8888888888888888,
             "#fdca26"
            ],
            [
             1,
             "#f0f921"
            ]
           ]
          },
          "colorway": [
           "#636efa",
           "#EF553B",
           "#00cc96",
           "#ab63fa",
           "#FFA15A",
           "#19d3f3",
           "#FF6692",
           "#B6E880",
           "#FF97FF",
           "#FECB52"
          ],
          "font": {
           "color": "#2a3f5f"
          },
          "geo": {
           "bgcolor": "white",
           "lakecolor": "white",
           "landcolor": "white",
           "showlakes": true,
           "showland": true,
           "subunitcolor": "#C8D4E3"
          },
          "hoverlabel": {
           "align": "left"
          },
          "hovermode": "closest",
          "mapbox": {
           "style": "light"
          },
          "paper_bgcolor": "white",
          "plot_bgcolor": "white",
          "polar": {
           "angularaxis": {
            "gridcolor": "#EBF0F8",
            "linecolor": "#EBF0F8",
            "ticks": ""
           },
           "bgcolor": "white",
           "radialaxis": {
            "gridcolor": "#EBF0F8",
            "linecolor": "#EBF0F8",
            "ticks": ""
           }
          },
          "scene": {
           "xaxis": {
            "backgroundcolor": "white",
            "gridcolor": "#DFE8F3",
            "gridwidth": 2,
            "linecolor": "#EBF0F8",
            "showbackground": true,
            "ticks": "",
            "zerolinecolor": "#EBF0F8"
           },
           "yaxis": {
            "backgroundcolor": "white",
            "gridcolor": "#DFE8F3",
            "gridwidth": 2,
            "linecolor": "#EBF0F8",
            "showbackground": true,
            "ticks": "",
            "zerolinecolor": "#EBF0F8"
           },
           "zaxis": {
            "backgroundcolor": "white",
            "gridcolor": "#DFE8F3",
            "gridwidth": 2,
            "linecolor": "#EBF0F8",
            "showbackground": true,
            "ticks": "",
            "zerolinecolor": "#EBF0F8"
           }
          },
          "shapedefaults": {
           "line": {
            "color": "#2a3f5f"
           }
          },
          "ternary": {
           "aaxis": {
            "gridcolor": "#DFE8F3",
            "linecolor": "#A2B1C6",
            "ticks": ""
           },
           "baxis": {
            "gridcolor": "#DFE8F3",
            "linecolor": "#A2B1C6",
            "ticks": ""
           },
           "bgcolor": "white",
           "caxis": {
            "gridcolor": "#DFE8F3",
            "linecolor": "#A2B1C6",
            "ticks": ""
           }
          },
          "title": {
           "x": 0.05
          },
          "xaxis": {
           "automargin": true,
           "gridcolor": "#EBF0F8",
           "linecolor": "#EBF0F8",
           "ticks": "",
           "title": {
            "standoff": 15
           },
           "zerolinecolor": "#EBF0F8",
           "zerolinewidth": 2
          },
          "yaxis": {
           "automargin": true,
           "gridcolor": "#EBF0F8",
           "linecolor": "#EBF0F8",
           "ticks": "",
           "title": {
            "standoff": 15
           },
           "zerolinecolor": "#EBF0F8",
           "zerolinewidth": 2
          }
         }
        },
        "title": {
         "text": "Victoria Annual Waste Flows (in thousand tonnes)",
         "x": 0.5
        },
        "xaxis": {
         "anchor": "y",
         "autorange": true,
         "domain": [
          0,
          1
         ],
         "range": [
          -0.5,
          8.5
         ],
         "title": {
          "text": "Year"
         },
         "type": "category"
        },
        "yaxis": {
         "anchor": "x",
         "autorange": true,
         "domain": [
          0,
          1
         ],
         "range": [
          -80.17338082995957,
          16805.47999082996
         ],
         "title": {
          "text": "Thousand Tonnes"
         },
         "type": "linear"
        }
       }
      },
      "image/png": "[encoded data removed]",
      "text/html": [
       "<div>                            <div id=\"d1f0f53f-744c-4813-aa4e-0cef5c5b33c5\" class=\"plotly-graph-div\" style=\"height:600px; width:100%;\"></div>            <script type=\"text/javascript\">                require([\"plotly\"], function(Plotly) {                    window.PLOTLYENV=window.PLOTLYENV || {};                                    if (document.getElementById(\"d1f0f53f-744c-4813-aa4e-0cef5c5b33c5\")) {                    Plotly.newPlot(                        \"d1f0f53f-744c-4813-aa4e-0cef5c5b33c5\",                        [{\"hovertemplate\":\"Category=Total Generation\\u003cbr\\u003eYear=%{x}\\u003cbr\\u003eThousand Tonnes=%{y:.1f}\\u003cextra\\u003e\\u003c\\u002fextra\\u003e\",\"legendgroup\":\"Total Generation\",\"line\":{\"color\":\"#636efa\",\"dash\":\"solid\"},\"marker\":{\"symbol\":\"circle\"},\"mode\":\"lines+markers\",\"name\":\"Total Generation\",\"orientation\":\"v\",\"showlegend\":true,\"x\":[\"2015-2016\",\"2016-2017\",\"2017-2018\",\"2018-2019\",\"2019-2020\",\"2020-2021\",\"2021-2022\",\"2022-2023\",\"2023-2024\"],\"xaxis\":\"x\",\"y\":[12325.28083,12619.18375,14042.94435,14758.03279,15494.04809,15810.432560000001,14434.803,14463.18849,14230.33635],\"yaxis\":\"y\",\"type\":\"scatter\"},{\"hovertemplate\":\"Category=Disposal\\u003cbr\\u003eYear=%{x}\\u003cbr\\u003eThousand Tonnes=%{y:.1f}\\u003cextra\\u003e\\u003c\\u002fextra\\u003e\",\"legendgroup\":\"Disposal\",\"line\":{\"color\":\"#EF553B\",\"dash\":\"solid\"},\"marker\":{\"symbol\":\"circle\"},\"mode\":\"lines+markers\",\"name\":\"Disposal\",\"orientation\":\"v\",\"showlegend\":true,\"x\":[\"2015-2016\",\"2016-2017\",\"2017-2018\",\"2018-2019\",\"2019-2020\",\"2020-2021\",\"2021-2022\",\"2022-2023\",\"2023-2024\"],\"xaxis\":\"x\",\"y\":[4138.77672,4199.339,4392.82092,4536.25847,4763.97919,4691.896769999999,4525.00287,4517.46439,4335.4147],\"yaxis\":\"y\",\"type\":\"scatter\"},{\"hovertemplate\":\"Category=Recoverd locally (including Waste to Energy)\\u003cbr\\u003eYear=%{x}\\u003cbr\\u003eThousand Tonnes=%{y:.1f}\\u003cextra\\u003e\\u003c\\u002fextra\\u003e\",\"legendgroup\":\"Recoverd locally (including Waste to Energy)\",\"line\":{\"color\":\"#00cc96\",\"dash\":\"solid\"},\"marker\":{\"symbol\":\"circle\"},\"mode\":\"lines+markers\",\"name\":\"Recoverd locally (including Waste to Energy)\",\"orientation\":\"v\",\"showlegend\":true,\"x\":[\"2015-2016\",\"2016-2017\",\"2017-2018\",\"2018-2019\",\"2019-2020\",\"2020-2021\",\"2021-2022\",\"2022-2023\",\"2023-2024\"],\"xaxis\":\"x\",\"y\":[7017.5998,7257.6405,8330.35966,9050.40896,9572.73457,10109.069210000001,8873.490960000001,9030.85004,8805.25057],\"yaxis\":\"y\",\"type\":\"scatter\"},{\"hovertemplate\":\"Category=Exports\\u003cbr\\u003eYear=%{x}\\u003cbr\\u003eThousand Tonnes=%{y:.1f}\\u003cextra\\u003e\\u003c\\u002fextra\\u003e\",\"legendgroup\":\"Exports\",\"line\":{\"color\":\"#ab63fa\",\"dash\":\"solid\"},\"marker\":{\"symbol\":\"circle\"},\"mode\":\"lines+markers\",\"name\":\"Exports\",\"orientation\":\"v\",\"showlegend\":true,\"x\":[\"2015-2016\",\"2016-2017\",\"2017-2018\",\"2018-2019\",\"2019-2020\",\"2020-2021\",\"2021-2022\",\"2022-2023\",\"2023-2024\"],\"xaxis\":\"x\",\"y\":[1168.9043100000001,1162.20425,1319.76378,1171.36535,1157.3343200000002,1009.4665699999999,1036.30916,914.87405,1089.67108],\"yaxis\":\"y\",\"type\":\"scatter\"}],                        {\"template\":{\"data\":{\"barpolar\":[{\"marker\":{\"line\":{\"color\":\"white\",\"width\":0.5},\"pattern\":{\"fillmode\":\"overlay\",\"size\":10,\"solidity\":0.2}},\"type\":\"barpolar\"}],\"bar\":[{\"error_x\":{\"color\":\"#2a3f5f\"},\"error_y\":{\"color\":\"#2a3f5f\"},\"marker\":{\"line\":{\"color\":\"white\",\"width\":0.5},\"pattern\":{\"fillmode\":\"overlay\",\"size\":10,\"solidity\":0.2}},\"type\":\"bar\"}],\"carpet\":[{\"aaxis\":{\"endlinecolor\":\"#2a3f5f\",\"gridcolor\":\"#C8D4E3\",\"linecolor\":\"#C8D4E3\",\"minorgridcolor\":\"#C8D4E3\",\"startlinecolor\":\"#2a3f5f\"},\"baxis\":{\"endlinecolor\":\"#2a3f5f\",\"gridcolor\":\"#C8D4E3\",\"linecolor\":\"#C8D4E3\",\"minorgridcolor\":\"#C8D4E3\",\"startlinecolor\":\"#2a3f5f\"},\"type\":\"carpet\"}],\"choropleth\":[{\"colorbar\":{\"outlinewidth\":0,\"ticks\":\"\"},\"type\":\"choropleth\"}],\"contourcarpet\":[{\"colorbar\":{\"outlinewidth\":0,\"ticks\":\"\"},\"type\":\"contourcarpet\"}],\"contour\":[{\"colorbar\":{\"outlinewidth\":0,\"ticks\":\"\"},\"colorscale\":[[0.0,\"#0d0887\"],[0.1111111111111111,\"#46039f\"],[0.2222222222222222,\"#7201a8\"],[0.3333333333333333,\"#9c179e\"],[0.4444444444444444,\"#bd3786\"],[0.5555555555555556,\"#d8576b\"],[0.6666666666666666,\"#ed7953\"],[0.7777777777777778,\"#fb9f3a\"],[0.8888888888888888,\"#fdca26\"],[1.0,\"#f0f921\"]],\"type\":\"contour\"}],\"heatmapgl\":[{\"colorbar\":{\"outlinewidth\":0,\"ticks\":\"\"},\"colorscale\":[[0.0,\"#0d0887\"],[0.1111111111111111,\"#46039f\"],[0.2222222222222222,\"#7201a8\"],[0.3333333333333333,\"#9c179e\"],[0.4444444444444444,\"#bd3786\"],[0.5555555555555556,\"#d8576b\"],[0.6666666666666666,\"#ed7953\"],[0.7777777777777778,\"#fb9f3a\"],[0.8888888888888888,\"#fdca26\"],[1.0,\"#f0f921\"]],\"type\":\"heatmapgl\"}],\"heatmap\":[{\"colorbar\":{\"outlinewidth\":0,\"ticks\":\"\"},\"colorscale\":[[0.0,\"#0d0887\"],[0.1111111111111111,\"#46039f\"],[0.2222222222222222,\"#7201a8\"],[0.3333333333333333,\"#9c179e\"],[0.4444444444444444,\"#bd3786\"],[0.5555555555555556,\"#d8576b\"],[0.6666666666666666,\"#ed7953\"],[0.7777777777777778,\"#fb9f3a\"],[0.8888888888888888,\"#fdca26\"],[1.0,\"#f0f921\"]],\"type\":\"heatmap\"}],\"histogram2dcontour\":[{\"colorbar\":{\"outlinewidth\":0,\"ticks\":\"\"},\"colorscale\":[[0.0,\"#0d0887\"],[0.1111111111111111,\"#46039f\"],[0.2222222222222222,\"#7201a8\"],[0.3333333333333333,\"#9c179e\"],[0.4444444444444444,\"#bd3786\"],[0.5555555555555556,\"#d8576b\"],[0.6666666666666666,\"#ed7953\"],[0.7777777777777778,\"#fb9f3a\"],[0.8888888888888888,\"#fdca26\"],[1.0,\"#f0f921\"]],\"type\":\"histogram2dcontour\"}],\"histogram2d\":[{\"colorbar\":{\"outlinewidth\":0,\"ticks\":\"\"},\"colorscale\":[[0.0,\"#0d0887\"],[0.1111111111111111,\"#46039f\"],[0.2222222222222222,\"#7201a8\"],[0.3333333333333333,\"#9c179e\"],[0.4444444444444444,\"#bd3786\"],[0.5555555555555556,\"#d8576b\"],[0.6666666666666666,\"#ed7953\"],[0.7777777777777778,\"#fb9f3a\"],[0.8888888888888888,\"#fdca26\"],[1.0,\"#f0f921\"]],\"type\":\"histogram2d\"}],\"histogram\":[{\"marker\":{\"pattern\":{\"fillmode\":\"overlay\",\"size\":10,\"solidity\":0.2}},\"type\":\"histogram\"}],\"mesh3d\":[{\"colorbar\":{\"outlinewidth\":0,\"ticks\":\"\"},\"type\":\"mesh3d\"}],\"parcoords\":[{\"line\":{\"colorbar\":{\"outlinewidth\":0,\"ticks\":\"\"}},\"type\":\"parcoords\"}],\"pie\":[{\"automargin\":true,\"type\":\"pie\"}],\"scatter3d\":[{\"line\":{\"colorbar\":{\"outlinewidth\":0,\"ticks\":\"\"}},\"marker\":{\"colorbar\":{\"outlinewidth\":0,\"ticks\":\"\"}},\"type\":\"scatter3d\"}],\"scattercarpet\":[{\"marker\":{\"colorbar\":{\"outlinewidth\":0,\"ticks\":\"\"}},\"type\":\"scattercarpet\"}],\"scattergeo\":[{\"marker\":{\"colorbar\":{\"outlinewidth\":0,\"ticks\":\"\"}},\"type\":\"scattergeo\"}],\"scattergl\":[{\"marker\":{\"colorbar\":{\"outlinewidth\":0,\"ticks\":\"\"}},\"type\":\"scattergl\"}],\"scattermapbox\":[{\"marker\":{\"colorbar\":{\"outlinewidth\":0,\"ticks\":\"\"}},\"type\":\"scattermapbox\"}],\"scatterpolargl\":[{\"marker\":{\"colorbar\":{\"outlinewidth\":0,\"ticks\":\"\"}},\"type\":\"scatterpolargl\"}],\"scatterpolar\":[{\"marker\":{\"colorbar\":{\"outlinewidth\":0,\"ticks\":\"\"}},\"type\":\"scatterpolar\"}],\"scatter\":[{\"fillpattern\":{\"fillmode\":\"overlay\",\"size\":10,\"solidity\":0.2},\"type\":\"scatter\"}],\"scatterternary\":[{\"marker\":{\"colorbar\":{\"outlinewidth\":0,\"ticks\":\"\"}},\"type\":\"scatterternary\"}],\"surface\":[{\"colorbar\":{\"outlinewidth\":0,\"ticks\":\"\"},\"colorscale\":[[0.0,\"#0d0887\"],[0.1111111111111111,\"#46039f\"],[0.2222222222222222,\"#7201a8\"],[0.3333333333333333,\"#9c179e\"],[0.4444444444444444,\"#bd3786\"],[0.5555555555555556,\"#d8576b\"],[0.6666666666666666,\"#ed7953\"],[0.7777777777777778,\"#fb9f3a\"],[0.8888888888888888,\"#fdca26\"],[1.0,\"#f0f921\"]],\"type\":\"surface\"}],\"table\":[{\"cells\":{\"fill\":{\"color\":\"#EBF0F8\"},\"line\":{\"color\":\"white\"}},\"header\":{\"fill\":{\"color\":\"#C8D4E3\"},\"line\":{\"color\":\"white\"}},\"type\":\"table\"}]},\"layout\":{\"annotationdefaults\":{\"arrowcolor\":\"#2a3f5f\",\"arrowhead\":0,\"arrowwidth\":1},\"autotypenumbers\":\"strict\",\"coloraxis\":{\"colorbar\":{\"outlinewidth\":0,\"ticks\":\"\"}},\"colorscale\":{\"diverging\":[[0,\"#8e0152\"],[0.1,\"#c51b7d\"],[0.2,\"#de77ae\"],[0.3,\"#f1b6da\"],[0.4,\"#fde0ef\"],[0.5,\"#f7f7f7\"],[0.6,\"#e6f5d0\"],[0.7,\"#b8e186\"],[0.8,\"#7fbc41\"],[0.9,\"#4d9221\"],[1,\"#276419\"]],\"sequential\":[[0.0,\"#0d0887\"],[0.1111111111111111,\"#46039f\"],[0.2222222222222222,\"#7201a8\"],[0.3333333333333333,\"#9c179e\"],[0.4444444444444444,\"#bd3786\"],[0.5555555555555556,\"#d8576b\"],[0.6666666666666666,\"#ed7953\"],[0.7777777777777778,\"#fb9f3a\"],[0.8888888888888888,\"#fdca26\"],[1.0,\"#f0f921\"]],\"sequentialminus\":[[0.0,\"#0d0887\"],[0.1111111111111111,\"#46039f\"],[0.2222222222222222,\"#7201a8\"],[0.3333333333333333,\"#9c179e\"],[0.4444444444444444,\"#bd3786\"],[0.5555555555555556,\"#d8576b\"],[0.6666666666666666,\"#ed7953\"],[0.7777777777777778,\"#fb9f3a\"],[0.8888888888888888,\"#fdca26\"],[1.0,\"#f0f921\"]]},\"colorway\":[\"#636efa\",\"#EF553B\",\"#00cc96\",\"#ab63fa\",\"#FFA15A\",\"#19d3f3\",\"#FF6692\",\"#B6E880\",\"#FF97FF\",\"#FECB52\"],\"font\":{\"color\":\"#2a3f5f\"},\"geo\":{\"bgcolor\":\"white\",\"lakecolor\":\"white\",\"landcolor\":\"white\",\"showlakes\":true,\"showland\":true,\"subunitcolor\":\"#C8D4E3\"},\"hoverlabel\":{\"align\":\"left\"},\"hovermode\":\"closest\",\"mapbox\":{\"style\":\"light\"},\"paper_bgcolor\":\"white\",\"plot_bgcolor\":\"white\",\"polar\":{\"angularaxis\":{\"gridcolor\":\"#EBF0F8\",\"linecolor\":\"#EBF0F8\",\"ticks\":\"\"},\"bgcolor\":\"white\",\"radialaxis\":{\"gridcolor\":\"#EBF0F8\",\"linecolor\":\"#EBF0F8\",\"ticks\":\"\"}},\"scene\":{\"xaxis\":{\"backgroundcolor\":\"white\",\"gridcolor\":\"#DFE8F3\",\"gridwidth\":2,\"linecolor\":\"#EBF0F8\",\"showbackground\":true,\"ticks\":\"\",\"zerolinecolor\":\"#EBF0F8\"},\"yaxis\":{\"backgroundcolor\":\"white\",\"gridcolor\":\"#DFE8F3\",\"gridwidth\":2,\"linecolor\":\"#EBF0F8\",\"showbackground\":true,\"ticks\":\"\",\"zerolinecolor\":\"#EBF0F8\"},\"zaxis\":{\"backgroundcolor\":\"white\",\"gridcolor\":\"#DFE8F3\",\"gridwidth\":2,\"linecolor\":\"#EBF0F8\",\"showbackground\":true,\"ticks\":\"\",\"zerolinecolor\":\"#EBF0F8\"}},\"shapedefaults\":{\"line\":{\"color\":\"#2a3f5f\"}},\"ternary\":{\"aaxis\":{\"gridcolor\":\"#DFE8F3\",\"linecolor\":\"#A2B1C6\",\"ticks\":\"\"},\"baxis\":{\"gridcolor\":\"#DFE8F3\",\"linecolor\":\"#A2B1C6\",\"ticks\":\"\"},\"bgcolor\":\"white\",\"caxis\":{\"gridcolor\":\"#DFE8F3\",\"linecolor\":\"#A2B1C6\",\"ticks\":\"\"}},\"title\":{\"x\":0.05},\"xaxis\":{\"automargin\":true,\"gridcolor\":\"#EBF0F8\",\"linecolor\":\"#EBF0F8\",\"ticks\":\"\",\"title\":{\"standoff\":15},\"zerolinecolor\":\"#EBF0F8\",\"zerolinewidth\":2},\"yaxis\":{\"automargin\":true,\"gridcolor\":\"#EBF0F8\",\"linecolor\":\"#EBF0F8\",\"ticks\":\"\",\"title\":{\"standoff\":15},\"zerolinecolor\":\"#EBF0F8\",\"zerolinewidth\":2}}},\"xaxis\":{\"anchor\":\"y\",\"domain\":[0.0,1.0],\"title\":{\"text\":\"Year\"}},\"yaxis\":{\"anchor\":\"x\",\"domain\":[0.0,1.0],\"title\":{\"text\":\"Thousand Tonnes\"}},\"legend\":{\"title\":{\"text\":\"Waste Flow\"},\"tracegroupgap\":0},\"title\":{\"text\":\"Victoria Annual Waste Flows (in thousand tonnes)\",\"x\":0.5},\"hovermode\":\"x unified\",\"height\":600},                        {\"responsive\": true}                    ).then(function(){\n",
       "                            \n",
       "var gd = document.getElementById('d1f0f53f-744c-4813-aa4e-0cef5c5b33c5');\n",
       "var x = new MutationObserver(function (mutations, observer) {{\n",
       "        var display = window.getComputedStyle(gd).display;\n",
       "        if (!display || display === 'none') {{\n",
       "            console.log([gd, 'removed!']);\n",
       "            Plotly.purge(gd);\n",
       "            observer.disconnect();\n",
       "        }}\n",
       "}});\n",
       "\n",
       "// Listen for the removal of the full notebook cells\n",
       "var notebookContainer = gd.closest('#notebook-container');\n",
       "if (notebookContainer) {{\n",
       "    x.observe(notebookContainer, {childList: true});\n",
       "}}\n",
       "\n",
       "// Listen for the clearing of the current output cell\n",
       "var outputEl = gd.closest('.output');\n",
       "if (outputEl) {{\n",
       "    x.observe(outputEl, {childList: true});\n",
       "}}\n",
       "\n",
       "                        })                };                });            </script>        </div>"
      ]
     },
     "metadata": {},
     "output_type": "display_data"
    }
   ],
   "source": [
    "import pandas as pd\n",
    "import plotly.express as px\n",
    "\n",
    "# Read dataset\n",
    "df = pd.read_csv(\"Merged_vic_waste_summary.csv\")\n",
    "\n",
    "# Convert from tonnes to thousand tonnes\n",
    "df[\"Total Generation\"] = df[\"Total Generation\"] / 1000\n",
    "df[\"Disposal\"] = df[\"Disposal\"] / 1000\n",
    "df[\"Recoverd locally (including Waste to Energy)\"] = df[\"Recoverd locally (including Waste to Energy)\"] / 1000\n",
    "df[\"Exports\"] = df[\"Exports\"] / 1000\n",
    "\n",
    "# Create line chart\n",
    "fig = px.line(\n",
    "    df,\n",
    "    x=\"Financial Year\",\n",
    "    y=[\"Total Generation\", \"Disposal\", \n",
    "       \"Recoverd locally (including Waste to Energy)\", \"Exports\"],\n",
    "    markers=True,\n",
    "    title=\"Victoria Annual Waste Flows (in thousand tonnes)\",\n",
    "    labels={\n",
    "        \"value\": \"Thousand Tonnes\",\n",
    "        \"Financial Year\": \"Year\",\n",
    "        \"variable\": \"Category\"\n",
    "    },\n",
    "    hover_data={\"Financial Year\": True, \"value\":\":.1f\"}  # 1 decimal place\n",
    ")\n",
    "\n",
    "# Layout adjustments\n",
    "fig.update_layout(\n",
    "    hovermode=\"x unified\",\n",
    "    legend_title_text=\"Waste Flow\",\n",
    "    template=\"plotly_white\",\n",
    "    title_x=0.5,    \n",
    "    height=600 \n",
    ")\n",
    "\n",
    "fig.show()\n"
   ]
  },
  {
   "cell_type": "markdown",
   "id": "364270ea-ef68-476d-82b1-2c33e6f1bb87",
   "metadata": {},
   "source": [
    "## Visualization 2: Waste Flows by Material Type (Victoria)"
   ]
  },
  {
   "cell_type": "markdown",
   "id": "f257dd38-d58c-4248-9acf-69f90722f0cd",
   "metadata": {},
   "source": [
    "This chart shows how Victoria manages different waste types (e.g., organics, paper, plastics, metals) over time.  \n",
    "It helps newcomers understand **which materials matter most**, how much is recycled vs. landfilled, and why proper sorting is important.  \n",
    "By linking individual behaviour to broader outcomes, it encourages sustainable habits from day one."
   ]
  },
  {
   "cell_type": "code",
   "execution_count": 37,
   "id": "6b24d467-4ad1-49c5-9207-2f4466c6edfd",
   "metadata": {},
   "outputs": [
    {
     "data": {
      "application/vnd.plotly.v1+json": {
       "config": {
        "plotlyServerURL": "https://plot.ly"
       },
       "data": [
        {
         "alignmentgroup": "True",
         "hovertemplate": "%{x}<br>%{legendgroup}: %{y:.1f} kT",
         "legendgroup": "Disposal",
         "marker": {
          "color": "#636efa",
          "pattern": {
           "shape": ""
          }
         },
         "name": "Disposal",
         "offsetgroup": "Disposal",
         "orientation": "v",
         "showlegend": true,
         "textposition": "auto",
         "type": "bar",
         "x": [
          "Glass",
          "Metals",
          "Organics",
          "Paper and cardboard",
          "Plastic",
          "Textiles",
          "Tyres and rubber"
         ],
         "xaxis": "x",
         "y": [
          120.38248107300001,
          145.38906492899997,
          1549.026167257,
          545.944275057,
          548.258050509,
          185.332261765,
          11.444356955
         ],
         "yaxis": "y"
        },
        {
         "alignmentgroup": "True",
         "hovertemplate": "%{x}<br>%{legendgroup}: %{y:.1f} kT",
         "legendgroup": "Recovered locally",
         "marker": {
          "color": "#EF553B",
          "pattern": {
           "shape": ""
          }
         },
         "name": "Recovered locally",
         "offsetgroup": "Recovered locally",
         "orientation": "v",
         "showlegend": true,
         "textposition": "auto",
         "type": "bar",
         "x": [
          "Glass",
          "Metals",
          "Organics",
          "Paper and cardboard",
          "Plastic",
          "Textiles",
          "Tyres and rubber"
         ],
         "xaxis": "x",
         "y": [
          181.754,
          890.9430800000001,
          818.0014,
          857.38348,
          31.341238347,
          24.7446,
          66.602
         ],
         "yaxis": "y"
        },
        {
         "alignmentgroup": "True",
         "hovertemplate": "%{x}<br>%{legendgroup}: %{y:.1f} kT",
         "legendgroup": "Exports",
         "marker": {
          "color": "#00cc96",
          "pattern": {
           "shape": ""
          }
         },
         "name": "Exports",
         "offsetgroup": "Exports",
         "orientation": "v",
         "showlegend": true,
         "textposition": "auto",
         "type": "bar",
         "x": [
          "Glass",
          "Metals",
          "Organics",
          "Paper and cardboard",
          "Plastic",
          "Textiles",
          "Tyres and rubber"
         ],
         "xaxis": "x",
         "y": [
          3.165,
          255.129,
          0,
          719.971,
          118.43231051229829,
          49.979,
          22.228
         ],
         "yaxis": "y"
        }
       ],
       "frames": [
        {
         "data": [
          {
           "alignmentgroup": "True",
           "hovertemplate": "Flow=Disposal<br>Financial Year=2015-2016<br>Material type=%{x}<br>Thousand tonnes (kT)=%{y}<extra></extra>",
           "legendgroup": "Disposal",
           "marker": {
            "color": "#636efa",
            "pattern": {
             "shape": ""
            }
           },
           "name": "Disposal",
           "offsetgroup": "Disposal",
           "orientation": "v",
           "showlegend": true,
           "textposition": "auto",
           "type": "bar",
           "x": [
            "Glass",
            "Metals",
            "Organics",
            "Paper and cardboard",
            "Plastic",
            "Textiles",
            "Tyres and rubber"
           ],
           "xaxis": "x",
           "y": [
            120.38248107300001,
            145.38906492899997,
            1549.026167257,
            545.944275057,
            548.258050509,
            185.332261765,
            11.444356955
           ],
           "yaxis": "y"
          },
          {
           "alignmentgroup": "True",
           "hovertemplate": "Flow=Recovered locally<br>Financial Year=2015-2016<br>Material type=%{x}<br>Thousand tonnes (kT)=%{y}<extra></extra>",
           "legendgroup": "Recovered locally",
           "marker": {
            "color": "#EF553B",
            "pattern": {
             "shape": ""
            }
           },
           "name": "Recovered locally",
           "offsetgroup": "Recovered locally",
           "orientation": "v",
           "showlegend": true,
           "textposition": "auto",
           "type": "bar",
           "x": [
            "Glass",
            "Metals",
            "Organics",
            "Paper and cardboard",
            "Plastic",
            "Textiles",
            "Tyres and rubber"
           ],
           "xaxis": "x",
           "y": [
            181.754,
            890.9430800000001,
            818.0014,
            857.38348,
            31.341238347,
            24.7446,
            66.602
           ],
           "yaxis": "y"
          },
          {
           "alignmentgroup": "True",
           "hovertemplate": "Flow=Exports<br>Financial Year=2015-2016<br>Material type=%{x}<br>Thousand tonnes (kT)=%{y}<extra></extra>",
           "legendgroup": "Exports",
           "marker": {
            "color": "#00cc96",
            "pattern": {
             "shape": ""
            }
           },
           "name": "Exports",
           "offsetgroup": "Exports",
           "orientation": "v",
           "showlegend": true,
           "textposition": "auto",
           "type": "bar",
           "x": [
            "Glass",
            "Metals",
            "Organics",
            "Paper and cardboard",
            "Plastic",
            "Textiles",
            "Tyres and rubber"
           ],
           "xaxis": "x",
           "y": [
            3.165,
            255.129,
            0,
            719.971,
            118.43231051229829,
            49.979,
            22.228
           ],
           "yaxis": "y"
          }
         ],
         "name": "2015-2016"
        },
        {
         "data": [
          {
           "alignmentgroup": "True",
           "hovertemplate": "Flow=Disposal<br>Financial Year=2016-2017<br>Material type=%{x}<br>Thousand tonnes (kT)=%{y}<extra></extra>",
           "legendgroup": "Disposal",
           "marker": {
            "color": "#636efa",
            "pattern": {
             "shape": ""
            }
           },
           "name": "Disposal",
           "offsetgroup": "Disposal",
           "orientation": "v",
           "showlegend": true,
           "textposition": "auto",
           "type": "bar",
           "x": [
            "Glass",
            "Metals",
            "Organics",
            "Paper and cardboard",
            "Plastic",
            "Textiles",
            "Tyres and rubber"
           ],
           "xaxis": "x",
           "y": [
            123.051559108,
            147.34258305,
            1579.0094339759999,
            555.500850418,
            558.964698203,
            188.218424124,
            11.53115757
           ],
           "yaxis": "y"
          },
          {
           "alignmentgroup": "True",
           "hovertemplate": "Flow=Recovered locally<br>Financial Year=2016-2017<br>Material type=%{x}<br>Thousand tonnes (kT)=%{y}<extra></extra>",
           "legendgroup": "Recovered locally",
           "marker": {
            "color": "#EF553B",
            "pattern": {
             "shape": ""
            }
           },
           "name": "Recovered locally",
           "offsetgroup": "Recovered locally",
           "orientation": "v",
           "showlegend": true,
           "textposition": "auto",
           "type": "bar",
           "x": [
            "Glass",
            "Metals",
            "Organics",
            "Paper and cardboard",
            "Plastic",
            "Textiles",
            "Tyres and rubber"
           ],
           "xaxis": "x",
           "y": [
            142.554,
            1274.91152,
            877.4826,
            784.94512,
            57.708864950000006,
            0.6824,
            39.43
           ],
           "yaxis": "y"
          },
          {
           "alignmentgroup": "True",
           "hovertemplate": "Flow=Exports<br>Financial Year=2016-2017<br>Material type=%{x}<br>Thousand tonnes (kT)=%{y}<extra></extra>",
           "legendgroup": "Exports",
           "marker": {
            "color": "#00cc96",
            "pattern": {
             "shape": ""
            }
           },
           "name": "Exports",
           "offsetgroup": "Exports",
           "orientation": "v",
           "showlegend": true,
           "textposition": "auto",
           "type": "bar",
           "x": [
            "Glass",
            "Metals",
            "Organics",
            "Paper and cardboard",
            "Plastic",
            "Textiles",
            "Tyres and rubber"
           ],
           "xaxis": "x",
           "y": [
            2.817,
            320.417999999,
            0,
            660.423,
            103.955250001,
            53.798,
            20.793
           ],
           "yaxis": "y"
          }
         ],
         "name": "2016-2017"
        },
        {
         "data": [
          {
           "alignmentgroup": "True",
           "hovertemplate": "Flow=Disposal<br>Financial Year=2017-2018<br>Material type=%{x}<br>Thousand tonnes (kT)=%{y}<extra></extra>",
           "legendgroup": "Disposal",
           "marker": {
            "color": "#636efa",
            "pattern": {
             "shape": ""
            }
           },
           "name": "Disposal",
           "offsetgroup": "Disposal",
           "orientation": "v",
           "showlegend": true,
           "textposition": "auto",
           "type": "bar",
           "x": [
            "Glass",
            "Metals",
            "Organics",
            "Paper and cardboard",
            "Plastic",
            "Textiles",
            "Tyres and rubber"
           ],
           "xaxis": "x",
           "y": [
            126.667092692,
            158.97942939100002,
            1641.975666826,
            595.743101593,
            587.636328467,
            203.236190366,
            13.308830799999999
           ],
           "yaxis": "y"
          },
          {
           "alignmentgroup": "True",
           "hovertemplate": "Flow=Recovered locally<br>Financial Year=2017-2018<br>Material type=%{x}<br>Thousand tonnes (kT)=%{y}<extra></extra>",
           "legendgroup": "Recovered locally",
           "marker": {
            "color": "#EF553B",
            "pattern": {
             "shape": ""
            }
           },
           "name": "Recovered locally",
           "offsetgroup": "Recovered locally",
           "orientation": "v",
           "showlegend": true,
           "textposition": "auto",
           "type": "bar",
           "x": [
            "Glass",
            "Metals",
            "Organics",
            "Paper and cardboard",
            "Plastic",
            "Textiles",
            "Tyres and rubber"
           ],
           "xaxis": "x",
           "y": [
            218.376,
            966.433,
            887.551,
            659.522,
            49.098657708,
            0,
            42.17
           ],
           "yaxis": "y"
          },
          {
           "alignmentgroup": "True",
           "hovertemplate": "Flow=Exports<br>Financial Year=2017-2018<br>Material type=%{x}<br>Thousand tonnes (kT)=%{y}<extra></extra>",
           "legendgroup": "Exports",
           "marker": {
            "color": "#00cc96",
            "pattern": {
             "shape": ""
            }
           },
           "name": "Exports",
           "offsetgroup": "Exports",
           "orientation": "v",
           "showlegend": true,
           "textposition": "auto",
           "type": "bar",
           "x": [
            "Glass",
            "Metals",
            "Organics",
            "Paper and cardboard",
            "Plastic",
            "Textiles",
            "Tyres and rubber"
           ],
           "xaxis": "x",
           "y": [
            11.621,
            495.516000001,
            0,
            632.276,
            88.06877588383838,
            55.774,
            36.508
           ],
           "yaxis": "y"
          }
         ],
         "name": "2017-2018"
        },
        {
         "data": [
          {
           "alignmentgroup": "True",
           "hovertemplate": "Flow=Disposal<br>Financial Year=2018-2019<br>Material type=%{x}<br>Thousand tonnes (kT)=%{y}<extra></extra>",
           "legendgroup": "Disposal",
           "marker": {
            "color": "#636efa",
            "pattern": {
             "shape": ""
            }
           },
           "name": "Disposal",
           "offsetgroup": "Disposal",
           "orientation": "v",
           "showlegend": true,
           "textposition": "auto",
           "type": "bar",
           "x": [
            "Glass",
            "Metals",
            "Organics",
            "Paper and cardboard",
            "Plastic",
            "Textiles",
            "Tyres and rubber"
           ],
           "xaxis": "x",
           "y": [
            130.592070555,
            166.313840631,
            1652.911684065,
            619.367789119,
            608.733747886,
            211.94097427399998,
            14.054993606
           ],
           "yaxis": "y"
          },
          {
           "alignmentgroup": "True",
           "hovertemplate": "Flow=Recovered locally<br>Financial Year=2018-2019<br>Material type=%{x}<br>Thousand tonnes (kT)=%{y}<extra></extra>",
           "legendgroup": "Recovered locally",
           "marker": {
            "color": "#EF553B",
            "pattern": {
             "shape": ""
            }
           },
           "name": "Recovered locally",
           "offsetgroup": "Recovered locally",
           "orientation": "v",
           "showlegend": true,
           "textposition": "auto",
           "type": "bar",
           "x": [
            "Glass",
            "Metals",
            "Organics",
            "Paper and cardboard",
            "Plastic",
            "Textiles",
            "Tyres and rubber"
           ],
           "xaxis": "x",
           "y": [
            180.268,
            863.6933,
            877.216,
            686.948,
            62.452414516,
            17.461625,
            47.001625
           ],
           "yaxis": "y"
          },
          {
           "alignmentgroup": "True",
           "hovertemplate": "Flow=Exports<br>Financial Year=2018-2019<br>Material type=%{x}<br>Thousand tonnes (kT)=%{y}<extra></extra>",
           "legendgroup": "Exports",
           "marker": {
            "color": "#00cc96",
            "pattern": {
             "shape": ""
            }
           },
           "name": "Exports",
           "offsetgroup": "Exports",
           "orientation": "v",
           "showlegend": true,
           "textposition": "auto",
           "type": "bar",
           "x": [
            "Glass",
            "Metals",
            "Organics",
            "Paper and cardboard",
            "Plastic",
            "Textiles",
            "Tyres and rubber"
           ],
           "xaxis": "x",
           "y": [
            14.384999999,
            490.795000001,
            0,
            483.986999999,
            80.06434950100001,
            60.25,
            41.884
           ],
           "yaxis": "y"
          }
         ],
         "name": "2018-2019"
        },
        {
         "data": [
          {
           "alignmentgroup": "True",
           "hovertemplate": "Flow=Disposal<br>Financial Year=2019-2020<br>Material type=%{x}<br>Thousand tonnes (kT)=%{y}<extra></extra>",
           "legendgroup": "Disposal",
           "marker": {
            "color": "#636efa",
            "pattern": {
             "shape": ""
            }
           },
           "name": "Disposal",
           "offsetgroup": "Disposal",
           "orientation": "v",
           "showlegend": true,
           "textposition": "auto",
           "type": "bar",
           "x": [
            "Glass",
            "Metals",
            "Organics",
            "Paper and cardboard",
            "Plastic",
            "Textiles",
            "Tyres and rubber"
           ],
           "xaxis": "x",
           "y": [
            140.008867385,
            176.05948738100003,
            1716.817415287,
            659.210504924,
            649.9333772719999,
            224.977650507,
            14.757050869999999
           ],
           "yaxis": "y"
          },
          {
           "alignmentgroup": "True",
           "hovertemplate": "Flow=Recovered locally<br>Financial Year=2019-2020<br>Material type=%{x}<br>Thousand tonnes (kT)=%{y}<extra></extra>",
           "legendgroup": "Recovered locally",
           "marker": {
            "color": "#EF553B",
            "pattern": {
             "shape": ""
            }
           },
           "name": "Recovered locally",
           "offsetgroup": "Recovered locally",
           "orientation": "v",
           "showlegend": true,
           "textposition": "auto",
           "type": "bar",
           "x": [
            "Glass",
            "Metals",
            "Organics",
            "Paper and cardboard",
            "Plastic",
            "Textiles",
            "Tyres and rubber"
           ],
           "xaxis": "x",
           "y": [
            296.804,
            839.5283000000001,
            1137.5096,
            616.152,
            80.212921743,
            15.640375,
            48.198375
           ],
           "yaxis": "y"
          },
          {
           "alignmentgroup": "True",
           "hovertemplate": "Flow=Exports<br>Financial Year=2019-2020<br>Material type=%{x}<br>Thousand tonnes (kT)=%{y}<extra></extra>",
           "legendgroup": "Exports",
           "marker": {
            "color": "#00cc96",
            "pattern": {
             "shape": ""
            }
           },
           "name": "Exports",
           "offsetgroup": "Exports",
           "orientation": "v",
           "showlegend": true,
           "textposition": "auto",
           "type": "bar",
           "x": [
            "Glass",
            "Metals",
            "Organics",
            "Paper and cardboard",
            "Plastic",
            "Textiles",
            "Tyres and rubber"
           ],
           "xaxis": "x",
           "y": [
            3.911999999,
            524.557999999,
            70.002,
            415.658,
            60.073320229,
            51.194,
            31.937
           ],
           "yaxis": "y"
          }
         ],
         "name": "2019-2020"
        },
        {
         "data": [
          {
           "alignmentgroup": "True",
           "hovertemplate": "Flow=Disposal<br>Financial Year=2020-2021<br>Material type=%{x}<br>Thousand tonnes (kT)=%{y}<extra></extra>",
           "legendgroup": "Disposal",
           "marker": {
            "color": "#636efa",
            "pattern": {
             "shape": ""
            }
           },
           "name": "Disposal",
           "offsetgroup": "Disposal",
           "orientation": "v",
           "showlegend": true,
           "textposition": "auto",
           "type": "bar",
           "x": [
            "Glass",
            "Metals",
            "Organics",
            "Paper and cardboard",
            "Plastic",
            "Textiles",
            "Tyres and rubber"
           ],
           "xaxis": "x",
           "y": [
            138.07908951299999,
            175.068112343,
            1658.566091738,
            653.202615381,
            642.696802455,
            223.311432578,
            14.752579019999999
           ],
           "yaxis": "y"
          },
          {
           "alignmentgroup": "True",
           "hovertemplate": "Flow=Recovered locally<br>Financial Year=2020-2021<br>Material type=%{x}<br>Thousand tonnes (kT)=%{y}<extra></extra>",
           "legendgroup": "Recovered locally",
           "marker": {
            "color": "#EF553B",
            "pattern": {
             "shape": ""
            }
           },
           "name": "Recovered locally",
           "offsetgroup": "Recovered locally",
           "orientation": "v",
           "showlegend": true,
           "textposition": "auto",
           "type": "bar",
           "x": [
            "Glass",
            "Metals",
            "Organics",
            "Paper and cardboard",
            "Plastic",
            "Textiles",
            "Tyres and rubber"
           ],
           "xaxis": "x",
           "y": [
            334.64,
            856.9653000000001,
            1663.355724,
            519.294,
            79.68643628199999,
            15.213875,
            57.693875
           ],
           "yaxis": "y"
          },
          {
           "alignmentgroup": "True",
           "hovertemplate": "Flow=Exports<br>Financial Year=2020-2021<br>Material type=%{x}<br>Thousand tonnes (kT)=%{y}<extra></extra>",
           "legendgroup": "Exports",
           "marker": {
            "color": "#00cc96",
            "pattern": {
             "shape": ""
            }
           },
           "name": "Exports",
           "offsetgroup": "Exports",
           "orientation": "v",
           "showlegend": true,
           "textposition": "auto",
           "type": "bar",
           "x": [
            "Glass",
            "Metals",
            "Organics",
            "Paper and cardboard",
            "Plastic",
            "Textiles",
            "Tyres and rubber"
           ],
           "xaxis": "x",
           "y": [
            0,
            522.463,
            0,
            340.199,
            62.010574451000004,
            50.279,
            34.515
           ],
           "yaxis": "y"
          }
         ],
         "name": "2020-2021"
        },
        {
         "data": [
          {
           "alignmentgroup": "True",
           "hovertemplate": "Flow=Disposal<br>Financial Year=2021-2022<br>Material type=%{x}<br>Thousand tonnes (kT)=%{y}<extra></extra>",
           "legendgroup": "Disposal",
           "marker": {
            "color": "#636efa",
            "pattern": {
             "shape": ""
            }
           },
           "name": "Disposal",
           "offsetgroup": "Disposal",
           "orientation": "v",
           "showlegend": true,
           "textposition": "auto",
           "type": "bar",
           "x": [
            "Glass",
            "Metals",
            "Organics",
            "Paper and cardboard",
            "Plastic",
            "Textiles",
            "Tyres and rubber"
           ],
           "xaxis": "x",
           "y": [
            131.717154786,
            170.41986158000003,
            1564.352217989,
            630.436782533,
            617.184598288,
            216.438983253,
            14.546577055
           ],
           "yaxis": "y"
          },
          {
           "alignmentgroup": "True",
           "hovertemplate": "Flow=Recovered locally<br>Financial Year=2021-2022<br>Material type=%{x}<br>Thousand tonnes (kT)=%{y}<extra></extra>",
           "legendgroup": "Recovered locally",
           "marker": {
            "color": "#EF553B",
            "pattern": {
             "shape": ""
            }
           },
           "name": "Recovered locally",
           "offsetgroup": "Recovered locally",
           "orientation": "v",
           "showlegend": true,
           "textposition": "auto",
           "type": "bar",
           "x": [
            "Glass",
            "Metals",
            "Organics",
            "Paper and cardboard",
            "Plastic",
            "Textiles",
            "Tyres and rubber"
           ],
           "xaxis": "x",
           "y": [
            225.13,
            770.489,
            1410.2617,
            657.6395,
            126.09076030789225,
            2.097,
            14.2
           ],
           "yaxis": "y"
          },
          {
           "alignmentgroup": "True",
           "hovertemplate": "Flow=Exports<br>Financial Year=2021-2022<br>Material type=%{x}<br>Thousand tonnes (kT)=%{y}<extra></extra>",
           "legendgroup": "Exports",
           "marker": {
            "color": "#00cc96",
            "pattern": {
             "shape": ""
            }
           },
           "name": "Exports",
           "offsetgroup": "Exports",
           "orientation": "v",
           "showlegend": true,
           "textposition": "auto",
           "type": "bar",
           "x": [
            "Glass",
            "Metals",
            "Organics",
            "Paper and cardboard",
            "Plastic",
            "Textiles",
            "Tyres and rubber"
           ],
           "xaxis": "x",
           "y": [
            1.637,
            606.4970000010001,
            0,
            276.135,
            62.69516478084101,
            56.425,
            32.92
           ],
           "yaxis": "y"
          }
         ],
         "name": "2021-2022"
        },
        {
         "data": [
          {
           "alignmentgroup": "True",
           "hovertemplate": "Flow=Disposal<br>Financial Year=2022-2023<br>Material type=%{x}<br>Thousand tonnes (kT)=%{y}<extra></extra>",
           "legendgroup": "Disposal",
           "marker": {
            "color": "#636efa",
            "pattern": {
             "shape": ""
            }
           },
           "name": "Disposal",
           "offsetgroup": "Disposal",
           "orientation": "v",
           "showlegend": true,
           "textposition": "auto",
           "type": "bar",
           "x": [
            "Glass",
            "Metals",
            "Organics",
            "Paper and cardboard",
            "Plastic",
            "Textiles",
            "Tyres and rubber"
           ],
           "xaxis": "x",
           "y": [
            133.523085569,
            169.930136151,
            1571.6892454840001,
            633.01914635,
            622.256505585,
            216.58137546700002,
            14.354303457
           ],
           "yaxis": "y"
          },
          {
           "alignmentgroup": "True",
           "hovertemplate": "Flow=Recovered locally<br>Financial Year=2022-2023<br>Material type=%{x}<br>Thousand tonnes (kT)=%{y}<extra></extra>",
           "legendgroup": "Recovered locally",
           "marker": {
            "color": "#EF553B",
            "pattern": {
             "shape": ""
            }
           },
           "name": "Recovered locally",
           "offsetgroup": "Recovered locally",
           "orientation": "v",
           "showlegend": true,
           "textposition": "auto",
           "type": "bar",
           "x": [
            "Glass",
            "Metals",
            "Organics",
            "Paper and cardboard",
            "Plastic",
            "Textiles",
            "Tyres and rubber"
           ],
           "xaxis": "x",
           "y": [
            232.83,
            765.65932,
            1486.7733,
            651.7134199999999,
            128.79359835932377,
            2.1294,
            23.7
           ],
           "yaxis": "y"
          },
          {
           "alignmentgroup": "True",
           "hovertemplate": "Flow=Exports<br>Financial Year=2022-2023<br>Material type=%{x}<br>Thousand tonnes (kT)=%{y}<extra></extra>",
           "legendgroup": "Exports",
           "marker": {
            "color": "#00cc96",
            "pattern": {
             "shape": ""
            }
           },
           "name": "Exports",
           "offsetgroup": "Exports",
           "orientation": "v",
           "showlegend": true,
           "textposition": "auto",
           "type": "bar",
           "x": [
            "Glass",
            "Metals",
            "Organics",
            "Paper and cardboard",
            "Plastic",
            "Textiles",
            "Tyres and rubber"
           ],
           "xaxis": "x",
           "y": [
            1.008,
            512.225,
            0,
            266.5,
            52.30605396954928,
            64.628,
            18.207
           ],
           "yaxis": "y"
          }
         ],
         "name": "2022-2023"
        },
        {
         "data": [
          {
           "alignmentgroup": "True",
           "hovertemplate": "Flow=Disposal<br>Financial Year=2023-2024<br>Material type=%{x}<br>Thousand tonnes (kT)=%{y}<extra></extra>",
           "legendgroup": "Disposal",
           "marker": {
            "color": "#636efa",
            "pattern": {
             "shape": ""
            }
           },
           "name": "Disposal",
           "offsetgroup": "Disposal",
           "orientation": "v",
           "showlegend": true,
           "textposition": "auto",
           "type": "bar",
           "x": [
            "Glass",
            "Metals",
            "Organics",
            "Paper and cardboard",
            "Plastic",
            "Textiles",
            "Tyres and rubber"
           ],
           "xaxis": "x",
           "y": [
            125.20233425800001,
            163.380851096,
            1493.918720422,
            602.236133557,
            588.325601282,
            207.123262792,
            14.019753643999998
           ],
           "yaxis": "y"
          },
          {
           "alignmentgroup": "True",
           "hovertemplate": "Flow=Recovered locally<br>Financial Year=2023-2024<br>Material type=%{x}<br>Thousand tonnes (kT)=%{y}<extra></extra>",
           "legendgroup": "Recovered locally",
           "marker": {
            "color": "#EF553B",
            "pattern": {
             "shape": ""
            }
           },
           "name": "Recovered locally",
           "offsetgroup": "Recovered locally",
           "orientation": "v",
           "showlegend": true,
           "textposition": "auto",
           "type": "bar",
           "x": [
            "Glass",
            "Metals",
            "Organics",
            "Paper and cardboard",
            "Plastic",
            "Textiles",
            "Tyres and rubber"
           ],
           "xaxis": "x",
           "y": [
            223.417,
            915.7528599999999,
            1581.6388499999998,
            698.7164099999999,
            162.10124849020335,
            2.2001999999999997,
            26.5
           ],
           "yaxis": "y"
          },
          {
           "alignmentgroup": "True",
           "hovertemplate": "Flow=Exports<br>Financial Year=2023-2024<br>Material type=%{x}<br>Thousand tonnes (kT)=%{y}<extra></extra>",
           "legendgroup": "Exports",
           "marker": {
            "color": "#00cc96",
            "pattern": {
             "shape": ""
            }
           },
           "name": "Exports",
           "offsetgroup": "Exports",
           "orientation": "v",
           "showlegend": true,
           "textposition": "auto",
           "type": "bar",
           "x": [
            "Glass",
            "Metals",
            "Organics",
            "Paper and cardboard",
            "Plastic",
            "Textiles",
            "Tyres and rubber"
           ],
           "xaxis": "x",
           "y": [
            0,
            634.6656175800001,
            0,
            306.173323,
            44.84978556474825,
            71.06241572,
            32.919934999
           ],
           "yaxis": "y"
          }
         ],
         "name": "2023-2024"
        }
       ],
       "layout": {
        "autosize": true,
        "barmode": "stack",
        "hovermode": "x unified",
        "legend": {
         "title": {
          "text": "Waste flow"
         },
         "tracegroupgap": 0
        },
        "margin": {
         "b": 180
        },
        "sliders": [
         {
          "active": 0,
          "currentvalue": {
           "font": {
            "size": 11
           },
           "prefix": ""
          },
          "len": 0.9,
          "pad": {
           "b": 0,
           "t": 150
          },
          "steps": [
           {
            "args": [
             [
              "2015-2016"
             ],
             {
              "frame": {
               "duration": 0,
               "redraw": true
              },
              "fromcurrent": true,
              "mode": "immediate",
              "transition": {
               "duration": 0,
               "easing": "linear"
              }
             }
            ],
            "label": "2015-2016",
            "method": "animate"
           },
           {
            "args": [
             [
              "2016-2017"
             ],
             {
              "frame": {
               "duration": 0,
               "redraw": true
              },
              "fromcurrent": true,
              "mode": "immediate",
              "transition": {
               "duration": 0,
               "easing": "linear"
              }
             }
            ],
            "label": "2016-2017",
            "method": "animate"
           },
           {
            "args": [
             [
              "2017-2018"
             ],
             {
              "frame": {
               "duration": 0,
               "redraw": true
              },
              "fromcurrent": true,
              "mode": "immediate",
              "transition": {
               "duration": 0,
               "easing": "linear"
              }
             }
            ],
            "label": "2017-2018",
            "method": "animate"
           },
           {
            "args": [
             [
              "2018-2019"
             ],
             {
              "frame": {
               "duration": 0,
               "redraw": true
              },
              "fromcurrent": true,
              "mode": "immediate",
              "transition": {
               "duration": 0,
               "easing": "linear"
              }
             }
            ],
            "label": "2018-2019",
            "method": "animate"
           },
           {
            "args": [
             [
              "2019-2020"
             ],
             {
              "frame": {
               "duration": 0,
               "redraw": true
              },
              "fromcurrent": true,
              "mode": "immediate",
              "transition": {
               "duration": 0,
               "easing": "linear"
              }
             }
            ],
            "label": "2019-2020",
            "method": "animate"
           },
           {
            "args": [
             [
              "2020-2021"
             ],
             {
              "frame": {
               "duration": 0,
               "redraw": true
              },
              "fromcurrent": true,
              "mode": "immediate",
              "transition": {
               "duration": 0,
               "easing": "linear"
              }
             }
            ],
            "label": "2020-2021",
            "method": "animate"
           },
           {
            "args": [
             [
              "2021-2022"
             ],
             {
              "frame": {
               "duration": 0,
               "redraw": true
              },
              "fromcurrent": true,
              "mode": "immediate",
              "transition": {
               "duration": 0,
               "easing": "linear"
              }
             }
            ],
            "label": "2021-2022",
            "method": "animate"
           },
           {
            "args": [
             [
              "2022-2023"
             ],
             {
              "frame": {
               "duration": 0,
               "redraw": true
              },
              "fromcurrent": true,
              "mode": "immediate",
              "transition": {
               "duration": 0,
               "easing": "linear"
              }
             }
            ],
            "label": "2022-2023",
            "method": "animate"
           },
           {
            "args": [
             [
              "2023-2024"
             ],
             {
              "frame": {
               "duration": 0,
               "redraw": true
              },
              "fromcurrent": true,
              "mode": "immediate",
              "transition": {
               "duration": 0,
               "easing": "linear"
              }
             }
            ],
            "label": "2023-2024",
            "method": "animate"
           }
          ],
          "x": 0.1,
          "xanchor": "left",
          "y": -0.05,
          "yanchor": "top"
         }
        ],
        "template": {
         "data": {
          "bar": [
           {
            "error_x": {
             "color": "#2a3f5f"
            },
            "error_y": {
             "color": "#2a3f5f"
            },
            "marker": {
             "line": {
              "color": "white",
              "width": 0.5
             },
             "pattern": {
              "fillmode": "overlay",
              "size": 10,
              "solidity": 0.2
             }
            },
            "type": "bar"
           }
          ],
          "barpolar": [
           {
            "marker": {
             "line": {
              "color": "white",
              "width": 0.5
             },
             "pattern": {
              "fillmode": "overlay",
              "size": 10,
              "solidity": 0.2
             }
            },
            "type": "barpolar"
           }
          ],
          "carpet": [
           {
            "aaxis": {
             "endlinecolor": "#2a3f5f",
             "gridcolor": "#C8D4E3",
             "linecolor": "#C8D4E3",
             "minorgridcolor": "#C8D4E3",
             "startlinecolor": "#2a3f5f"
            },
            "baxis": {
             "endlinecolor": "#2a3f5f",
             "gridcolor": "#C8D4E3",
             "linecolor": "#C8D4E3",
             "minorgridcolor": "#C8D4E3",
             "startlinecolor": "#2a3f5f"
            },
            "type": "carpet"
           }
          ],
          "choropleth": [
           {
            "colorbar": {
             "outlinewidth": 0,
             "ticks": ""
            },
            "type": "choropleth"
           }
          ],
          "contour": [
           {
            "colorbar": {
             "outlinewidth": 0,
             "ticks": ""
            },
            "colorscale": [
             [
              0,
              "#0d0887"
             ],
             [
              0.1111111111111111,
              "#46039f"
             ],
             [
              0.2222222222222222,
              "#7201a8"
             ],
             [
              0.3333333333333333,
              "#9c179e"
             ],
             [
              0.4444444444444444,
              "#bd3786"
             ],
             [
              0.5555555555555556,
              "#d8576b"
             ],
             [
              0.6666666666666666,
              "#ed7953"
             ],
             [
              0.7777777777777778,
              "#fb9f3a"
             ],
             [
              0.8888888888888888,
              "#fdca26"
             ],
             [
              1,
              "#f0f921"
             ]
            ],
            "type": "contour"
           }
          ],
          "contourcarpet": [
           {
            "colorbar": {
             "outlinewidth": 0,
             "ticks": ""
            },
            "type": "contourcarpet"
           }
          ],
          "heatmap": [
           {
            "colorbar": {
             "outlinewidth": 0,
             "ticks": ""
            },
            "colorscale": [
             [
              0,
              "#0d0887"
             ],
             [
              0.1111111111111111,
              "#46039f"
             ],
             [
              0.2222222222222222,
              "#7201a8"
             ],
             [
              0.3333333333333333,
              "#9c179e"
             ],
             [
              0.4444444444444444,
              "#bd3786"
             ],
             [
              0.5555555555555556,
              "#d8576b"
             ],
             [
              0.6666666666666666,
              "#ed7953"
             ],
             [
              0.7777777777777778,
              "#fb9f3a"
             ],
             [
              0.8888888888888888,
              "#fdca26"
             ],
             [
              1,
              "#f0f921"
             ]
            ],
            "type": "heatmap"
           }
          ],
          "heatmapgl": [
           {
            "colorbar": {
             "outlinewidth": 0,
             "ticks": ""
            },
            "colorscale": [
             [
              0,
              "#0d0887"
             ],
             [
              0.1111111111111111,
              "#46039f"
             ],
             [
              0.2222222222222222,
              "#7201a8"
             ],
             [
              0.3333333333333333,
              "#9c179e"
             ],
             [
              0.4444444444444444,
              "#bd3786"
             ],
             [
              0.5555555555555556,
              "#d8576b"
             ],
             [
              0.6666666666666666,
              "#ed7953"
             ],
             [
              0.7777777777777778,
              "#fb9f3a"
             ],
             [
              0.8888888888888888,
              "#fdca26"
             ],
             [
              1,
              "#f0f921"
             ]
            ],
            "type": "heatmapgl"
           }
          ],
          "histogram": [
           {
            "marker": {
             "pattern": {
              "fillmode": "overlay",
              "size": 10,
              "solidity": 0.2
             }
            },
            "type": "histogram"
           }
          ],
          "histogram2d": [
           {
            "colorbar": {
             "outlinewidth": 0,
             "ticks": ""
            },
            "colorscale": [
             [
              0,
              "#0d0887"
             ],
             [
              0.1111111111111111,
              "#46039f"
             ],
             [
              0.2222222222222222,
              "#7201a8"
             ],
             [
              0.3333333333333333,
              "#9c179e"
             ],
             [
              0.4444444444444444,
              "#bd3786"
             ],
             [
              0.5555555555555556,
              "#d8576b"
             ],
             [
              0.6666666666666666,
              "#ed7953"
             ],
             [
              0.7777777777777778,
              "#fb9f3a"
             ],
             [
              0.8888888888888888,
              "#fdca26"
             ],
             [
              1,
              "#f0f921"
             ]
            ],
            "type": "histogram2d"
           }
          ],
          "histogram2dcontour": [
           {
            "colorbar": {
             "outlinewidth": 0,
             "ticks": ""
            },
            "colorscale": [
             [
              0,
              "#0d0887"
             ],
             [
              0.1111111111111111,
              "#46039f"
             ],
             [
              0.2222222222222222,
              "#7201a8"
             ],
             [
              0.3333333333333333,
              "#9c179e"
             ],
             [
              0.4444444444444444,
              "#bd3786"
             ],
             [
              0.5555555555555556,
              "#d8576b"
             ],
             [
              0.6666666666666666,
              "#ed7953"
             ],
             [
              0.7777777777777778,
              "#fb9f3a"
             ],
             [
              0.8888888888888888,
              "#fdca26"
             ],
             [
              1,
              "#f0f921"
             ]
            ],
            "type": "histogram2dcontour"
           }
          ],
          "mesh3d": [
           {
            "colorbar": {
             "outlinewidth": 0,
             "ticks": ""
            },
            "type": "mesh3d"
           }
          ],
          "parcoords": [
           {
            "line": {
             "colorbar": {
              "outlinewidth": 0,
              "ticks": ""
             }
            },
            "type": "parcoords"
           }
          ],
          "pie": [
           {
            "automargin": true,
            "type": "pie"
           }
          ],
          "scatter": [
           {
            "fillpattern": {
             "fillmode": "overlay",
             "size": 10,
             "solidity": 0.2
            },
            "type": "scatter"
           }
          ],
          "scatter3d": [
           {
            "line": {
             "colorbar": {
              "outlinewidth": 0,
              "ticks": ""
             }
            },
            "marker": {
             "colorbar": {
              "outlinewidth": 0,
              "ticks": ""
             }
            },
            "type": "scatter3d"
           }
          ],
          "scattercarpet": [
           {
            "marker": {
             "colorbar": {
              "outlinewidth": 0,
              "ticks": ""
             }
            },
            "type": "scattercarpet"
           }
          ],
          "scattergeo": [
           {
            "marker": {
             "colorbar": {
              "outlinewidth": 0,
              "ticks": ""
             }
            },
            "type": "scattergeo"
           }
          ],
          "scattergl": [
           {
            "marker": {
             "colorbar": {
              "outlinewidth": 0,
              "ticks": ""
             }
            },
            "type": "scattergl"
           }
          ],
          "scattermapbox": [
           {
            "marker": {
             "colorbar": {
              "outlinewidth": 0,
              "ticks": ""
             }
            },
            "type": "scattermapbox"
           }
          ],
          "scatterpolar": [
           {
            "marker": {
             "colorbar": {
              "outlinewidth": 0,
              "ticks": ""
             }
            },
            "type": "scatterpolar"
           }
          ],
          "scatterpolargl": [
           {
            "marker": {
             "colorbar": {
              "outlinewidth": 0,
              "ticks": ""
             }
            },
            "type": "scatterpolargl"
           }
          ],
          "scatterternary": [
           {
            "marker": {
             "colorbar": {
              "outlinewidth": 0,
              "ticks": ""
             }
            },
            "type": "scatterternary"
           }
          ],
          "surface": [
           {
            "colorbar": {
             "outlinewidth": 0,
             "ticks": ""
            },
            "colorscale": [
             [
              0,
              "#0d0887"
             ],
             [
              0.1111111111111111,
              "#46039f"
             ],
             [
              0.2222222222222222,
              "#7201a8"
             ],
             [
              0.3333333333333333,
              "#9c179e"
             ],
             [
              0.4444444444444444,
              "#bd3786"
             ],
             [
              0.5555555555555556,
              "#d8576b"
             ],
             [
              0.6666666666666666,
              "#ed7953"
             ],
             [
              0.7777777777777778,
              "#fb9f3a"
             ],
             [
              0.8888888888888888,
              "#fdca26"
             ],
             [
              1,
              "#f0f921"
             ]
            ],
            "type": "surface"
           }
          ],
          "table": [
           {
            "cells": {
             "fill": {
              "color": "#EBF0F8"
             },
             "line": {
              "color": "white"
             }
            },
            "header": {
             "fill": {
              "color": "#C8D4E3"
             },
             "line": {
              "color": "white"
             }
            },
            "type": "table"
           }
          ]
         },
         "layout": {
          "annotationdefaults": {
           "arrowcolor": "#2a3f5f",
           "arrowhead": 0,
           "arrowwidth": 1
          },
          "autotypenumbers": "strict",
          "coloraxis": {
           "colorbar": {
            "outlinewidth": 0,
            "ticks": ""
           }
          },
          "colorscale": {
           "diverging": [
            [
             0,
             "#8e0152"
            ],
            [
             0.1,
             "#c51b7d"
            ],
            [
             0.2,
             "#de77ae"
            ],
            [
             0.3,
             "#f1b6da"
            ],
            [
             0.4,
             "#fde0ef"
            ],
            [
             0.5,
             "#f7f7f7"
            ],
            [
             0.6,
             "#e6f5d0"
            ],
            [
             0.7,
             "#b8e186"
            ],
            [
             0.8,
             "#7fbc41"
            ],
            [
             0.9,
             "#4d9221"
            ],
            [
             1,
             "#276419"
            ]
           ],
           "sequential": [
            [
             0,
             "#0d0887"
            ],
            [
             0.1111111111111111,
             "#46039f"
            ],
            [
             0.2222222222222222,
             "#7201a8"
            ],
            [
             0.3333333333333333,
             "#9c179e"
            ],
            [
             0.4444444444444444,
             "#bd3786"
            ],
            [
             0.5555555555555556,
             "#d8576b"
            ],
            [
             0.6666666666666666,
             "#ed7953"
            ],
            [
             0.7777777777777778,
             "#fb9f3a"
            ],
            [
             0.8888888888888888,
             "#fdca26"
            ],
            [
             1,
             "#f0f921"
            ]
           ],
           "sequentialminus": [
            [
             0,
             "#0d0887"
            ],
            [
             0.1111111111111111,
             "#46039f"
            ],
            [
             0.2222222222222222,
             "#7201a8"
            ],
            [
             0.3333333333333333,
             "#9c179e"
            ],
            [
             0.4444444444444444,
             "#bd3786"
            ],
            [
             0.5555555555555556,
             "#d8576b"
            ],
            [
             0.6666666666666666,
             "#ed7953"
            ],
            [
             0.7777777777777778,
             "#fb9f3a"
            ],
            [
             0.8888888888888888,
             "#fdca26"
            ],
            [
             1,
             "#f0f921"
            ]
           ]
          },
          "colorway": [
           "#636efa",
           "#EF553B",
           "#00cc96",
           "#ab63fa",
           "#FFA15A",
           "#19d3f3",
           "#FF6692",
           "#B6E880",
           "#FF97FF",
           "#FECB52"
          ],
          "font": {
           "color": "#2a3f5f"
          },
          "geo": {
           "bgcolor": "white",
           "lakecolor": "white",
           "landcolor": "white",
           "showlakes": true,
           "showland": true,
           "subunitcolor": "#C8D4E3"
          },
          "hoverlabel": {
           "align": "left"
          },
          "hovermode": "closest",
          "mapbox": {
           "style": "light"
          },
          "paper_bgcolor": "white",
          "plot_bgcolor": "white",
          "polar": {
           "angularaxis": {
            "gridcolor": "#EBF0F8",
            "linecolor": "#EBF0F8",
            "ticks": ""
           },
           "bgcolor": "white",
           "radialaxis": {
            "gridcolor": "#EBF0F8",
            "linecolor": "#EBF0F8",
            "ticks": ""
           }
          },
          "scene": {
           "xaxis": {
            "backgroundcolor": "white",
            "gridcolor": "#DFE8F3",
            "gridwidth": 2,
            "linecolor": "#EBF0F8",
            "showbackground": true,
            "ticks": "",
            "zerolinecolor": "#EBF0F8"
           },
           "yaxis": {
            "backgroundcolor": "white",
            "gridcolor": "#DFE8F3",
            "gridwidth": 2,
            "linecolor": "#EBF0F8",
            "showbackground": true,
            "ticks": "",
            "zerolinecolor": "#EBF0F8"
           },
           "zaxis": {
            "backgroundcolor": "white",
            "gridcolor": "#DFE8F3",
            "gridwidth": 2,
            "linecolor": "#EBF0F8",
            "showbackground": true,
            "ticks": "",
            "zerolinecolor": "#EBF0F8"
           }
          },
          "shapedefaults": {
           "line": {
            "color": "#2a3f5f"
           }
          },
          "ternary": {
           "aaxis": {
            "gridcolor": "#DFE8F3",
            "linecolor": "#A2B1C6",
            "ticks": ""
           },
           "baxis": {
            "gridcolor": "#DFE8F3",
            "linecolor": "#A2B1C6",
            "ticks": ""
           },
           "bgcolor": "white",
           "caxis": {
            "gridcolor": "#DFE8F3",
            "linecolor": "#A2B1C6",
            "ticks": ""
           }
          },
          "title": {
           "x": 0.05
          },
          "xaxis": {
           "automargin": true,
           "gridcolor": "#EBF0F8",
           "linecolor": "#EBF0F8",
           "ticks": "",
           "title": {
            "standoff": 15
           },
           "zerolinecolor": "#EBF0F8",
           "zerolinewidth": 2
          },
          "yaxis": {
           "automargin": true,
           "gridcolor": "#EBF0F8",
           "linecolor": "#EBF0F8",
           "ticks": "",
           "title": {
            "standoff": 15
           },
           "zerolinecolor": "#EBF0F8",
           "zerolinewidth": 2
          }
         }
        },
        "title": {
         "text": "Waste flows by Material Type (kT) — use the slider to change year",
         "x": 0.5
        },
        "updatemenus": [
         {
          "buttons": [
           {
            "args": [
             null,
             {
              "frame": {
               "duration": 500,
               "redraw": true
              },
              "fromcurrent": true,
              "mode": "immediate",
              "transition": {
               "duration": 500,
               "easing": "linear"
              }
             }
            ],
            "label": "&#9654;",
            "method": "animate"
           },
           {
            "args": [
             [
              null
             ],
             {
              "frame": {
               "duration": 0,
               "redraw": true
              },
              "fromcurrent": true,
              "mode": "immediate",
              "transition": {
               "duration": 0,
               "easing": "linear"
              }
             }
            ],
            "label": "&#9724;",
            "method": "animate"
           }
          ],
          "direction": "left",
          "pad": {
           "r": 10,
           "t": 150
          },
          "showactive": false,
          "type": "buttons",
          "x": 0,
          "xanchor": "left",
          "y": -0.05,
          "yanchor": "top"
         }
        ],
        "xaxis": {
         "anchor": "y",
         "autorange": true,
         "categoryarray": [
          "Organics",
          "Paper and cardboard",
          "Metals",
          "Plastic",
          "Glass",
          "Textiles",
          "Tyres and rubber"
         ],
         "categoryorder": "array",
         "domain": [
          0,
          1
         ],
         "range": [
          -0.5,
          6.5
         ],
         "tickangle": -45,
         "title": {
          "text": "Material type"
         },
         "type": "category"
        },
        "yaxis": {
         "anchor": "x",
         "domain": [
          0,
          1
         ],
         "range": [
          0,
          1888.4991568157
         ],
         "title": {
          "text": "Thousand tonnes (kT)"
         },
         "type": "linear"
        }
       }
      },
      "image/png": "[encoded data removed]",
      "text/html": [
       "<div>                            <div id=\"83b5ec8f-d527-4afc-8b88-03a0fd15218c\" class=\"plotly-graph-div\" style=\"height:750px; width:100%;\"></div>            <script type=\"text/javascript\">                require([\"plotly\"], function(Plotly) {                    window.PLOTLYENV=window.PLOTLYENV || {};                                    if (document.getElementById(\"83b5ec8f-d527-4afc-8b88-03a0fd15218c\")) {                    Plotly.newPlot(                        \"83b5ec8f-d527-4afc-8b88-03a0fd15218c\",                        [{\"alignmentgroup\":\"True\",\"hovertemplate\":\"%{x}\\u003cbr\\u003e%{legendgroup}: %{y:.1f} kT\",\"legendgroup\":\"Disposal\",\"marker\":{\"color\":\"#636efa\",\"pattern\":{\"shape\":\"\"}},\"name\":\"Disposal\",\"offsetgroup\":\"Disposal\",\"orientation\":\"v\",\"showlegend\":true,\"textposition\":\"auto\",\"x\":[\"Glass\",\"Metals\",\"Organics\",\"Paper and cardboard\",\"Plastic\",\"Textiles\",\"Tyres and rubber\"],\"xaxis\":\"x\",\"y\":[120.38248107300001,145.38906492899997,1549.026167257,545.944275057,548.258050509,185.332261765,11.444356955],\"yaxis\":\"y\",\"type\":\"bar\"},{\"alignmentgroup\":\"True\",\"hovertemplate\":\"%{x}\\u003cbr\\u003e%{legendgroup}: %{y:.1f} kT\",\"legendgroup\":\"Recovered locally\",\"marker\":{\"color\":\"#EF553B\",\"pattern\":{\"shape\":\"\"}},\"name\":\"Recovered locally\",\"offsetgroup\":\"Recovered locally\",\"orientation\":\"v\",\"showlegend\":true,\"textposition\":\"auto\",\"x\":[\"Glass\",\"Metals\",\"Organics\",\"Paper and cardboard\",\"Plastic\",\"Textiles\",\"Tyres and rubber\"],\"xaxis\":\"x\",\"y\":[181.754,890.9430800000001,818.0014,857.38348,31.341238347,24.7446,66.602],\"yaxis\":\"y\",\"type\":\"bar\"},{\"alignmentgroup\":\"True\",\"hovertemplate\":\"%{x}\\u003cbr\\u003e%{legendgroup}: %{y:.1f} kT\",\"legendgroup\":\"Exports\",\"marker\":{\"color\":\"#00cc96\",\"pattern\":{\"shape\":\"\"}},\"name\":\"Exports\",\"offsetgroup\":\"Exports\",\"orientation\":\"v\",\"showlegend\":true,\"textposition\":\"auto\",\"x\":[\"Glass\",\"Metals\",\"Organics\",\"Paper and cardboard\",\"Plastic\",\"Textiles\",\"Tyres and rubber\"],\"xaxis\":\"x\",\"y\":[3.165,255.129,0.0,719.971,118.43231051229829,49.979,22.228],\"yaxis\":\"y\",\"type\":\"bar\"}],                        {\"template\":{\"data\":{\"barpolar\":[{\"marker\":{\"line\":{\"color\":\"white\",\"width\":0.5},\"pattern\":{\"fillmode\":\"overlay\",\"size\":10,\"solidity\":0.2}},\"type\":\"barpolar\"}],\"bar\":[{\"error_x\":{\"color\":\"#2a3f5f\"},\"error_y\":{\"color\":\"#2a3f5f\"},\"marker\":{\"line\":{\"color\":\"white\",\"width\":0.5},\"pattern\":{\"fillmode\":\"overlay\",\"size\":10,\"solidity\":0.2}},\"type\":\"bar\"}],\"carpet\":[{\"aaxis\":{\"endlinecolor\":\"#2a3f5f\",\"gridcolor\":\"#C8D4E3\",\"linecolor\":\"#C8D4E3\",\"minorgridcolor\":\"#C8D4E3\",\"startlinecolor\":\"#2a3f5f\"},\"baxis\":{\"endlinecolor\":\"#2a3f5f\",\"gridcolor\":\"#C8D4E3\",\"linecolor\":\"#C8D4E3\",\"minorgridcolor\":\"#C8D4E3\",\"startlinecolor\":\"#2a3f5f\"},\"type\":\"carpet\"}],\"choropleth\":[{\"colorbar\":{\"outlinewidth\":0,\"ticks\":\"\"},\"type\":\"choropleth\"}],\"contourcarpet\":[{\"colorbar\":{\"outlinewidth\":0,\"ticks\":\"\"},\"type\":\"contourcarpet\"}],\"contour\":[{\"colorbar\":{\"outlinewidth\":0,\"ticks\":\"\"},\"colorscale\":[[0.0,\"#0d0887\"],[0.1111111111111111,\"#46039f\"],[0.2222222222222222,\"#7201a8\"],[0.3333333333333333,\"#9c179e\"],[0.4444444444444444,\"#bd3786\"],[0.5555555555555556,\"#d8576b\"],[0.6666666666666666,\"#ed7953\"],[0.7777777777777778,\"#fb9f3a\"],[0.8888888888888888,\"#fdca26\"],[1.0,\"#f0f921\"]],\"type\":\"contour\"}],\"heatmapgl\":[{\"colorbar\":{\"outlinewidth\":0,\"ticks\":\"\"},\"colorscale\":[[0.0,\"#0d0887\"],[0.1111111111111111,\"#46039f\"],[0.2222222222222222,\"#7201a8\"],[0.3333333333333333,\"#9c179e\"],[0.4444444444444444,\"#bd3786\"],[0.5555555555555556,\"#d8576b\"],[0.6666666666666666,\"#ed7953\"],[0.7777777777777778,\"#fb9f3a\"],[0.8888888888888888,\"#fdca26\"],[1.0,\"#f0f921\"]],\"type\":\"heatmapgl\"}],\"heatmap\":[{\"colorbar\":{\"outlinewidth\":0,\"ticks\":\"\"},\"colorscale\":[[0.0,\"#0d0887\"],[0.1111111111111111,\"#46039f\"],[0.2222222222222222,\"#7201a8\"],[0.3333333333333333,\"#9c179e\"],[0.4444444444444444,\"#bd3786\"],[0.5555555555555556,\"#d8576b\"],[0.6666666666666666,\"#ed7953\"],[0.7777777777777778,\"#fb9f3a\"],[0.8888888888888888,\"#fdca26\"],[1.0,\"#f0f921\"]],\"type\":\"heatmap\"}],\"histogram2dcontour\":[{\"colorbar\":{\"outlinewidth\":0,\"ticks\":\"\"},\"colorscale\":[[0.0,\"#0d0887\"],[0.1111111111111111,\"#46039f\"],[0.2222222222222222,\"#7201a8\"],[0.3333333333333333,\"#9c179e\"],[0.4444444444444444,\"#bd3786\"],[0.5555555555555556,\"#d8576b\"],[0.6666666666666666,\"#ed7953\"],[0.7777777777777778,\"#fb9f3a\"],[0.8888888888888888,\"#fdca26\"],[1.0,\"#f0f921\"]],\"type\":\"histogram2dcontour\"}],\"histogram2d\":[{\"colorbar\":{\"outlinewidth\":0,\"ticks\":\"\"},\"colorscale\":[[0.0,\"#0d0887\"],[0.1111111111111111,\"#46039f\"],[0.2222222222222222,\"#7201a8\"],[0.3333333333333333,\"#9c179e\"],[0.4444444444444444,\"#bd3786\"],[0.5555555555555556,\"#d8576b\"],[0.6666666666666666,\"#ed7953\"],[0.7777777777777778,\"#fb9f3a\"],[0.8888888888888888,\"#fdca26\"],[1.0,\"#f0f921\"]],\"type\":\"histogram2d\"}],\"histogram\":[{\"marker\":{\"pattern\":{\"fillmode\":\"overlay\",\"size\":10,\"solidity\":0.2}},\"type\":\"histogram\"}],\"mesh3d\":[{\"colorbar\":{\"outlinewidth\":0,\"ticks\":\"\"},\"type\":\"mesh3d\"}],\"parcoords\":[{\"line\":{\"colorbar\":{\"outlinewidth\":0,\"ticks\":\"\"}},\"type\":\"parcoords\"}],\"pie\":[{\"automargin\":true,\"type\":\"pie\"}],\"scatter3d\":[{\"line\":{\"colorbar\":{\"outlinewidth\":0,\"ticks\":\"\"}},\"marker\":{\"colorbar\":{\"outlinewidth\":0,\"ticks\":\"\"}},\"type\":\"scatter3d\"}],\"scattercarpet\":[{\"marker\":{\"colorbar\":{\"outlinewidth\":0,\"ticks\":\"\"}},\"type\":\"scattercarpet\"}],\"scattergeo\":[{\"marker\":{\"colorbar\":{\"outlinewidth\":0,\"ticks\":\"\"}},\"type\":\"scattergeo\"}],\"scattergl\":[{\"marker\":{\"colorbar\":{\"outlinewidth\":0,\"ticks\":\"\"}},\"type\":\"scattergl\"}],\"scattermapbox\":[{\"marker\":{\"colorbar\":{\"outlinewidth\":0,\"ticks\":\"\"}},\"type\":\"scattermapbox\"}],\"scatterpolargl\":[{\"marker\":{\"colorbar\":{\"outlinewidth\":0,\"ticks\":\"\"}},\"type\":\"scatterpolargl\"}],\"scatterpolar\":[{\"marker\":{\"colorbar\":{\"outlinewidth\":0,\"ticks\":\"\"}},\"type\":\"scatterpolar\"}],\"scatter\":[{\"fillpattern\":{\"fillmode\":\"overlay\",\"size\":10,\"solidity\":0.2},\"type\":\"scatter\"}],\"scatterternary\":[{\"marker\":{\"colorbar\":{\"outlinewidth\":0,\"ticks\":\"\"}},\"type\":\"scatterternary\"}],\"surface\":[{\"colorbar\":{\"outlinewidth\":0,\"ticks\":\"\"},\"colorscale\":[[0.0,\"#0d0887\"],[0.1111111111111111,\"#46039f\"],[0.2222222222222222,\"#7201a8\"],[0.3333333333333333,\"#9c179e\"],[0.4444444444444444,\"#bd3786\"],[0.5555555555555556,\"#d8576b\"],[0.6666666666666666,\"#ed7953\"],[0.7777777777777778,\"#fb9f3a\"],[0.8888888888888888,\"#fdca26\"],[1.0,\"#f0f921\"]],\"type\":\"surface\"}],\"table\":[{\"cells\":{\"fill\":{\"color\":\"#EBF0F8\"},\"line\":{\"color\":\"white\"}},\"header\":{\"fill\":{\"color\":\"#C8D4E3\"},\"line\":{\"color\":\"white\"}},\"type\":\"table\"}]},\"layout\":{\"annotationdefaults\":{\"arrowcolor\":\"#2a3f5f\",\"arrowhead\":0,\"arrowwidth\":1},\"autotypenumbers\":\"strict\",\"coloraxis\":{\"colorbar\":{\"outlinewidth\":0,\"ticks\":\"\"}},\"colorscale\":{\"diverging\":[[0,\"#8e0152\"],[0.1,\"#c51b7d\"],[0.2,\"#de77ae\"],[0.3,\"#f1b6da\"],[0.4,\"#fde0ef\"],[0.5,\"#f7f7f7\"],[0.6,\"#e6f5d0\"],[0.7,\"#b8e186\"],[0.8,\"#7fbc41\"],[0.9,\"#4d9221\"],[1,\"#276419\"]],\"sequential\":[[0.0,\"#0d0887\"],[0.1111111111111111,\"#46039f\"],[0.2222222222222222,\"#7201a8\"],[0.3333333333333333,\"#9c179e\"],[0.4444444444444444,\"#bd3786\"],[0.5555555555555556,\"#d8576b\"],[0.6666666666666666,\"#ed7953\"],[0.7777777777777778,\"#fb9f3a\"],[0.8888888888888888,\"#fdca26\"],[1.0,\"#f0f921\"]],\"sequentialminus\":[[0.0,\"#0d0887\"],[0.1111111111111111,\"#46039f\"],[0.2222222222222222,\"#7201a8\"],[0.3333333333333333,\"#9c179e\"],[0.4444444444444444,\"#bd3786\"],[0.5555555555555556,\"#d8576b\"],[0.6666666666666666,\"#ed7953\"],[0.7777777777777778,\"#fb9f3a\"],[0.8888888888888888,\"#fdca26\"],[1.0,\"#f0f921\"]]},\"colorway\":[\"#636efa\",\"#EF553B\",\"#00cc96\",\"#ab63fa\",\"#FFA15A\",\"#19d3f3\",\"#FF6692\",\"#B6E880\",\"#FF97FF\",\"#FECB52\"],\"font\":{\"color\":\"#2a3f5f\"},\"geo\":{\"bgcolor\":\"white\",\"lakecolor\":\"white\",\"landcolor\":\"white\",\"showlakes\":true,\"showland\":true,\"subunitcolor\":\"#C8D4E3\"},\"hoverlabel\":{\"align\":\"left\"},\"hovermode\":\"closest\",\"mapbox\":{\"style\":\"light\"},\"paper_bgcolor\":\"white\",\"plot_bgcolor\":\"white\",\"polar\":{\"angularaxis\":{\"gridcolor\":\"#EBF0F8\",\"linecolor\":\"#EBF0F8\",\"ticks\":\"\"},\"bgcolor\":\"white\",\"radialaxis\":{\"gridcolor\":\"#EBF0F8\",\"linecolor\":\"#EBF0F8\",\"ticks\":\"\"}},\"scene\":{\"xaxis\":{\"backgroundcolor\":\"white\",\"gridcolor\":\"#DFE8F3\",\"gridwidth\":2,\"linecolor\":\"#EBF0F8\",\"showbackground\":true,\"ticks\":\"\",\"zerolinecolor\":\"#EBF0F8\"},\"yaxis\":{\"backgroundcolor\":\"white\",\"gridcolor\":\"#DFE8F3\",\"gridwidth\":2,\"linecolor\":\"#EBF0F8\",\"showbackground\":true,\"ticks\":\"\",\"zerolinecolor\":\"#EBF0F8\"},\"zaxis\":{\"backgroundcolor\":\"white\",\"gridcolor\":\"#DFE8F3\",\"gridwidth\":2,\"linecolor\":\"#EBF0F8\",\"showbackground\":true,\"ticks\":\"\",\"zerolinecolor\":\"#EBF0F8\"}},\"shapedefaults\":{\"line\":{\"color\":\"#2a3f5f\"}},\"ternary\":{\"aaxis\":{\"gridcolor\":\"#DFE8F3\",\"linecolor\":\"#A2B1C6\",\"ticks\":\"\"},\"baxis\":{\"gridcolor\":\"#DFE8F3\",\"linecolor\":\"#A2B1C6\",\"ticks\":\"\"},\"bgcolor\":\"white\",\"caxis\":{\"gridcolor\":\"#DFE8F3\",\"linecolor\":\"#A2B1C6\",\"ticks\":\"\"}},\"title\":{\"x\":0.05},\"xaxis\":{\"automargin\":true,\"gridcolor\":\"#EBF0F8\",\"linecolor\":\"#EBF0F8\",\"ticks\":\"\",\"title\":{\"standoff\":15},\"zerolinecolor\":\"#EBF0F8\",\"zerolinewidth\":2},\"yaxis\":{\"automargin\":true,\"gridcolor\":\"#EBF0F8\",\"linecolor\":\"#EBF0F8\",\"ticks\":\"\",\"title\":{\"standoff\":15},\"zerolinecolor\":\"#EBF0F8\",\"zerolinewidth\":2}}},\"xaxis\":{\"anchor\":\"y\",\"domain\":[0.0,1.0],\"title\":{\"text\":\"Material type\"},\"categoryorder\":\"array\",\"categoryarray\":[\"Organics\",\"Paper and cardboard\",\"Metals\",\"Plastic\",\"Glass\",\"Textiles\",\"Tyres and rubber\"],\"tickangle\":-45},\"yaxis\":{\"anchor\":\"x\",\"domain\":[0.0,1.0],\"title\":{\"text\":\"Thousand tonnes (kT)\"},\"range\":[0,1888.4991568157]},\"legend\":{\"title\":{\"text\":\"Waste flow\"},\"tracegroupgap\":0},\"title\":{\"text\":\"Waste flows by Material Type (kT) \\u2014 use the slider to change year\",\"x\":0.5},\"barmode\":\"stack\",\"updatemenus\":[{\"buttons\":[{\"args\":[null,{\"frame\":{\"duration\":500,\"redraw\":true},\"mode\":\"immediate\",\"fromcurrent\":true,\"transition\":{\"duration\":500,\"easing\":\"linear\"}}],\"label\":\"&#9654;\",\"method\":\"animate\"},{\"args\":[[null],{\"frame\":{\"duration\":0,\"redraw\":true},\"mode\":\"immediate\",\"fromcurrent\":true,\"transition\":{\"duration\":0,\"easing\":\"linear\"}}],\"label\":\"&#9724;\",\"method\":\"animate\"}],\"direction\":\"left\",\"pad\":{\"r\":10,\"t\":150},\"showactive\":false,\"type\":\"buttons\",\"x\":0.0,\"xanchor\":\"left\",\"y\":-0.05,\"yanchor\":\"top\"}],\"sliders\":[{\"active\":0,\"currentvalue\":{\"prefix\":\"\",\"font\":{\"size\":11}},\"len\":0.9,\"pad\":{\"b\":0,\"t\":150},\"steps\":[{\"args\":[[\"2015-2016\"],{\"frame\":{\"duration\":0,\"redraw\":true},\"mode\":\"immediate\",\"fromcurrent\":true,\"transition\":{\"duration\":0,\"easing\":\"linear\"}}],\"label\":\"2015-2016\",\"method\":\"animate\"},{\"args\":[[\"2016-2017\"],{\"frame\":{\"duration\":0,\"redraw\":true},\"mode\":\"immediate\",\"fromcurrent\":true,\"transition\":{\"duration\":0,\"easing\":\"linear\"}}],\"label\":\"2016-2017\",\"method\":\"animate\"},{\"args\":[[\"2017-2018\"],{\"frame\":{\"duration\":0,\"redraw\":true},\"mode\":\"immediate\",\"fromcurrent\":true,\"transition\":{\"duration\":0,\"easing\":\"linear\"}}],\"label\":\"2017-2018\",\"method\":\"animate\"},{\"args\":[[\"2018-2019\"],{\"frame\":{\"duration\":0,\"redraw\":true},\"mode\":\"immediate\",\"fromcurrent\":true,\"transition\":{\"duration\":0,\"easing\":\"linear\"}}],\"label\":\"2018-2019\",\"method\":\"animate\"},{\"args\":[[\"2019-2020\"],{\"frame\":{\"duration\":0,\"redraw\":true},\"mode\":\"immediate\",\"fromcurrent\":true,\"transition\":{\"duration\":0,\"easing\":\"linear\"}}],\"label\":\"2019-2020\",\"method\":\"animate\"},{\"args\":[[\"2020-2021\"],{\"frame\":{\"duration\":0,\"redraw\":true},\"mode\":\"immediate\",\"fromcurrent\":true,\"transition\":{\"duration\":0,\"easing\":\"linear\"}}],\"label\":\"2020-2021\",\"method\":\"animate\"},{\"args\":[[\"2021-2022\"],{\"frame\":{\"duration\":0,\"redraw\":true},\"mode\":\"immediate\",\"fromcurrent\":true,\"transition\":{\"duration\":0,\"easing\":\"linear\"}}],\"label\":\"2021-2022\",\"method\":\"animate\"},{\"args\":[[\"2022-2023\"],{\"frame\":{\"duration\":0,\"redraw\":true},\"mode\":\"immediate\",\"fromcurrent\":true,\"transition\":{\"duration\":0,\"easing\":\"linear\"}}],\"label\":\"2022-2023\",\"method\":\"animate\"},{\"args\":[[\"2023-2024\"],{\"frame\":{\"duration\":0,\"redraw\":true},\"mode\":\"immediate\",\"fromcurrent\":true,\"transition\":{\"duration\":0,\"easing\":\"linear\"}}],\"label\":\"2023-2024\",\"method\":\"animate\"}],\"x\":0.1,\"xanchor\":\"left\",\"y\":-0.05,\"yanchor\":\"top\"}],\"hovermode\":\"x unified\",\"margin\":{\"b\":180},\"height\":750},                        {\"responsive\": true}                    ).then(function(){\n",
       "                            Plotly.addFrames('83b5ec8f-d527-4afc-8b88-03a0fd15218c', [{\"data\":[{\"alignmentgroup\":\"True\",\"hovertemplate\":\"Flow=Disposal\\u003cbr\\u003eFinancial Year=2015-2016\\u003cbr\\u003eMaterial type=%{x}\\u003cbr\\u003eThousand tonnes (kT)=%{y}\\u003cextra\\u003e\\u003c\\u002fextra\\u003e\",\"legendgroup\":\"Disposal\",\"marker\":{\"color\":\"#636efa\",\"pattern\":{\"shape\":\"\"}},\"name\":\"Disposal\",\"offsetgroup\":\"Disposal\",\"orientation\":\"v\",\"showlegend\":true,\"textposition\":\"auto\",\"x\":[\"Glass\",\"Metals\",\"Organics\",\"Paper and cardboard\",\"Plastic\",\"Textiles\",\"Tyres and rubber\"],\"xaxis\":\"x\",\"y\":[120.38248107300001,145.38906492899997,1549.026167257,545.944275057,548.258050509,185.332261765,11.444356955],\"yaxis\":\"y\",\"type\":\"bar\"},{\"alignmentgroup\":\"True\",\"hovertemplate\":\"Flow=Recovered locally\\u003cbr\\u003eFinancial Year=2015-2016\\u003cbr\\u003eMaterial type=%{x}\\u003cbr\\u003eThousand tonnes (kT)=%{y}\\u003cextra\\u003e\\u003c\\u002fextra\\u003e\",\"legendgroup\":\"Recovered locally\",\"marker\":{\"color\":\"#EF553B\",\"pattern\":{\"shape\":\"\"}},\"name\":\"Recovered locally\",\"offsetgroup\":\"Recovered locally\",\"orientation\":\"v\",\"showlegend\":true,\"textposition\":\"auto\",\"x\":[\"Glass\",\"Metals\",\"Organics\",\"Paper and cardboard\",\"Plastic\",\"Textiles\",\"Tyres and rubber\"],\"xaxis\":\"x\",\"y\":[181.754,890.9430800000001,818.0014,857.38348,31.341238347,24.7446,66.602],\"yaxis\":\"y\",\"type\":\"bar\"},{\"alignmentgroup\":\"True\",\"hovertemplate\":\"Flow=Exports\\u003cbr\\u003eFinancial Year=2015-2016\\u003cbr\\u003eMaterial type=%{x}\\u003cbr\\u003eThousand tonnes (kT)=%{y}\\u003cextra\\u003e\\u003c\\u002fextra\\u003e\",\"legendgroup\":\"Exports\",\"marker\":{\"color\":\"#00cc96\",\"pattern\":{\"shape\":\"\"}},\"name\":\"Exports\",\"offsetgroup\":\"Exports\",\"orientation\":\"v\",\"showlegend\":true,\"textposition\":\"auto\",\"x\":[\"Glass\",\"Metals\",\"Organics\",\"Paper and cardboard\",\"Plastic\",\"Textiles\",\"Tyres and rubber\"],\"xaxis\":\"x\",\"y\":[3.165,255.129,0.0,719.971,118.43231051229829,49.979,22.228],\"yaxis\":\"y\",\"type\":\"bar\"}],\"name\":\"2015-2016\"},{\"data\":[{\"alignmentgroup\":\"True\",\"hovertemplate\":\"Flow=Disposal\\u003cbr\\u003eFinancial Year=2016-2017\\u003cbr\\u003eMaterial type=%{x}\\u003cbr\\u003eThousand tonnes (kT)=%{y}\\u003cextra\\u003e\\u003c\\u002fextra\\u003e\",\"legendgroup\":\"Disposal\",\"marker\":{\"color\":\"#636efa\",\"pattern\":{\"shape\":\"\"}},\"name\":\"Disposal\",\"offsetgroup\":\"Disposal\",\"orientation\":\"v\",\"showlegend\":true,\"textposition\":\"auto\",\"x\":[\"Glass\",\"Metals\",\"Organics\",\"Paper and cardboard\",\"Plastic\",\"Textiles\",\"Tyres and rubber\"],\"xaxis\":\"x\",\"y\":[123.051559108,147.34258305,1579.0094339759999,555.500850418,558.964698203,188.218424124,11.53115757],\"yaxis\":\"y\",\"type\":\"bar\"},{\"alignmentgroup\":\"True\",\"hovertemplate\":\"Flow=Recovered locally\\u003cbr\\u003eFinancial Year=2016-2017\\u003cbr\\u003eMaterial type=%{x}\\u003cbr\\u003eThousand tonnes (kT)=%{y}\\u003cextra\\u003e\\u003c\\u002fextra\\u003e\",\"legendgroup\":\"Recovered locally\",\"marker\":{\"color\":\"#EF553B\",\"pattern\":{\"shape\":\"\"}},\"name\":\"Recovered locally\",\"offsetgroup\":\"Recovered locally\",\"orientation\":\"v\",\"showlegend\":true,\"textposition\":\"auto\",\"x\":[\"Glass\",\"Metals\",\"Organics\",\"Paper and cardboard\",\"Plastic\",\"Textiles\",\"Tyres and rubber\"],\"xaxis\":\"x\",\"y\":[142.554,1274.91152,877.4826,784.94512,57.708864950000006,0.6824,39.43],\"yaxis\":\"y\",\"type\":\"bar\"},{\"alignmentgroup\":\"True\",\"hovertemplate\":\"Flow=Exports\\u003cbr\\u003eFinancial Year=2016-2017\\u003cbr\\u003eMaterial type=%{x}\\u003cbr\\u003eThousand tonnes (kT)=%{y}\\u003cextra\\u003e\\u003c\\u002fextra\\u003e\",\"legendgroup\":\"Exports\",\"marker\":{\"color\":\"#00cc96\",\"pattern\":{\"shape\":\"\"}},\"name\":\"Exports\",\"offsetgroup\":\"Exports\",\"orientation\":\"v\",\"showlegend\":true,\"textposition\":\"auto\",\"x\":[\"Glass\",\"Metals\",\"Organics\",\"Paper and cardboard\",\"Plastic\",\"Textiles\",\"Tyres and rubber\"],\"xaxis\":\"x\",\"y\":[2.817,320.417999999,0.0,660.423,103.955250001,53.798,20.793],\"yaxis\":\"y\",\"type\":\"bar\"}],\"name\":\"2016-2017\"},{\"data\":[{\"alignmentgroup\":\"True\",\"hovertemplate\":\"Flow=Disposal\\u003cbr\\u003eFinancial Year=2017-2018\\u003cbr\\u003eMaterial type=%{x}\\u003cbr\\u003eThousand tonnes (kT)=%{y}\\u003cextra\\u003e\\u003c\\u002fextra\\u003e\",\"legendgroup\":\"Disposal\",\"marker\":{\"color\":\"#636efa\",\"pattern\":{\"shape\":\"\"}},\"name\":\"Disposal\",\"offsetgroup\":\"Disposal\",\"orientation\":\"v\",\"showlegend\":true,\"textposition\":\"auto\",\"x\":[\"Glass\",\"Metals\",\"Organics\",\"Paper and cardboard\",\"Plastic\",\"Textiles\",\"Tyres and rubber\"],\"xaxis\":\"x\",\"y\":[126.667092692,158.97942939100002,1641.975666826,595.743101593,587.636328467,203.236190366,13.308830799999999],\"yaxis\":\"y\",\"type\":\"bar\"},{\"alignmentgroup\":\"True\",\"hovertemplate\":\"Flow=Recovered locally\\u003cbr\\u003eFinancial Year=2017-2018\\u003cbr\\u003eMaterial type=%{x}\\u003cbr\\u003eThousand tonnes (kT)=%{y}\\u003cextra\\u003e\\u003c\\u002fextra\\u003e\",\"legendgroup\":\"Recovered locally\",\"marker\":{\"color\":\"#EF553B\",\"pattern\":{\"shape\":\"\"}},\"name\":\"Recovered locally\",\"offsetgroup\":\"Recovered locally\",\"orientation\":\"v\",\"showlegend\":true,\"textposition\":\"auto\",\"x\":[\"Glass\",\"Metals\",\"Organics\",\"Paper and cardboard\",\"Plastic\",\"Textiles\",\"Tyres and rubber\"],\"xaxis\":\"x\",\"y\":[218.376,966.433,887.551,659.522,49.098657708,0.0,42.17],\"yaxis\":\"y\",\"type\":\"bar\"},{\"alignmentgroup\":\"True\",\"hovertemplate\":\"Flow=Exports\\u003cbr\\u003eFinancial Year=2017-2018\\u003cbr\\u003eMaterial type=%{x}\\u003cbr\\u003eThousand tonnes (kT)=%{y}\\u003cextra\\u003e\\u003c\\u002fextra\\u003e\",\"legendgroup\":\"Exports\",\"marker\":{\"color\":\"#00cc96\",\"pattern\":{\"shape\":\"\"}},\"name\":\"Exports\",\"offsetgroup\":\"Exports\",\"orientation\":\"v\",\"showlegend\":true,\"textposition\":\"auto\",\"x\":[\"Glass\",\"Metals\",\"Organics\",\"Paper and cardboard\",\"Plastic\",\"Textiles\",\"Tyres and rubber\"],\"xaxis\":\"x\",\"y\":[11.621,495.516000001,0.0,632.276,88.06877588383838,55.774,36.508],\"yaxis\":\"y\",\"type\":\"bar\"}],\"name\":\"2017-2018\"},{\"data\":[{\"alignmentgroup\":\"True\",\"hovertemplate\":\"Flow=Disposal\\u003cbr\\u003eFinancial Year=2018-2019\\u003cbr\\u003eMaterial type=%{x}\\u003cbr\\u003eThousand tonnes (kT)=%{y}\\u003cextra\\u003e\\u003c\\u002fextra\\u003e\",\"legendgroup\":\"Disposal\",\"marker\":{\"color\":\"#636efa\",\"pattern\":{\"shape\":\"\"}},\"name\":\"Disposal\",\"offsetgroup\":\"Disposal\",\"orientation\":\"v\",\"showlegend\":true,\"textposition\":\"auto\",\"x\":[\"Glass\",\"Metals\",\"Organics\",\"Paper and cardboard\",\"Plastic\",\"Textiles\",\"Tyres and rubber\"],\"xaxis\":\"x\",\"y\":[130.592070555,166.313840631,1652.911684065,619.367789119,608.733747886,211.94097427399998,14.054993606],\"yaxis\":\"y\",\"type\":\"bar\"},{\"alignmentgroup\":\"True\",\"hovertemplate\":\"Flow=Recovered locally\\u003cbr\\u003eFinancial Year=2018-2019\\u003cbr\\u003eMaterial type=%{x}\\u003cbr\\u003eThousand tonnes (kT)=%{y}\\u003cextra\\u003e\\u003c\\u002fextra\\u003e\",\"legendgroup\":\"Recovered locally\",\"marker\":{\"color\":\"#EF553B\",\"pattern\":{\"shape\":\"\"}},\"name\":\"Recovered locally\",\"offsetgroup\":\"Recovered locally\",\"orientation\":\"v\",\"showlegend\":true,\"textposition\":\"auto\",\"x\":[\"Glass\",\"Metals\",\"Organics\",\"Paper and cardboard\",\"Plastic\",\"Textiles\",\"Tyres and rubber\"],\"xaxis\":\"x\",\"y\":[180.268,863.6933,877.216,686.948,62.452414516,17.461625,47.001625],\"yaxis\":\"y\",\"type\":\"bar\"},{\"alignmentgroup\":\"True\",\"hovertemplate\":\"Flow=Exports\\u003cbr\\u003eFinancial Year=2018-2019\\u003cbr\\u003eMaterial type=%{x}\\u003cbr\\u003eThousand tonnes (kT)=%{y}\\u003cextra\\u003e\\u003c\\u002fextra\\u003e\",\"legendgroup\":\"Exports\",\"marker\":{\"color\":\"#00cc96\",\"pattern\":{\"shape\":\"\"}},\"name\":\"Exports\",\"offsetgroup\":\"Exports\",\"orientation\":\"v\",\"showlegend\":true,\"textposition\":\"auto\",\"x\":[\"Glass\",\"Metals\",\"Organics\",\"Paper and cardboard\",\"Plastic\",\"Textiles\",\"Tyres and rubber\"],\"xaxis\":\"x\",\"y\":[14.384999999,490.795000001,0.0,483.986999999,80.06434950100001,60.25,41.884],\"yaxis\":\"y\",\"type\":\"bar\"}],\"name\":\"2018-2019\"},{\"data\":[{\"alignmentgroup\":\"True\",\"hovertemplate\":\"Flow=Disposal\\u003cbr\\u003eFinancial Year=2019-2020\\u003cbr\\u003eMaterial type=%{x}\\u003cbr\\u003eThousand tonnes (kT)=%{y}\\u003cextra\\u003e\\u003c\\u002fextra\\u003e\",\"legendgroup\":\"Disposal\",\"marker\":{\"color\":\"#636efa\",\"pattern\":{\"shape\":\"\"}},\"name\":\"Disposal\",\"offsetgroup\":\"Disposal\",\"orientation\":\"v\",\"showlegend\":true,\"textposition\":\"auto\",\"x\":[\"Glass\",\"Metals\",\"Organics\",\"Paper and cardboard\",\"Plastic\",\"Textiles\",\"Tyres and rubber\"],\"xaxis\":\"x\",\"y\":[140.008867385,176.05948738100003,1716.817415287,659.210504924,649.9333772719999,224.977650507,14.757050869999999],\"yaxis\":\"y\",\"type\":\"bar\"},{\"alignmentgroup\":\"True\",\"hovertemplate\":\"Flow=Recovered locally\\u003cbr\\u003eFinancial Year=2019-2020\\u003cbr\\u003eMaterial type=%{x}\\u003cbr\\u003eThousand tonnes (kT)=%{y}\\u003cextra\\u003e\\u003c\\u002fextra\\u003e\",\"legendgroup\":\"Recovered locally\",\"marker\":{\"color\":\"#EF553B\",\"pattern\":{\"shape\":\"\"}},\"name\":\"Recovered locally\",\"offsetgroup\":\"Recovered locally\",\"orientation\":\"v\",\"showlegend\":true,\"textposition\":\"auto\",\"x\":[\"Glass\",\"Metals\",\"Organics\",\"Paper and cardboard\",\"Plastic\",\"Textiles\",\"Tyres and rubber\"],\"xaxis\":\"x\",\"y\":[296.804,839.5283000000001,1137.5096,616.152,80.212921743,15.640375,48.198375],\"yaxis\":\"y\",\"type\":\"bar\"},{\"alignmentgroup\":\"True\",\"hovertemplate\":\"Flow=Exports\\u003cbr\\u003eFinancial Year=2019-2020\\u003cbr\\u003eMaterial type=%{x}\\u003cbr\\u003eThousand tonnes (kT)=%{y}\\u003cextra\\u003e\\u003c\\u002fextra\\u003e\",\"legendgroup\":\"Exports\",\"marker\":{\"color\":\"#00cc96\",\"pattern\":{\"shape\":\"\"}},\"name\":\"Exports\",\"offsetgroup\":\"Exports\",\"orientation\":\"v\",\"showlegend\":true,\"textposition\":\"auto\",\"x\":[\"Glass\",\"Metals\",\"Organics\",\"Paper and cardboard\",\"Plastic\",\"Textiles\",\"Tyres and rubber\"],\"xaxis\":\"x\",\"y\":[3.911999999,524.557999999,70.002,415.658,60.073320229,51.194,31.937],\"yaxis\":\"y\",\"type\":\"bar\"}],\"name\":\"2019-2020\"},{\"data\":[{\"alignmentgroup\":\"True\",\"hovertemplate\":\"Flow=Disposal\\u003cbr\\u003eFinancial Year=2020-2021\\u003cbr\\u003eMaterial type=%{x}\\u003cbr\\u003eThousand tonnes (kT)=%{y}\\u003cextra\\u003e\\u003c\\u002fextra\\u003e\",\"legendgroup\":\"Disposal\",\"marker\":{\"color\":\"#636efa\",\"pattern\":{\"shape\":\"\"}},\"name\":\"Disposal\",\"offsetgroup\":\"Disposal\",\"orientation\":\"v\",\"showlegend\":true,\"textposition\":\"auto\",\"x\":[\"Glass\",\"Metals\",\"Organics\",\"Paper and cardboard\",\"Plastic\",\"Textiles\",\"Tyres and rubber\"],\"xaxis\":\"x\",\"y\":[138.07908951299999,175.068112343,1658.566091738,653.202615381,642.696802455,223.311432578,14.752579019999999],\"yaxis\":\"y\",\"type\":\"bar\"},{\"alignmentgroup\":\"True\",\"hovertemplate\":\"Flow=Recovered locally\\u003cbr\\u003eFinancial Year=2020-2021\\u003cbr\\u003eMaterial type=%{x}\\u003cbr\\u003eThousand tonnes (kT)=%{y}\\u003cextra\\u003e\\u003c\\u002fextra\\u003e\",\"legendgroup\":\"Recovered locally\",\"marker\":{\"color\":\"#EF553B\",\"pattern\":{\"shape\":\"\"}},\"name\":\"Recovered locally\",\"offsetgroup\":\"Recovered locally\",\"orientation\":\"v\",\"showlegend\":true,\"textposition\":\"auto\",\"x\":[\"Glass\",\"Metals\",\"Organics\",\"Paper and cardboard\",\"Plastic\",\"Textiles\",\"Tyres and rubber\"],\"xaxis\":\"x\",\"y\":[334.64,856.9653000000001,1663.355724,519.294,79.68643628199999,15.213875,57.693875],\"yaxis\":\"y\",\"type\":\"bar\"},{\"alignmentgroup\":\"True\",\"hovertemplate\":\"Flow=Exports\\u003cbr\\u003eFinancial Year=2020-2021\\u003cbr\\u003eMaterial type=%{x}\\u003cbr\\u003eThousand tonnes (kT)=%{y}\\u003cextra\\u003e\\u003c\\u002fextra\\u003e\",\"legendgroup\":\"Exports\",\"marker\":{\"color\":\"#00cc96\",\"pattern\":{\"shape\":\"\"}},\"name\":\"Exports\",\"offsetgroup\":\"Exports\",\"orientation\":\"v\",\"showlegend\":true,\"textposition\":\"auto\",\"x\":[\"Glass\",\"Metals\",\"Organics\",\"Paper and cardboard\",\"Plastic\",\"Textiles\",\"Tyres and rubber\"],\"xaxis\":\"x\",\"y\":[0.0,522.463,0.0,340.199,62.010574451000004,50.279,34.515],\"yaxis\":\"y\",\"type\":\"bar\"}],\"name\":\"2020-2021\"},{\"data\":[{\"alignmentgroup\":\"True\",\"hovertemplate\":\"Flow=Disposal\\u003cbr\\u003eFinancial Year=2021-2022\\u003cbr\\u003eMaterial type=%{x}\\u003cbr\\u003eThousand tonnes (kT)=%{y}\\u003cextra\\u003e\\u003c\\u002fextra\\u003e\",\"legendgroup\":\"Disposal\",\"marker\":{\"color\":\"#636efa\",\"pattern\":{\"shape\":\"\"}},\"name\":\"Disposal\",\"offsetgroup\":\"Disposal\",\"orientation\":\"v\",\"showlegend\":true,\"textposition\":\"auto\",\"x\":[\"Glass\",\"Metals\",\"Organics\",\"Paper and cardboard\",\"Plastic\",\"Textiles\",\"Tyres and rubber\"],\"xaxis\":\"x\",\"y\":[131.717154786,170.41986158000003,1564.352217989,630.436782533,617.184598288,216.438983253,14.546577055],\"yaxis\":\"y\",\"type\":\"bar\"},{\"alignmentgroup\":\"True\",\"hovertemplate\":\"Flow=Recovered locally\\u003cbr\\u003eFinancial Year=2021-2022\\u003cbr\\u003eMaterial type=%{x}\\u003cbr\\u003eThousand tonnes (kT)=%{y}\\u003cextra\\u003e\\u003c\\u002fextra\\u003e\",\"legendgroup\":\"Recovered locally\",\"marker\":{\"color\":\"#EF553B\",\"pattern\":{\"shape\":\"\"}},\"name\":\"Recovered locally\",\"offsetgroup\":\"Recovered locally\",\"orientation\":\"v\",\"showlegend\":true,\"textposition\":\"auto\",\"x\":[\"Glass\",\"Metals\",\"Organics\",\"Paper and cardboard\",\"Plastic\",\"Textiles\",\"Tyres and rubber\"],\"xaxis\":\"x\",\"y\":[225.13,770.489,1410.2617,657.6395,126.09076030789225,2.097,14.2],\"yaxis\":\"y\",\"type\":\"bar\"},{\"alignmentgroup\":\"True\",\"hovertemplate\":\"Flow=Exports\\u003cbr\\u003eFinancial Year=2021-2022\\u003cbr\\u003eMaterial type=%{x}\\u003cbr\\u003eThousand tonnes (kT)=%{y}\\u003cextra\\u003e\\u003c\\u002fextra\\u003e\",\"legendgroup\":\"Exports\",\"marker\":{\"color\":\"#00cc96\",\"pattern\":{\"shape\":\"\"}},\"name\":\"Exports\",\"offsetgroup\":\"Exports\",\"orientation\":\"v\",\"showlegend\":true,\"textposition\":\"auto\",\"x\":[\"Glass\",\"Metals\",\"Organics\",\"Paper and cardboard\",\"Plastic\",\"Textiles\",\"Tyres and rubber\"],\"xaxis\":\"x\",\"y\":[1.637,606.4970000010001,0.0,276.135,62.69516478084101,56.425,32.92],\"yaxis\":\"y\",\"type\":\"bar\"}],\"name\":\"2021-2022\"},{\"data\":[{\"alignmentgroup\":\"True\",\"hovertemplate\":\"Flow=Disposal\\u003cbr\\u003eFinancial Year=2022-2023\\u003cbr\\u003eMaterial type=%{x}\\u003cbr\\u003eThousand tonnes (kT)=%{y}\\u003cextra\\u003e\\u003c\\u002fextra\\u003e\",\"legendgroup\":\"Disposal\",\"marker\":{\"color\":\"#636efa\",\"pattern\":{\"shape\":\"\"}},\"name\":\"Disposal\",\"offsetgroup\":\"Disposal\",\"orientation\":\"v\",\"showlegend\":true,\"textposition\":\"auto\",\"x\":[\"Glass\",\"Metals\",\"Organics\",\"Paper and cardboard\",\"Plastic\",\"Textiles\",\"Tyres and rubber\"],\"xaxis\":\"x\",\"y\":[133.523085569,169.930136151,1571.6892454840001,633.01914635,622.256505585,216.58137546700002,14.354303457],\"yaxis\":\"y\",\"type\":\"bar\"},{\"alignmentgroup\":\"True\",\"hovertemplate\":\"Flow=Recovered locally\\u003cbr\\u003eFinancial Year=2022-2023\\u003cbr\\u003eMaterial type=%{x}\\u003cbr\\u003eThousand tonnes (kT)=%{y}\\u003cextra\\u003e\\u003c\\u002fextra\\u003e\",\"legendgroup\":\"Recovered locally\",\"marker\":{\"color\":\"#EF553B\",\"pattern\":{\"shape\":\"\"}},\"name\":\"Recovered locally\",\"offsetgroup\":\"Recovered locally\",\"orientation\":\"v\",\"showlegend\":true,\"textposition\":\"auto\",\"x\":[\"Glass\",\"Metals\",\"Organics\",\"Paper and cardboard\",\"Plastic\",\"Textiles\",\"Tyres and rubber\"],\"xaxis\":\"x\",\"y\":[232.83,765.65932,1486.7733,651.7134199999999,128.79359835932377,2.1294,23.7],\"yaxis\":\"y\",\"type\":\"bar\"},{\"alignmentgroup\":\"True\",\"hovertemplate\":\"Flow=Exports\\u003cbr\\u003eFinancial Year=2022-2023\\u003cbr\\u003eMaterial type=%{x}\\u003cbr\\u003eThousand tonnes (kT)=%{y}\\u003cextra\\u003e\\u003c\\u002fextra\\u003e\",\"legendgroup\":\"Exports\",\"marker\":{\"color\":\"#00cc96\",\"pattern\":{\"shape\":\"\"}},\"name\":\"Exports\",\"offsetgroup\":\"Exports\",\"orientation\":\"v\",\"showlegend\":true,\"textposition\":\"auto\",\"x\":[\"Glass\",\"Metals\",\"Organics\",\"Paper and cardboard\",\"Plastic\",\"Textiles\",\"Tyres and rubber\"],\"xaxis\":\"x\",\"y\":[1.008,512.225,0.0,266.5,52.30605396954928,64.628,18.207],\"yaxis\":\"y\",\"type\":\"bar\"}],\"name\":\"2022-2023\"},{\"data\":[{\"alignmentgroup\":\"True\",\"hovertemplate\":\"Flow=Disposal\\u003cbr\\u003eFinancial Year=2023-2024\\u003cbr\\u003eMaterial type=%{x}\\u003cbr\\u003eThousand tonnes (kT)=%{y}\\u003cextra\\u003e\\u003c\\u002fextra\\u003e\",\"legendgroup\":\"Disposal\",\"marker\":{\"color\":\"#636efa\",\"pattern\":{\"shape\":\"\"}},\"name\":\"Disposal\",\"offsetgroup\":\"Disposal\",\"orientation\":\"v\",\"showlegend\":true,\"textposition\":\"auto\",\"x\":[\"Glass\",\"Metals\",\"Organics\",\"Paper and cardboard\",\"Plastic\",\"Textiles\",\"Tyres and rubber\"],\"xaxis\":\"x\",\"y\":[125.20233425800001,163.380851096,1493.918720422,602.236133557,588.325601282,207.123262792,14.019753643999998],\"yaxis\":\"y\",\"type\":\"bar\"},{\"alignmentgroup\":\"True\",\"hovertemplate\":\"Flow=Recovered locally\\u003cbr\\u003eFinancial Year=2023-2024\\u003cbr\\u003eMaterial type=%{x}\\u003cbr\\u003eThousand tonnes (kT)=%{y}\\u003cextra\\u003e\\u003c\\u002fextra\\u003e\",\"legendgroup\":\"Recovered locally\",\"marker\":{\"color\":\"#EF553B\",\"pattern\":{\"shape\":\"\"}},\"name\":\"Recovered locally\",\"offsetgroup\":\"Recovered locally\",\"orientation\":\"v\",\"showlegend\":true,\"textposition\":\"auto\",\"x\":[\"Glass\",\"Metals\",\"Organics\",\"Paper and cardboard\",\"Plastic\",\"Textiles\",\"Tyres and rubber\"],\"xaxis\":\"x\",\"y\":[223.417,915.7528599999999,1581.6388499999998,698.7164099999999,162.10124849020335,2.2001999999999997,26.5],\"yaxis\":\"y\",\"type\":\"bar\"},{\"alignmentgroup\":\"True\",\"hovertemplate\":\"Flow=Exports\\u003cbr\\u003eFinancial Year=2023-2024\\u003cbr\\u003eMaterial type=%{x}\\u003cbr\\u003eThousand tonnes (kT)=%{y}\\u003cextra\\u003e\\u003c\\u002fextra\\u003e\",\"legendgroup\":\"Exports\",\"marker\":{\"color\":\"#00cc96\",\"pattern\":{\"shape\":\"\"}},\"name\":\"Exports\",\"offsetgroup\":\"Exports\",\"orientation\":\"v\",\"showlegend\":true,\"textposition\":\"auto\",\"x\":[\"Glass\",\"Metals\",\"Organics\",\"Paper and cardboard\",\"Plastic\",\"Textiles\",\"Tyres and rubber\"],\"xaxis\":\"x\",\"y\":[0.0,634.6656175800001,0.0,306.173323,44.84978556474825,71.06241572,32.919934999],\"yaxis\":\"y\",\"type\":\"bar\"}],\"name\":\"2023-2024\"}]);\n",
       "                        }).then(function(){\n",
       "                            \n",
       "var gd = document.getElementById('83b5ec8f-d527-4afc-8b88-03a0fd15218c');\n",
       "var x = new MutationObserver(function (mutations, observer) {{\n",
       "        var display = window.getComputedStyle(gd).display;\n",
       "        if (!display || display === 'none') {{\n",
       "            console.log([gd, 'removed!']);\n",
       "            Plotly.purge(gd);\n",
       "            observer.disconnect();\n",
       "        }}\n",
       "}});\n",
       "\n",
       "// Listen for the removal of the full notebook cells\n",
       "var notebookContainer = gd.closest('#notebook-container');\n",
       "if (notebookContainer) {{\n",
       "    x.observe(notebookContainer, {childList: true});\n",
       "}}\n",
       "\n",
       "// Listen for the clearing of the current output cell\n",
       "var outputEl = gd.closest('.output');\n",
       "if (outputEl) {{\n",
       "    x.observe(outputEl, {childList: true});\n",
       "}}\n",
       "\n",
       "                        })                };                });            </script>        </div>"
      ]
     },
     "metadata": {},
     "output_type": "display_data"
    }
   ],
   "source": [
    "# --- 1) Load & prepare ---\n",
    "df = pd.read_csv(\"Victoria-Waste-v2025.1_clean.csv\")\n",
    "\n",
    "# Find the processed-locally column (handles the known 'Recoverd' typo)\n",
    "proc_col = next(c for c in df.columns if \"locally\" in c and \"Energy\" in c)\n",
    "\n",
    "# Calculate Exports = International + Interstate\n",
    "df[\"Exports\"] = df[\"International Export\"].fillna(0) + df[\"Interstate Export\"].fillna(0)\n",
    "\n",
    "# Exclude the large construction-like category\n",
    "df = df[df[\"Material Type\"] != \"Aggregate, masonry and soils\"].copy()\n",
    "\n",
    "# Aggregate to Year × Material\n",
    "g = (df.groupby([\"Financial Year\", \"Material Type\"], as_index=False)\n",
    "       .agg({\n",
    "           \"Disposal\":\"sum\",\n",
    "           proc_col:\"sum\",\n",
    "           \"Exports\":\"sum\"\n",
    "       }))\n",
    "\n",
    "# Convert values to thousand tonnes\n",
    "for col in [\"Disposal\", proc_col, \"Exports\"]:\n",
    "    g[col] = g[col] / 1000.0\n",
    "\n",
    "# Create a stable order of materials across years (rank by overall total)\n",
    "g[\"Total\"] = g[\"Disposal\"] + g[proc_col] + g[\"Exports\"]\n",
    "order_by_overall = (g.groupby(\"Material Type\")[\"Total\"].sum()\n",
    "                      .sort_values(ascending=False).index.tolist())\n",
    "\n",
    "# Transform into long format for stacked bars\n",
    "long_df = g.melt(\n",
    "    id_vars=[\"Financial Year\", \"Material Type\"],\n",
    "    value_vars=[\"Disposal\", proc_col, \"Exports\"],\n",
    "    var_name=\"Category\",\n",
    "    value_name=\"Thousand tonnes\"\n",
    ")\n",
    "\n",
    "# Rename the processed column for a nicer legend text\n",
    "rename_map = {proc_col: \"Recovered locally\"}\n",
    "long_df[\"Category\"] = long_df[\"Category\"].replace(rename_map)\n",
    "\n",
    "# Ensure year order is chronological\n",
    "year_order = sorted(long_df[\"Financial Year\"].unique())\n",
    "\n",
    "# --- 2) Plot: stacked bar with animation (time slider) ---\n",
    "fig = px.bar(\n",
    "    long_df,\n",
    "    x=\"Material Type\",\n",
    "    y=\"Thousand tonnes\",\n",
    "    color=\"Category\",\n",
    "    animation_frame=\"Financial Year\",          # add time slider\n",
    "    category_orders={\n",
    "        \"Material Type\": order_by_overall,     # keep stable material ordering\n",
    "        \"Financial Year\": year_order\n",
    "    },\n",
    "    title=\"Waste flows by Material Type (kT) — use the slider to change year\",\n",
    "    labels={\"Material Type\":\"Material type\", \"Thousand tonnes\":\"Thousand tonnes (kT)\", \"Category\":\"Flow\"},\n",
    "    template=\"plotly_white\"\n",
    ")\n",
    "\n",
    "fig.update_layout(\n",
    "    barmode=\"stack\",\n",
    "    xaxis_tickangle=-45,\n",
    "    hovermode=\"x unified\",\n",
    "    legend_title_text=\"Waste flow\",\n",
    "    title_x=0.5\n",
    ")\n",
    "\n",
    "# Add bottom margin for the slider and increase overall height\n",
    "fig.update_layout(\n",
    "    margin=dict(b=180),\n",
    "    height=750,  # make figure taller (default ~450, try 650~800)\n",
    ")\n",
    "\n",
    "# Optional: set y-axis max to 110% of the maximum value to avoid bars touching the top\n",
    "fig.update_yaxes(range=[0, long_df[\"Thousand tonnes\"].max() * 1.1])\n",
    "\n",
    "# Adjust bottom margin for the slider\n",
    "fig.update_layout(margin=dict(b=180))  # fine-tune between 160–200\n",
    "\n",
    "# Move the slider position and add vertical spacing\n",
    "sl = fig.layout.sliders[0]\n",
    "sl.update(y=-0.05, pad=dict(t=150, b=0))  # adjust y to move slider up/down; pad.t controls spacing\n",
    "\n",
    "# Align play/pause buttons with slider\n",
    "um = fig.layout.updatemenus[0]\n",
    "um.update(y=-0.05, x=0.0, xanchor=\"left\", yanchor=\"top\", pad=dict(t=150, r=10))\n",
    "\n",
    "# Optional: shorten or resize the slider's current value text\n",
    "sl.currentvalue.update(prefix=\"\", font=dict(size=11))  # remove \"Financial Year=\" prefix and use smaller font\n",
    "\n",
    "# Format hover values with 1 decimal place\n",
    "fig.update_traces(hovertemplate=\"%{x}<br>%{legendgroup}: %{y:.1f} kT\")\n",
    "\n",
    "fig.show()\n"
   ]
  },
  {
   "cell_type": "markdown",
   "id": "baed8831-9756-4657-8231-95a8141a37c2",
   "metadata": {},
   "source": [
    "## Visualization 3: Recovery Rate Trends by Source Sector (2015–2024)"
   ]
  },
  {
   "cell_type": "markdown",
   "id": "37f769fe-4984-4d02-9385-f4dcacba8ae8",
   "metadata": {},
   "source": [
    "C&D (Construction & Demolition) consistently achieves the highest recovery rates, staying above 80% across the years.  \r\n",
    "C&I (Commercial & Industrial) shows more fluctuation, with recovery levels moving between 55–65%.  \r\n",
    "MSW (Municipal Solid Waste) lags behind at 40–55%, highlighting that household recycling behaviour is the key area for improvement, especially relevant for new migrants learning local waste practices."
   ]
  },
  {
   "cell_type": "code",
   "execution_count": 44,
   "id": "5ac4b446-ec60-40e3-a575-87cee22d581a",
   "metadata": {},
   "outputs": [
    {
     "data": {
      "application/vnd.plotly.v1+json": {
       "config": {
        "plotlyServerURL": "https://plot.ly"
       },
       "data": [
        {
         "hovertemplate": "%{x}<br>%{legendgroup}: %{y:.0f}%",
         "legendgroup": "Construction & Demolition",
         "line": {
          "color": "#ab63fa",
          "dash": "solid"
         },
         "marker": {
          "symbol": "circle"
         },
         "mode": "lines+markers",
         "name": "Construction & Demolition",
         "orientation": "v",
         "showlegend": true,
         "type": "scatter",
         "x": [
          "2015-2016",
          "2016-2017",
          "2017-2018",
          "2018-2019",
          "2019-2020",
          "2020-2021",
          "2021-2022",
          "2022-2023",
          "2023-2024"
         ],
         "xaxis": "x",
         "y": [
          81.82212588047423,
          81.53144385711933,
          85.66252722534146,
          86.57917657296804,
          86.22278357604183,
          86.15071496939268,
          84.02180496909064,
          84.47835975348956,
          83.32234867514225
         ],
         "yaxis": "y"
        },
        {
         "hovertemplate": "%{x}<br>%{legendgroup}: %{y:.0f}%",
         "legendgroup": "Commercial & Industrial",
         "line": {
          "color": "#FFA15A",
          "dash": "solid"
         },
         "marker": {
          "symbol": "circle"
         },
         "mode": "lines+markers",
         "name": "Commercial & Industrial",
         "orientation": "v",
         "showlegend": true,
         "type": "scatter",
         "x": [
          "2015-2016",
          "2016-2017",
          "2017-2018",
          "2018-2019",
          "2019-2020",
          "2020-2021",
          "2021-2022",
          "2022-2023",
          "2023-2024"
         ],
         "xaxis": "x",
         "y": [
          64.6238486578785,
          66.19037163591165,
          60.31645412319823,
          55.03862327992235,
          53.81582276789769,
          59.76524072279711,
          54.52956850325559,
          54.302444145870524,
          56.16775674613085
         ],
         "yaxis": "y"
        },
        {
         "hovertemplate": "%{x}<br>%{legendgroup}: %{y:.0f}%",
         "legendgroup": "Municipal Solid Waste (Household)",
         "line": {
          "color": "#19d3f3",
          "dash": "solid"
         },
         "marker": {
          "symbol": "circle"
         },
         "mode": "lines+markers",
         "name": "Municipal Solid Waste (Household)",
         "orientation": "v",
         "showlegend": true,
         "type": "scatter",
         "x": [
          "2015-2016",
          "2016-2017",
          "2017-2018",
          "2018-2019",
          "2019-2020",
          "2020-2021",
          "2021-2022",
          "2022-2023",
          "2023-2024"
         ],
         "xaxis": "x",
         "y": [
          41.49400661235105,
          43.05633821375733,
          43.51406264107875,
          45.61014318650359,
          51.26395055557348,
          48.95194818875518,
          56.80855146595045,
          56.468064352118965,
          62.259526942140006
         ],
         "yaxis": "y"
        }
       ],
       "layout": {
        "autosize": true,
        "hovermode": "x unified",
        "legend": {
         "title": {
          "text": ""
         },
         "tracegroupgap": 0
        },
        "template": {
         "data": {
          "bar": [
           {
            "error_x": {
             "color": "#2a3f5f"
            },
            "error_y": {
             "color": "#2a3f5f"
            },
            "marker": {
             "line": {
              "color": "white",
              "width": 0.5
             },
             "pattern": {
              "fillmode": "overlay",
              "size": 10,
              "solidity": 0.2
             }
            },
            "type": "bar"
           }
          ],
          "barpolar": [
           {
            "marker": {
             "line": {
              "color": "white",
              "width": 0.5
             },
             "pattern": {
              "fillmode": "overlay",
              "size": 10,
              "solidity": 0.2
             }
            },
            "type": "barpolar"
           }
          ],
          "carpet": [
           {
            "aaxis": {
             "endlinecolor": "#2a3f5f",
             "gridcolor": "#C8D4E3",
             "linecolor": "#C8D4E3",
             "minorgridcolor": "#C8D4E3",
             "startlinecolor": "#2a3f5f"
            },
            "baxis": {
             "endlinecolor": "#2a3f5f",
             "gridcolor": "#C8D4E3",
             "linecolor": "#C8D4E3",
             "minorgridcolor": "#C8D4E3",
             "startlinecolor": "#2a3f5f"
            },
            "type": "carpet"
           }
          ],
          "choropleth": [
           {
            "colorbar": {
             "outlinewidth": 0,
             "ticks": ""
            },
            "type": "choropleth"
           }
          ],
          "contour": [
           {
            "colorbar": {
             "outlinewidth": 0,
             "ticks": ""
            },
            "colorscale": [
             [
              0,
              "#0d0887"
             ],
             [
              0.1111111111111111,
              "#46039f"
             ],
             [
              0.2222222222222222,
              "#7201a8"
             ],
             [
              0.3333333333333333,
              "#9c179e"
             ],
             [
              0.4444444444444444,
              "#bd3786"
             ],
             [
              0.5555555555555556,
              "#d8576b"
             ],
             [
              0.6666666666666666,
              "#ed7953"
             ],
             [
              0.7777777777777778,
              "#fb9f3a"
             ],
             [
              0.8888888888888888,
              "#fdca26"
             ],
             [
              1,
              "#f0f921"
             ]
            ],
            "type": "contour"
           }
          ],
          "contourcarpet": [
           {
            "colorbar": {
             "outlinewidth": 0,
             "ticks": ""
            },
            "type": "contourcarpet"
           }
          ],
          "heatmap": [
           {
            "colorbar": {
             "outlinewidth": 0,
             "ticks": ""
            },
            "colorscale": [
             [
              0,
              "#0d0887"
             ],
             [
              0.1111111111111111,
              "#46039f"
             ],
             [
              0.2222222222222222,
              "#7201a8"
             ],
             [
              0.3333333333333333,
              "#9c179e"
             ],
             [
              0.4444444444444444,
              "#bd3786"
             ],
             [
              0.5555555555555556,
              "#d8576b"
             ],
             [
              0.6666666666666666,
              "#ed7953"
             ],
             [
              0.7777777777777778,
              "#fb9f3a"
             ],
             [
              0.8888888888888888,
              "#fdca26"
             ],
             [
              1,
              "#f0f921"
             ]
            ],
            "type": "heatmap"
           }
          ],
          "heatmapgl": [
           {
            "colorbar": {
             "outlinewidth": 0,
             "ticks": ""
            },
            "colorscale": [
             [
              0,
              "#0d0887"
             ],
             [
              0.1111111111111111,
              "#46039f"
             ],
             [
              0.2222222222222222,
              "#7201a8"
             ],
             [
              0.3333333333333333,
              "#9c179e"
             ],
             [
              0.4444444444444444,
              "#bd3786"
             ],
             [
              0.5555555555555556,
              "#d8576b"
             ],
             [
              0.6666666666666666,
              "#ed7953"
             ],
             [
              0.7777777777777778,
              "#fb9f3a"
             ],
             [
              0.8888888888888888,
              "#fdca26"
             ],
             [
              1,
              "#f0f921"
             ]
            ],
            "type": "heatmapgl"
           }
          ],
          "histogram": [
           {
            "marker": {
             "pattern": {
              "fillmode": "overlay",
              "size": 10,
              "solidity": 0.2
             }
            },
            "type": "histogram"
           }
          ],
          "histogram2d": [
           {
            "colorbar": {
             "outlinewidth": 0,
             "ticks": ""
            },
            "colorscale": [
             [
              0,
              "#0d0887"
             ],
             [
              0.1111111111111111,
              "#46039f"
             ],
             [
              0.2222222222222222,
              "#7201a8"
             ],
             [
              0.3333333333333333,
              "#9c179e"
             ],
             [
              0.4444444444444444,
              "#bd3786"
             ],
             [
              0.5555555555555556,
              "#d8576b"
             ],
             [
              0.6666666666666666,
              "#ed7953"
             ],
             [
              0.7777777777777778,
              "#fb9f3a"
             ],
             [
              0.8888888888888888,
              "#fdca26"
             ],
             [
              1,
              "#f0f921"
             ]
            ],
            "type": "histogram2d"
           }
          ],
          "histogram2dcontour": [
           {
            "colorbar": {
             "outlinewidth": 0,
             "ticks": ""
            },
            "colorscale": [
             [
              0,
              "#0d0887"
             ],
             [
              0.1111111111111111,
              "#46039f"
             ],
             [
              0.2222222222222222,
              "#7201a8"
             ],
             [
              0.3333333333333333,
              "#9c179e"
             ],
             [
              0.4444444444444444,
              "#bd3786"
             ],
             [
              0.5555555555555556,
              "#d8576b"
             ],
             [
              0.6666666666666666,
              "#ed7953"
             ],
             [
              0.7777777777777778,
              "#fb9f3a"
             ],
             [
              0.8888888888888888,
              "#fdca26"
             ],
             [
              1,
              "#f0f921"
             ]
            ],
            "type": "histogram2dcontour"
           }
          ],
          "mesh3d": [
           {
            "colorbar": {
             "outlinewidth": 0,
             "ticks": ""
            },
            "type": "mesh3d"
           }
          ],
          "parcoords": [
           {
            "line": {
             "colorbar": {
              "outlinewidth": 0,
              "ticks": ""
             }
            },
            "type": "parcoords"
           }
          ],
          "pie": [
           {
            "automargin": true,
            "type": "pie"
           }
          ],
          "scatter": [
           {
            "fillpattern": {
             "fillmode": "overlay",
             "size": 10,
             "solidity": 0.2
            },
            "type": "scatter"
           }
          ],
          "scatter3d": [
           {
            "line": {
             "colorbar": {
              "outlinewidth": 0,
              "ticks": ""
             }
            },
            "marker": {
             "colorbar": {
              "outlinewidth": 0,
              "ticks": ""
             }
            },
            "type": "scatter3d"
           }
          ],
          "scattercarpet": [
           {
            "marker": {
             "colorbar": {
              "outlinewidth": 0,
              "ticks": ""
             }
            },
            "type": "scattercarpet"
           }
          ],
          "scattergeo": [
           {
            "marker": {
             "colorbar": {
              "outlinewidth": 0,
              "ticks": ""
             }
            },
            "type": "scattergeo"
           }
          ],
          "scattergl": [
           {
            "marker": {
             "colorbar": {
              "outlinewidth": 0,
              "ticks": ""
             }
            },
            "type": "scattergl"
           }
          ],
          "scattermapbox": [
           {
            "marker": {
             "colorbar": {
              "outlinewidth": 0,
              "ticks": ""
             }
            },
            "type": "scattermapbox"
           }
          ],
          "scatterpolar": [
           {
            "marker": {
             "colorbar": {
              "outlinewidth": 0,
              "ticks": ""
             }
            },
            "type": "scatterpolar"
           }
          ],
          "scatterpolargl": [
           {
            "marker": {
             "colorbar": {
              "outlinewidth": 0,
              "ticks": ""
             }
            },
            "type": "scatterpolargl"
           }
          ],
          "scatterternary": [
           {
            "marker": {
             "colorbar": {
              "outlinewidth": 0,
              "ticks": ""
             }
            },
            "type": "scatterternary"
           }
          ],
          "surface": [
           {
            "colorbar": {
             "outlinewidth": 0,
             "ticks": ""
            },
            "colorscale": [
             [
              0,
              "#0d0887"
             ],
             [
              0.1111111111111111,
              "#46039f"
             ],
             [
              0.2222222222222222,
              "#7201a8"
             ],
             [
              0.3333333333333333,
              "#9c179e"
             ],
             [
              0.4444444444444444,
              "#bd3786"
             ],
             [
              0.5555555555555556,
              "#d8576b"
             ],
             [
              0.6666666666666666,
              "#ed7953"
             ],
             [
              0.7777777777777778,
              "#fb9f3a"
             ],
             [
              0.8888888888888888,
              "#fdca26"
             ],
             [
              1,
              "#f0f921"
             ]
            ],
            "type": "surface"
           }
          ],
          "table": [
           {
            "cells": {
             "fill": {
              "color": "#EBF0F8"
             },
             "line": {
              "color": "white"
             }
            },
            "header": {
             "fill": {
              "color": "#C8D4E3"
             },
             "line": {
              "color": "white"
             }
            },
            "type": "table"
           }
          ]
         },
         "layout": {
          "annotationdefaults": {
           "arrowcolor": "#2a3f5f",
           "arrowhead": 0,
           "arrowwidth": 1
          },
          "autotypenumbers": "strict",
          "coloraxis": {
           "colorbar": {
            "outlinewidth": 0,
            "ticks": ""
           }
          },
          "colorscale": {
           "diverging": [
            [
             0,
             "#8e0152"
            ],
            [
             0.1,
             "#c51b7d"
            ],
            [
             0.2,
             "#de77ae"
            ],
            [
             0.3,
             "#f1b6da"
            ],
            [
             0.4,
             "#fde0ef"
            ],
            [
             0.5,
             "#f7f7f7"
            ],
            [
             0.6,
             "#e6f5d0"
            ],
            [
             0.7,
             "#b8e186"
            ],
            [
             0.8,
             "#7fbc41"
            ],
            [
             0.9,
             "#4d9221"
            ],
            [
             1,
             "#276419"
            ]
           ],
           "sequential": [
            [
             0,
             "#0d0887"
            ],
            [
             0.1111111111111111,
             "#46039f"
            ],
            [
             0.2222222222222222,
             "#7201a8"
            ],
            [
             0.3333333333333333,
             "#9c179e"
            ],
            [
             0.4444444444444444,
             "#bd3786"
            ],
            [
             0.5555555555555556,
             "#d8576b"
            ],
            [
             0.6666666666666666,
             "#ed7953"
            ],
            [
             0.7777777777777778,
             "#fb9f3a"
            ],
            [
             0.8888888888888888,
             "#fdca26"
            ],
            [
             1,
             "#f0f921"
            ]
           ],
           "sequentialminus": [
            [
             0,
             "#0d0887"
            ],
            [
             0.1111111111111111,
             "#46039f"
            ],
            [
             0.2222222222222222,
             "#7201a8"
            ],
            [
             0.3333333333333333,
             "#9c179e"
            ],
            [
             0.4444444444444444,
             "#bd3786"
            ],
            [
             0.5555555555555556,
             "#d8576b"
            ],
            [
             0.6666666666666666,
             "#ed7953"
            ],
            [
             0.7777777777777778,
             "#fb9f3a"
            ],
            [
             0.8888888888888888,
             "#fdca26"
            ],
            [
             1,
             "#f0f921"
            ]
           ]
          },
          "colorway": [
           "#636efa",
           "#EF553B",
           "#00cc96",
           "#ab63fa",
           "#FFA15A",
           "#19d3f3",
           "#FF6692",
           "#B6E880",
           "#FF97FF",
           "#FECB52"
          ],
          "font": {
           "color": "#2a3f5f"
          },
          "geo": {
           "bgcolor": "white",
           "lakecolor": "white",
           "landcolor": "white",
           "showlakes": true,
           "showland": true,
           "subunitcolor": "#C8D4E3"
          },
          "hoverlabel": {
           "align": "left"
          },
          "hovermode": "closest",
          "mapbox": {
           "style": "light"
          },
          "paper_bgcolor": "white",
          "plot_bgcolor": "white",
          "polar": {
           "angularaxis": {
            "gridcolor": "#EBF0F8",
            "linecolor": "#EBF0F8",
            "ticks": ""
           },
           "bgcolor": "white",
           "radialaxis": {
            "gridcolor": "#EBF0F8",
            "linecolor": "#EBF0F8",
            "ticks": ""
           }
          },
          "scene": {
           "xaxis": {
            "backgroundcolor": "white",
            "gridcolor": "#DFE8F3",
            "gridwidth": 2,
            "linecolor": "#EBF0F8",
            "showbackground": true,
            "ticks": "",
            "zerolinecolor": "#EBF0F8"
           },
           "yaxis": {
            "backgroundcolor": "white",
            "gridcolor": "#DFE8F3",
            "gridwidth": 2,
            "linecolor": "#EBF0F8",
            "showbackground": true,
            "ticks": "",
            "zerolinecolor": "#EBF0F8"
           },
           "zaxis": {
            "backgroundcolor": "white",
            "gridcolor": "#DFE8F3",
            "gridwidth": 2,
            "linecolor": "#EBF0F8",
            "showbackground": true,
            "ticks": "",
            "zerolinecolor": "#EBF0F8"
           }
          },
          "shapedefaults": {
           "line": {
            "color": "#2a3f5f"
           }
          },
          "ternary": {
           "aaxis": {
            "gridcolor": "#DFE8F3",
            "linecolor": "#A2B1C6",
            "ticks": ""
           },
           "baxis": {
            "gridcolor": "#DFE8F3",
            "linecolor": "#A2B1C6",
            "ticks": ""
           },
           "bgcolor": "white",
           "caxis": {
            "gridcolor": "#DFE8F3",
            "linecolor": "#A2B1C6",
            "ticks": ""
           }
          },
          "title": {
           "x": 0.05
          },
          "xaxis": {
           "automargin": true,
           "gridcolor": "#EBF0F8",
           "linecolor": "#EBF0F8",
           "ticks": "",
           "title": {
            "standoff": 15
           },
           "zerolinecolor": "#EBF0F8",
           "zerolinewidth": 2
          },
          "yaxis": {
           "automargin": true,
           "gridcolor": "#EBF0F8",
           "linecolor": "#EBF0F8",
           "ticks": "",
           "title": {
            "standoff": 15
           },
           "zerolinecolor": "#EBF0F8",
           "zerolinewidth": 2
          }
         }
        },
        "title": {
         "text": "Recovery rate over time by source sector",
         "x": 0.5
        },
        "xaxis": {
         "anchor": "y",
         "autorange": true,
         "categoryarray": [
          "2015-2016",
          "2016-2017",
          "2017-2018",
          "2018-2019",
          "2019-2020",
          "2020-2021",
          "2021-2022",
          "2022-2023",
          "2023-2024"
         ],
         "categoryorder": "array",
         "domain": [
          0,
          1
         ],
         "range": [
          -0.495483080692084,
          8.495483080692084
         ],
         "tickangle": -30,
         "title": {
          "text": "Year"
         },
         "type": "category"
        },
        "yaxis": {
         "anchor": "x",
         "domain": [
          0,
          1
         ],
         "griddash": "dot",
         "range": [
          0,
          100
         ],
         "ticksuffix": "%",
         "title": {
          "text": "Recovery Rate %"
         },
         "type": "linear"
        }
       }
      },
      "image/png": "[encoded data removed]",
      "text/html": [
       "<div>                            <div id=\"4bf893c8-4b55-4045-8373-252956c62fc2\" class=\"plotly-graph-div\" style=\"height:600px; width:100%;\"></div>            <script type=\"text/javascript\">                require([\"plotly\"], function(Plotly) {                    window.PLOTLYENV=window.PLOTLYENV || {};                                    if (document.getElementById(\"4bf893c8-4b55-4045-8373-252956c62fc2\")) {                    Plotly.newPlot(                        \"4bf893c8-4b55-4045-8373-252956c62fc2\",                        [{\"hovertemplate\":\"%{x}\\u003cbr\\u003e%{legendgroup}: %{y:.0f}%\",\"legendgroup\":\"Construction & Demolition\",\"line\":{\"color\":\"#ab63fa\",\"dash\":\"solid\"},\"marker\":{\"symbol\":\"circle\"},\"mode\":\"lines+markers\",\"name\":\"Construction & Demolition\",\"orientation\":\"v\",\"showlegend\":true,\"x\":[\"2015-2016\",\"2016-2017\",\"2017-2018\",\"2018-2019\",\"2019-2020\",\"2020-2021\",\"2021-2022\",\"2022-2023\",\"2023-2024\"],\"xaxis\":\"x\",\"y\":[81.82212588047423,81.53144385711933,85.66252722534146,86.57917657296804,86.22278357604183,86.15071496939268,84.02180496909064,84.47835975348956,83.32234867514225],\"yaxis\":\"y\",\"type\":\"scatter\"},{\"hovertemplate\":\"%{x}\\u003cbr\\u003e%{legendgroup}: %{y:.0f}%\",\"legendgroup\":\"Commercial & Industrial\",\"line\":{\"color\":\"#FFA15A\",\"dash\":\"solid\"},\"marker\":{\"symbol\":\"circle\"},\"mode\":\"lines+markers\",\"name\":\"Commercial & Industrial\",\"orientation\":\"v\",\"showlegend\":true,\"x\":[\"2015-2016\",\"2016-2017\",\"2017-2018\",\"2018-2019\",\"2019-2020\",\"2020-2021\",\"2021-2022\",\"2022-2023\",\"2023-2024\"],\"xaxis\":\"x\",\"y\":[64.6238486578785,66.19037163591165,60.31645412319823,55.03862327992235,53.81582276789769,59.76524072279711,54.52956850325559,54.302444145870524,56.16775674613085],\"yaxis\":\"y\",\"type\":\"scatter\"},{\"hovertemplate\":\"%{x}\\u003cbr\\u003e%{legendgroup}: %{y:.0f}%\",\"legendgroup\":\"Municipal Solid Waste (Household)\",\"line\":{\"color\":\"#19d3f3\",\"dash\":\"solid\"},\"marker\":{\"symbol\":\"circle\"},\"mode\":\"lines+markers\",\"name\":\"Municipal Solid Waste (Household)\",\"orientation\":\"v\",\"showlegend\":true,\"x\":[\"2015-2016\",\"2016-2017\",\"2017-2018\",\"2018-2019\",\"2019-2020\",\"2020-2021\",\"2021-2022\",\"2022-2023\",\"2023-2024\"],\"xaxis\":\"x\",\"y\":[41.49400661235105,43.05633821375733,43.51406264107875,45.61014318650359,51.26395055557348,48.95194818875518,56.80855146595045,56.468064352118965,62.259526942140006],\"yaxis\":\"y\",\"type\":\"scatter\"}],                        {\"template\":{\"data\":{\"barpolar\":[{\"marker\":{\"line\":{\"color\":\"white\",\"width\":0.5},\"pattern\":{\"fillmode\":\"overlay\",\"size\":10,\"solidity\":0.2}},\"type\":\"barpolar\"}],\"bar\":[{\"error_x\":{\"color\":\"#2a3f5f\"},\"error_y\":{\"color\":\"#2a3f5f\"},\"marker\":{\"line\":{\"color\":\"white\",\"width\":0.5},\"pattern\":{\"fillmode\":\"overlay\",\"size\":10,\"solidity\":0.2}},\"type\":\"bar\"}],\"carpet\":[{\"aaxis\":{\"endlinecolor\":\"#2a3f5f\",\"gridcolor\":\"#C8D4E3\",\"linecolor\":\"#C8D4E3\",\"minorgridcolor\":\"#C8D4E3\",\"startlinecolor\":\"#2a3f5f\"},\"baxis\":{\"endlinecolor\":\"#2a3f5f\",\"gridcolor\":\"#C8D4E3\",\"linecolor\":\"#C8D4E3\",\"minorgridcolor\":\"#C8D4E3\",\"startlinecolor\":\"#2a3f5f\"},\"type\":\"carpet\"}],\"choropleth\":[{\"colorbar\":{\"outlinewidth\":0,\"ticks\":\"\"},\"type\":\"choropleth\"}],\"contourcarpet\":[{\"colorbar\":{\"outlinewidth\":0,\"ticks\":\"\"},\"type\":\"contourcarpet\"}],\"contour\":[{\"colorbar\":{\"outlinewidth\":0,\"ticks\":\"\"},\"colorscale\":[[0.0,\"#0d0887\"],[0.1111111111111111,\"#46039f\"],[0.2222222222222222,\"#7201a8\"],[0.3333333333333333,\"#9c179e\"],[0.4444444444444444,\"#bd3786\"],[0.5555555555555556,\"#d8576b\"],[0.6666666666666666,\"#ed7953\"],[0.7777777777777778,\"#fb9f3a\"],[0.8888888888888888,\"#fdca26\"],[1.0,\"#f0f921\"]],\"type\":\"contour\"}],\"heatmapgl\":[{\"colorbar\":{\"outlinewidth\":0,\"ticks\":\"\"},\"colorscale\":[[0.0,\"#0d0887\"],[0.1111111111111111,\"#46039f\"],[0.2222222222222222,\"#7201a8\"],[0.3333333333333333,\"#9c179e\"],[0.4444444444444444,\"#bd3786\"],[0.5555555555555556,\"#d8576b\"],[0.6666666666666666,\"#ed7953\"],[0.7777777777777778,\"#fb9f3a\"],[0.8888888888888888,\"#fdca26\"],[1.0,\"#f0f921\"]],\"type\":\"heatmapgl\"}],\"heatmap\":[{\"colorbar\":{\"outlinewidth\":0,\"ticks\":\"\"},\"colorscale\":[[0.0,\"#0d0887\"],[0.1111111111111111,\"#46039f\"],[0.2222222222222222,\"#7201a8\"],[0.3333333333333333,\"#9c179e\"],[0.4444444444444444,\"#bd3786\"],[0.5555555555555556,\"#d8576b\"],[0.6666666666666666,\"#ed7953\"],[0.7777777777777778,\"#fb9f3a\"],[0.8888888888888888,\"#fdca26\"],[1.0,\"#f0f921\"]],\"type\":\"heatmap\"}],\"histogram2dcontour\":[{\"colorbar\":{\"outlinewidth\":0,\"ticks\":\"\"},\"colorscale\":[[0.0,\"#0d0887\"],[0.1111111111111111,\"#46039f\"],[0.2222222222222222,\"#7201a8\"],[0.3333333333333333,\"#9c179e\"],[0.4444444444444444,\"#bd3786\"],[0.5555555555555556,\"#d8576b\"],[0.6666666666666666,\"#ed7953\"],[0.7777777777777778,\"#fb9f3a\"],[0.8888888888888888,\"#fdca26\"],[1.0,\"#f0f921\"]],\"type\":\"histogram2dcontour\"}],\"histogram2d\":[{\"colorbar\":{\"outlinewidth\":0,\"ticks\":\"\"},\"colorscale\":[[0.0,\"#0d0887\"],[0.1111111111111111,\"#46039f\"],[0.2222222222222222,\"#7201a8\"],[0.3333333333333333,\"#9c179e\"],[0.4444444444444444,\"#bd3786\"],[0.5555555555555556,\"#d8576b\"],[0.6666666666666666,\"#ed7953\"],[0.7777777777777778,\"#fb9f3a\"],[0.8888888888888888,\"#fdca26\"],[1.0,\"#f0f921\"]],\"type\":\"histogram2d\"}],\"histogram\":[{\"marker\":{\"pattern\":{\"fillmode\":\"overlay\",\"size\":10,\"solidity\":0.2}},\"type\":\"histogram\"}],\"mesh3d\":[{\"colorbar\":{\"outlinewidth\":0,\"ticks\":\"\"},\"type\":\"mesh3d\"}],\"parcoords\":[{\"line\":{\"colorbar\":{\"outlinewidth\":0,\"ticks\":\"\"}},\"type\":\"parcoords\"}],\"pie\":[{\"automargin\":true,\"type\":\"pie\"}],\"scatter3d\":[{\"line\":{\"colorbar\":{\"outlinewidth\":0,\"ticks\":\"\"}},\"marker\":{\"colorbar\":{\"outlinewidth\":0,\"ticks\":\"\"}},\"type\":\"scatter3d\"}],\"scattercarpet\":[{\"marker\":{\"colorbar\":{\"outlinewidth\":0,\"ticks\":\"\"}},\"type\":\"scattercarpet\"}],\"scattergeo\":[{\"marker\":{\"colorbar\":{\"outlinewidth\":0,\"ticks\":\"\"}},\"type\":\"scattergeo\"}],\"scattergl\":[{\"marker\":{\"colorbar\":{\"outlinewidth\":0,\"ticks\":\"\"}},\"type\":\"scattergl\"}],\"scattermapbox\":[{\"marker\":{\"colorbar\":{\"outlinewidth\":0,\"ticks\":\"\"}},\"type\":\"scattermapbox\"}],\"scatterpolargl\":[{\"marker\":{\"colorbar\":{\"outlinewidth\":0,\"ticks\":\"\"}},\"type\":\"scatterpolargl\"}],\"scatterpolar\":[{\"marker\":{\"colorbar\":{\"outlinewidth\":0,\"ticks\":\"\"}},\"type\":\"scatterpolar\"}],\"scatter\":[{\"fillpattern\":{\"fillmode\":\"overlay\",\"size\":10,\"solidity\":0.2},\"type\":\"scatter\"}],\"scatterternary\":[{\"marker\":{\"colorbar\":{\"outlinewidth\":0,\"ticks\":\"\"}},\"type\":\"scatterternary\"}],\"surface\":[{\"colorbar\":{\"outlinewidth\":0,\"ticks\":\"\"},\"colorscale\":[[0.0,\"#0d0887\"],[0.1111111111111111,\"#46039f\"],[0.2222222222222222,\"#7201a8\"],[0.3333333333333333,\"#9c179e\"],[0.4444444444444444,\"#bd3786\"],[0.5555555555555556,\"#d8576b\"],[0.6666666666666666,\"#ed7953\"],[0.7777777777777778,\"#fb9f3a\"],[0.8888888888888888,\"#fdca26\"],[1.0,\"#f0f921\"]],\"type\":\"surface\"}],\"table\":[{\"cells\":{\"fill\":{\"color\":\"#EBF0F8\"},\"line\":{\"color\":\"white\"}},\"header\":{\"fill\":{\"color\":\"#C8D4E3\"},\"line\":{\"color\":\"white\"}},\"type\":\"table\"}]},\"layout\":{\"annotationdefaults\":{\"arrowcolor\":\"#2a3f5f\",\"arrowhead\":0,\"arrowwidth\":1},\"autotypenumbers\":\"strict\",\"coloraxis\":{\"colorbar\":{\"outlinewidth\":0,\"ticks\":\"\"}},\"colorscale\":{\"diverging\":[[0,\"#8e0152\"],[0.1,\"#c51b7d\"],[0.2,\"#de77ae\"],[0.3,\"#f1b6da\"],[0.4,\"#fde0ef\"],[0.5,\"#f7f7f7\"],[0.6,\"#e6f5d0\"],[0.7,\"#b8e186\"],[0.8,\"#7fbc41\"],[0.9,\"#4d9221\"],[1,\"#276419\"]],\"sequential\":[[0.0,\"#0d0887\"],[0.1111111111111111,\"#46039f\"],[0.2222222222222222,\"#7201a8\"],[0.3333333333333333,\"#9c179e\"],[0.4444444444444444,\"#bd3786\"],[0.5555555555555556,\"#d8576b\"],[0.6666666666666666,\"#ed7953\"],[0.7777777777777778,\"#fb9f3a\"],[0.8888888888888888,\"#fdca26\"],[1.0,\"#f0f921\"]],\"sequentialminus\":[[0.0,\"#0d0887\"],[0.1111111111111111,\"#46039f\"],[0.2222222222222222,\"#7201a8\"],[0.3333333333333333,\"#9c179e\"],[0.4444444444444444,\"#bd3786\"],[0.5555555555555556,\"#d8576b\"],[0.6666666666666666,\"#ed7953\"],[0.7777777777777778,\"#fb9f3a\"],[0.8888888888888888,\"#fdca26\"],[1.0,\"#f0f921\"]]},\"colorway\":[\"#636efa\",\"#EF553B\",\"#00cc96\",\"#ab63fa\",\"#FFA15A\",\"#19d3f3\",\"#FF6692\",\"#B6E880\",\"#FF97FF\",\"#FECB52\"],\"font\":{\"color\":\"#2a3f5f\"},\"geo\":{\"bgcolor\":\"white\",\"lakecolor\":\"white\",\"landcolor\":\"white\",\"showlakes\":true,\"showland\":true,\"subunitcolor\":\"#C8D4E3\"},\"hoverlabel\":{\"align\":\"left\"},\"hovermode\":\"closest\",\"mapbox\":{\"style\":\"light\"},\"paper_bgcolor\":\"white\",\"plot_bgcolor\":\"white\",\"polar\":{\"angularaxis\":{\"gridcolor\":\"#EBF0F8\",\"linecolor\":\"#EBF0F8\",\"ticks\":\"\"},\"bgcolor\":\"white\",\"radialaxis\":{\"gridcolor\":\"#EBF0F8\",\"linecolor\":\"#EBF0F8\",\"ticks\":\"\"}},\"scene\":{\"xaxis\":{\"backgroundcolor\":\"white\",\"gridcolor\":\"#DFE8F3\",\"gridwidth\":2,\"linecolor\":\"#EBF0F8\",\"showbackground\":true,\"ticks\":\"\",\"zerolinecolor\":\"#EBF0F8\"},\"yaxis\":{\"backgroundcolor\":\"white\",\"gridcolor\":\"#DFE8F3\",\"gridwidth\":2,\"linecolor\":\"#EBF0F8\",\"showbackground\":true,\"ticks\":\"\",\"zerolinecolor\":\"#EBF0F8\"},\"zaxis\":{\"backgroundcolor\":\"white\",\"gridcolor\":\"#DFE8F3\",\"gridwidth\":2,\"linecolor\":\"#EBF0F8\",\"showbackground\":true,\"ticks\":\"\",\"zerolinecolor\":\"#EBF0F8\"}},\"shapedefaults\":{\"line\":{\"color\":\"#2a3f5f\"}},\"ternary\":{\"aaxis\":{\"gridcolor\":\"#DFE8F3\",\"linecolor\":\"#A2B1C6\",\"ticks\":\"\"},\"baxis\":{\"gridcolor\":\"#DFE8F3\",\"linecolor\":\"#A2B1C6\",\"ticks\":\"\"},\"bgcolor\":\"white\",\"caxis\":{\"gridcolor\":\"#DFE8F3\",\"linecolor\":\"#A2B1C6\",\"ticks\":\"\"}},\"title\":{\"x\":0.05},\"xaxis\":{\"automargin\":true,\"gridcolor\":\"#EBF0F8\",\"linecolor\":\"#EBF0F8\",\"ticks\":\"\",\"title\":{\"standoff\":15},\"zerolinecolor\":\"#EBF0F8\",\"zerolinewidth\":2},\"yaxis\":{\"automargin\":true,\"gridcolor\":\"#EBF0F8\",\"linecolor\":\"#EBF0F8\",\"ticks\":\"\",\"title\":{\"standoff\":15},\"zerolinecolor\":\"#EBF0F8\",\"zerolinewidth\":2}}},\"xaxis\":{\"anchor\":\"y\",\"domain\":[0.0,1.0],\"title\":{\"text\":\"Year\"},\"categoryorder\":\"array\",\"categoryarray\":[\"2015-2016\",\"2016-2017\",\"2017-2018\",\"2018-2019\",\"2019-2020\",\"2020-2021\",\"2021-2022\",\"2022-2023\",\"2023-2024\"],\"tickangle\":-30},\"yaxis\":{\"anchor\":\"x\",\"domain\":[0.0,1.0],\"title\":{\"text\":\"Recovery Rate %\"},\"range\":[0,100],\"ticksuffix\":\"%\",\"griddash\":\"dot\"},\"legend\":{\"title\":{\"text\":\"\"},\"tracegroupgap\":0},\"title\":{\"text\":\"Recovery rate over time by source sector\",\"x\":0.5},\"hovermode\":\"x unified\",\"height\":600},                        {\"responsive\": true}                    ).then(function(){\n",
       "                            \n",
       "var gd = document.getElementById('4bf893c8-4b55-4045-8373-252956c62fc2');\n",
       "var x = new MutationObserver(function (mutations, observer) {{\n",
       "        var display = window.getComputedStyle(gd).display;\n",
       "        if (!display || display === 'none') {{\n",
       "            console.log([gd, 'removed!']);\n",
       "            Plotly.purge(gd);\n",
       "            observer.disconnect();\n",
       "        }}\n",
       "}});\n",
       "\n",
       "// Listen for the removal of the full notebook cells\n",
       "var notebookContainer = gd.closest('#notebook-container');\n",
       "if (notebookContainer) {{\n",
       "    x.observe(notebookContainer, {childList: true});\n",
       "}}\n",
       "\n",
       "// Listen for the clearing of the current output cell\n",
       "var outputEl = gd.closest('.output');\n",
       "if (outputEl) {{\n",
       "    x.observe(outputEl, {childList: true});\n",
       "}}\n",
       "\n",
       "                        })                };                });            </script>        </div>"
      ]
     },
     "metadata": {},
     "output_type": "display_data"
    }
   ],
   "source": [
    "# --- 1) Load & prepare ---\n",
    "df = pd.read_csv(\"Victoria-Waste-v2025.1_clean.csv\")\n",
    "\n",
    "# Find the processed-locally column (handles the 'Recoverd ...' typo)\n",
    "proc_col = next(c for c in df.columns if \"locally\" in c and \"Energy\" in c)\n",
    "\n",
    "# Compute Exports = International + Interstate\n",
    "df[\"Exports\"] = df[\"International Export\"].fillna(0) + df[\"Interstate Export\"].fillna(0)\n",
    "\n",
    "# --- 2) Aggregate by year x source sector and compute recovery rate ---\n",
    "sector = (df.groupby([\"Financial Year\", \"Source Sector\"], as_index=False)\n",
    "            .agg({\n",
    "                \"Total Generation\":\"sum\",\n",
    "                \"Disposal\":\"sum\",\n",
    "                proc_col:\"sum\",\n",
    "                \"Exports\":\"sum\"\n",
    "            }))\n",
    "\n",
    "sector[\"Recovery Rate %\"] = (sector[proc_col] + sector[\"Exports\"]) / sector[\"Total Generation\"] * 100\n",
    "\n",
    "\n",
    "rename_map = {\n",
    "    \"CND\": \"Construction & Demolition\",\n",
    "    \"CNI\": \"Commercial & Industrial\",\n",
    "    \"MSW\": \"Municipal Solid Waste (Household)\"\n",
    "}\n",
    "sector[\"Source Sector\"] = sector[\"Source Sector\"].replace(rename_map)\n",
    "\n",
    "# Keep chronological year order\n",
    "year_order = sorted(sector[\"Financial Year\"].unique())\n",
    "\n",
    "# --- 3) Plot: recovery rate over time by source sector ---\n",
    "# High-contrast but still clean colors\n",
    "palette = {\n",
    "    \"CND\": \"#1f77b4\",  # blue\n",
    "    \"CNI\": \"#ff7f0e\",  # orange\n",
    "    \"MSW\": \"#2ca02c\"   # green\n",
    "}\n",
    "\n",
    "fig = px.line(\n",
    "    sector,\n",
    "    x=\"Financial Year\",\n",
    "    y=\"Recovery Rate %\",\n",
    "    color=\"Source Sector\",\n",
    "    category_orders={\"Financial Year\": year_order, \"Source Sector\": [\"CND\",\"CNI\",\"MSW\"]},\n",
    "    markers=True,\n",
    "    title=\"Recovery rate over time by source sector\",\n",
    "    labels={\"Financial Year\":\"Year\", \"Recovery Rate %\":\"Recovery Rate %\", \"Source Sector\":\"Sector\"},\n",
    "    color_discrete_map=palette,\n",
    "    template=\"plotly_white\"\n",
    ")\n",
    "\n",
    "\n",
    "# Formatting\n",
    "fig.update_layout(\n",
    "    hovermode=\"x unified\",\n",
    "    title_x=0.5,\n",
    "    yaxis=dict(range=[0, 100], ticksuffix=\"%\", griddash=\"dot\"),\n",
    "    xaxis_tickangle=-30,\n",
    "    height=600,\n",
    "    legend_title_text=\"\"\n",
    ")\n",
    "\n",
    "# Hover with 0 decimals on percentage\n",
    "fig.update_traces(hovertemplate=\"%{x}<br>%{legendgroup}: %{y:.0f}%\")\n",
    "\n",
    "fig.show()\n"
   ]
  },
  {
   "cell_type": "markdown",
   "id": "8a40a082-323b-46ab-80ff-51fdf155d077",
   "metadata": {},
   "source": [
    "## Visualization 4: Emission Intensity vs Waste Proportion (Household Waste)"
   ]
  },
  {
   "cell_type": "markdown",
   "id": "2631dd78-4911-4252-9e11-6e37dd5072b6",
   "metadata": {},
   "source": [
    "Food and paper waste dominate the household waste stream by proportion, making them the biggest contributors to overall emissions despite having moderate emission factors.\n",
    "Items like nappies and rubber/leather, although smaller in proportion, show higher emission intensity, highlighting their potential as reduction priorities.\n",
    "This suggests that improving recycling or diversion strategies for high-volume categories (food, paper) and high-intensity categories (nappies, rubber/leather) would deliver the most significant climate benefits."
   ]
  },
  {
   "cell_type": "code",
   "execution_count": 41,
   "id": "0d5675ab-0029-490d-9144-2ecf1e07aa73",
   "metadata": {},
   "outputs": [
    {
     "data": {
      "application/vnd.plotly.v1+json": {
       "config": {
        "plotlyServerURL": "https://plot.ly"
       },
       "data": [
        {
         "customdata": [
          [
           0.35,
           null
          ]
         ],
         "hovertemplate": "Waste type=%{x}<br>Emission factor (t CO2-e/t)=%{y}<br>Proportion (share)=%{customdata[0]}<br>Weighted EF (t CO2-e)=%{customdata[1]}<extra></extra>",
         "legendgroup": "Food",
         "marker": {
          "color": "#636efa",
          "line": {
           "color": "DarkSlateGrey",
           "width": 1
          },
          "size": [
           0.35
          ],
          "sizemode": "area",
          "sizeref": 7.142857142857142e-05,
          "symbol": "circle"
         },
         "mode": "markers",
         "name": "Food",
         "orientation": "v",
         "showlegend": true,
         "type": "scatter",
         "x": [
          "Food"
         ],
         "xaxis": "x",
         "y": [
          "2.1"
         ],
         "yaxis": "y"
        },
        {
         "customdata": [
          [
           0.28,
           0.0308
          ]
         ],
         "hovertemplate": "Waste type=%{x}<br>Emission factor (t CO2-e/t)=%{y}<br>Proportion (share)=%{customdata[0]}<br>Weighted EF (t CO2-e)=%{customdata[1]}<extra></extra>",
         "legendgroup": "Other",
         "marker": {
          "color": "#EF553B",
          "line": {
           "color": "DarkSlateGrey",
           "width": 1
          },
          "size": [
           0.28
          ],
          "sizemode": "area",
          "sizeref": 7.142857142857142e-05,
          "symbol": "circle"
         },
         "mode": "markers",
         "name": "Other",
         "orientation": "v",
         "showlegend": true,
         "type": "scatter",
         "x": [
          "Other"
         ],
         "xaxis": "x",
         "y": [
          "-"
         ],
         "yaxis": "y"
        },
        {
         "customdata": [
          [
           0.165,
           null
          ]
         ],
         "hovertemplate": "Waste type=%{x}<br>Emission factor (t CO2-e/t)=%{y}<br>Proportion (share)=%{customdata[0]}<br>Weighted EF (t CO2-e)=%{customdata[1]}<extra></extra>",
         "legendgroup": "Garden and Green",
         "marker": {
          "color": "#00cc96",
          "line": {
           "color": "DarkSlateGrey",
           "width": 1
          },
          "size": [
           0.165
          ],
          "sizemode": "area",
          "sizeref": 7.142857142857142e-05,
          "symbol": "circle"
         },
         "mode": "markers",
         "name": "Garden and Green",
         "orientation": "v",
         "showlegend": true,
         "type": "scatter",
         "x": [
          "Garden and Green"
         ],
         "xaxis": "x",
         "y": [
          "1.6"
         ],
         "yaxis": "y"
        },
        {
         "customdata": [
          [
           0.13,
           0.0022
          ]
         ],
         "hovertemplate": "Waste type=%{x}<br>Emission factor (t CO2-e/t)=%{y}<br>Proportion (share)=%{customdata[0]}<br>Weighted EF (t CO2-e)=%{customdata[1]}<extra></extra>",
         "legendgroup": "Paper",
         "marker": {
          "color": "#ab63fa",
          "line": {
           "color": "DarkSlateGrey",
           "width": 1
          },
          "size": [
           0.13
          ],
          "sizemode": "area",
          "sizeref": 7.142857142857142e-05,
          "symbol": "circle"
         },
         "mode": "markers",
         "name": "Paper",
         "orientation": "v",
         "showlegend": true,
         "type": "scatter",
         "x": [
          "Paper"
         ],
         "xaxis": "x",
         "y": [
          "3.3"
         ],
         "yaxis": "y"
        },
        {
         "customdata": [
          [
           0.04,
           0.0103
          ]
         ],
         "hovertemplate": "Waste type=%{x}<br>Emission factor (t CO2-e/t)=%{y}<br>Proportion (share)=%{customdata[0]}<br>Weighted EF (t CO2-e)=%{customdata[1]}<extra></extra>",
         "legendgroup": "Nappies",
         "marker": {
          "color": "#FFA15A",
          "line": {
           "color": "DarkSlateGrey",
           "width": 1
          },
          "size": [
           0.04
          ],
          "sizemode": "area",
          "sizeref": 7.142857142857142e-05,
          "symbol": "circle"
         },
         "mode": "markers",
         "name": "Nappies",
         "orientation": "v",
         "showlegend": true,
         "type": "scatter",
         "x": [
          "Nappies"
         ],
         "xaxis": "x",
         "y": [
          "2"
         ],
         "yaxis": "y"
        },
        {
         "customdata": [
          [
           0.015,
           0.0055
          ]
         ],
         "hovertemplate": "Waste type=%{x}<br>Emission factor (t CO2-e/t)=%{y}<br>Proportion (share)=%{customdata[0]}<br>Weighted EF (t CO2-e)=%{customdata[1]}<extra></extra>",
         "legendgroup": "Textiles",
         "marker": {
          "color": "#19d3f3",
          "line": {
           "color": "DarkSlateGrey",
           "width": 1
          },
          "size": [
           0.015
          ],
          "sizemode": "area",
          "sizeref": 7.142857142857142e-05,
          "symbol": "circle"
         },
         "mode": "markers",
         "name": "Textiles",
         "orientation": "v",
         "showlegend": true,
         "type": "scatter",
         "x": [
          "Textiles"
         ],
         "xaxis": "x",
         "y": [
          "2"
         ],
         "yaxis": "y"
        },
        {
         "customdata": [
          [
           0.01,
           null
          ]
         ],
         "hovertemplate": "Waste type=%{x}<br>Emission factor (t CO2-e/t)=%{y}<br>Proportion (share)=%{customdata[0]}<br>Weighted EF (t CO2-e)=%{customdata[1]}<extra></extra>",
         "legendgroup": "Wood ",
         "marker": {
          "color": "#FF6692",
          "line": {
           "color": "DarkSlateGrey",
           "width": 1
          },
          "size": [
           0.01
          ],
          "sizemode": "area",
          "sizeref": 7.142857142857142e-05,
          "symbol": "circle"
         },
         "mode": "markers",
         "name": "Wood ",
         "orientation": "v",
         "showlegend": true,
         "type": "scatter",
         "x": [
          "Wood "
         ],
         "xaxis": "x",
         "y": [
          "0.7"
         ],
         "yaxis": "y"
        },
        {
         "customdata": [
          [
           0.01,
           0.0049
          ]
         ],
         "hovertemplate": "Waste type=%{x}<br>Emission factor (t CO2-e/t)=%{y}<br>Proportion (share)=%{customdata[0]}<br>Weighted EF (t CO2-e)=%{customdata[1]}<extra></extra>",
         "legendgroup": "Rubber and Leather",
         "marker": {
          "color": "#B6E880",
          "line": {
           "color": "DarkSlateGrey",
           "width": 1
          },
          "size": [
           0.01
          ],
          "sizemode": "area",
          "sizeref": 7.142857142857142e-05,
          "symbol": "circle"
         },
         "mode": "markers",
         "name": "Rubber and Leather",
         "orientation": "v",
         "showlegend": true,
         "type": "scatter",
         "x": [
          "Rubber and Leather"
         ],
         "xaxis": "x",
         "y": [
          "3.3"
         ],
         "yaxis": "y"
        }
       ],
       "layout": {
        "autosize": true,
        "legend": {
         "itemsizing": "constant",
         "title": {
          "text": "Waste type"
         },
         "tracegroupgap": 0
        },
        "template": {
         "data": {
          "bar": [
           {
            "error_x": {
             "color": "#2a3f5f"
            },
            "error_y": {
             "color": "#2a3f5f"
            },
            "marker": {
             "line": {
              "color": "#E5ECF6",
              "width": 0.5
             },
             "pattern": {
              "fillmode": "overlay",
              "size": 10,
              "solidity": 0.2
             }
            },
            "type": "bar"
           }
          ],
          "barpolar": [
           {
            "marker": {
             "line": {
              "color": "#E5ECF6",
              "width": 0.5
             },
             "pattern": {
              "fillmode": "overlay",
              "size": 10,
              "solidity": 0.2
             }
            },
            "type": "barpolar"
           }
          ],
          "carpet": [
           {
            "aaxis": {
             "endlinecolor": "#2a3f5f",
             "gridcolor": "white",
             "linecolor": "white",
             "minorgridcolor": "white",
             "startlinecolor": "#2a3f5f"
            },
            "baxis": {
             "endlinecolor": "#2a3f5f",
             "gridcolor": "white",
             "linecolor": "white",
             "minorgridcolor": "white",
             "startlinecolor": "#2a3f5f"
            },
            "type": "carpet"
           }
          ],
          "choropleth": [
           {
            "colorbar": {
             "outlinewidth": 0,
             "ticks": ""
            },
            "type": "choropleth"
           }
          ],
          "contour": [
           {
            "colorbar": {
             "outlinewidth": 0,
             "ticks": ""
            },
            "colorscale": [
             [
              0,
              "#0d0887"
             ],
             [
              0.1111111111111111,
              "#46039f"
             ],
             [
              0.2222222222222222,
              "#7201a8"
             ],
             [
              0.3333333333333333,
              "#9c179e"
             ],
             [
              0.4444444444444444,
              "#bd3786"
             ],
             [
              0.5555555555555556,
              "#d8576b"
             ],
             [
              0.6666666666666666,
              "#ed7953"
             ],
             [
              0.7777777777777778,
              "#fb9f3a"
             ],
             [
              0.8888888888888888,
              "#fdca26"
             ],
             [
              1,
              "#f0f921"
             ]
            ],
            "type": "contour"
           }
          ],
          "contourcarpet": [
           {
            "colorbar": {
             "outlinewidth": 0,
             "ticks": ""
            },
            "type": "contourcarpet"
           }
          ],
          "heatmap": [
           {
            "colorbar": {
             "outlinewidth": 0,
             "ticks": ""
            },
            "colorscale": [
             [
              0,
              "#0d0887"
             ],
             [
              0.1111111111111111,
              "#46039f"
             ],
             [
              0.2222222222222222,
              "#7201a8"
             ],
             [
              0.3333333333333333,
              "#9c179e"
             ],
             [
              0.4444444444444444,
              "#bd3786"
             ],
             [
              0.5555555555555556,
              "#d8576b"
             ],
             [
              0.6666666666666666,
              "#ed7953"
             ],
             [
              0.7777777777777778,
              "#fb9f3a"
             ],
             [
              0.8888888888888888,
              "#fdca26"
             ],
             [
              1,
              "#f0f921"
             ]
            ],
            "type": "heatmap"
           }
          ],
          "heatmapgl": [
           {
            "colorbar": {
             "outlinewidth": 0,
             "ticks": ""
            },
            "colorscale": [
             [
              0,
              "#0d0887"
             ],
             [
              0.1111111111111111,
              "#46039f"
             ],
             [
              0.2222222222222222,
              "#7201a8"
             ],
             [
              0.3333333333333333,
              "#9c179e"
             ],
             [
              0.4444444444444444,
              "#bd3786"
             ],
             [
              0.5555555555555556,
              "#d8576b"
             ],
             [
              0.6666666666666666,
              "#ed7953"
             ],
             [
              0.7777777777777778,
              "#fb9f3a"
             ],
             [
              0.8888888888888888,
              "#fdca26"
             ],
             [
              1,
              "#f0f921"
             ]
            ],
            "type": "heatmapgl"
           }
          ],
          "histogram": [
           {
            "marker": {
             "pattern": {
              "fillmode": "overlay",
              "size": 10,
              "solidity": 0.2
             }
            },
            "type": "histogram"
           }
          ],
          "histogram2d": [
           {
            "colorbar": {
             "outlinewidth": 0,
             "ticks": ""
            },
            "colorscale": [
             [
              0,
              "#0d0887"
             ],
             [
              0.1111111111111111,
              "#46039f"
             ],
             [
              0.2222222222222222,
              "#7201a8"
             ],
             [
              0.3333333333333333,
              "#9c179e"
             ],
             [
              0.4444444444444444,
              "#bd3786"
             ],
             [
              0.5555555555555556,
              "#d8576b"
             ],
             [
              0.6666666666666666,
              "#ed7953"
             ],
             [
              0.7777777777777778,
              "#fb9f3a"
             ],
             [
              0.8888888888888888,
              "#fdca26"
             ],
             [
              1,
              "#f0f921"
             ]
            ],
            "type": "histogram2d"
           }
          ],
          "histogram2dcontour": [
           {
            "colorbar": {
             "outlinewidth": 0,
             "ticks": ""
            },
            "colorscale": [
             [
              0,
              "#0d0887"
             ],
             [
              0.1111111111111111,
              "#46039f"
             ],
             [
              0.2222222222222222,
              "#7201a8"
             ],
             [
              0.3333333333333333,
              "#9c179e"
             ],
             [
              0.4444444444444444,
              "#bd3786"
             ],
             [
              0.5555555555555556,
              "#d8576b"
             ],
             [
              0.6666666666666666,
              "#ed7953"
             ],
             [
              0.7777777777777778,
              "#fb9f3a"
             ],
             [
              0.8888888888888888,
              "#fdca26"
             ],
             [
              1,
              "#f0f921"
             ]
            ],
            "type": "histogram2dcontour"
           }
          ],
          "mesh3d": [
           {
            "colorbar": {
             "outlinewidth": 0,
             "ticks": ""
            },
            "type": "mesh3d"
           }
          ],
          "parcoords": [
           {
            "line": {
             "colorbar": {
              "outlinewidth": 0,
              "ticks": ""
             }
            },
            "type": "parcoords"
           }
          ],
          "pie": [
           {
            "automargin": true,
            "type": "pie"
           }
          ],
          "scatter": [
           {
            "fillpattern": {
             "fillmode": "overlay",
             "size": 10,
             "solidity": 0.2
            },
            "type": "scatter"
           }
          ],
          "scatter3d": [
           {
            "line": {
             "colorbar": {
              "outlinewidth": 0,
              "ticks": ""
             }
            },
            "marker": {
             "colorbar": {
              "outlinewidth": 0,
              "ticks": ""
             }
            },
            "type": "scatter3d"
           }
          ],
          "scattercarpet": [
           {
            "marker": {
             "colorbar": {
              "outlinewidth": 0,
              "ticks": ""
             }
            },
            "type": "scattercarpet"
           }
          ],
          "scattergeo": [
           {
            "marker": {
             "colorbar": {
              "outlinewidth": 0,
              "ticks": ""
             }
            },
            "type": "scattergeo"
           }
          ],
          "scattergl": [
           {
            "marker": {
             "colorbar": {
              "outlinewidth": 0,
              "ticks": ""
             }
            },
            "type": "scattergl"
           }
          ],
          "scattermapbox": [
           {
            "marker": {
             "colorbar": {
              "outlinewidth": 0,
              "ticks": ""
             }
            },
            "type": "scattermapbox"
           }
          ],
          "scatterpolar": [
           {
            "marker": {
             "colorbar": {
              "outlinewidth": 0,
              "ticks": ""
             }
            },
            "type": "scatterpolar"
           }
          ],
          "scatterpolargl": [
           {
            "marker": {
             "colorbar": {
              "outlinewidth": 0,
              "ticks": ""
             }
            },
            "type": "scatterpolargl"
           }
          ],
          "scatterternary": [
           {
            "marker": {
             "colorbar": {
              "outlinewidth": 0,
              "ticks": ""
             }
            },
            "type": "scatterternary"
           }
          ],
          "surface": [
           {
            "colorbar": {
             "outlinewidth": 0,
             "ticks": ""
            },
            "colorscale": [
             [
              0,
              "#0d0887"
             ],
             [
              0.1111111111111111,
              "#46039f"
             ],
             [
              0.2222222222222222,
              "#7201a8"
             ],
             [
              0.3333333333333333,
              "#9c179e"
             ],
             [
              0.4444444444444444,
              "#bd3786"
             ],
             [
              0.5555555555555556,
              "#d8576b"
             ],
             [
              0.6666666666666666,
              "#ed7953"
             ],
             [
              0.7777777777777778,
              "#fb9f3a"
             ],
             [
              0.8888888888888888,
              "#fdca26"
             ],
             [
              1,
              "#f0f921"
             ]
            ],
            "type": "surface"
           }
          ],
          "table": [
           {
            "cells": {
             "fill": {
              "color": "#EBF0F8"
             },
             "line": {
              "color": "white"
             }
            },
            "header": {
             "fill": {
              "color": "#C8D4E3"
             },
             "line": {
              "color": "white"
             }
            },
            "type": "table"
           }
          ]
         },
         "layout": {
          "annotationdefaults": {
           "arrowcolor": "#2a3f5f",
           "arrowhead": 0,
           "arrowwidth": 1
          },
          "autotypenumbers": "strict",
          "coloraxis": {
           "colorbar": {
            "outlinewidth": 0,
            "ticks": ""
           }
          },
          "colorscale": {
           "diverging": [
            [
             0,
             "#8e0152"
            ],
            [
             0.1,
             "#c51b7d"
            ],
            [
             0.2,
             "#de77ae"
            ],
            [
             0.3,
             "#f1b6da"
            ],
            [
             0.4,
             "#fde0ef"
            ],
            [
             0.5,
             "#f7f7f7"
            ],
            [
             0.6,
             "#e6f5d0"
            ],
            [
             0.7,
             "#b8e186"
            ],
            [
             0.8,
             "#7fbc41"
            ],
            [
             0.9,
             "#4d9221"
            ],
            [
             1,
             "#276419"
            ]
           ],
           "sequential": [
            [
             0,
             "#0d0887"
            ],
            [
             0.1111111111111111,
             "#46039f"
            ],
            [
             0.2222222222222222,
             "#7201a8"
            ],
            [
             0.3333333333333333,
             "#9c179e"
            ],
            [
             0.4444444444444444,
             "#bd3786"
            ],
            [
             0.5555555555555556,
             "#d8576b"
            ],
            [
             0.6666666666666666,
             "#ed7953"
            ],
            [
             0.7777777777777778,
             "#fb9f3a"
            ],
            [
             0.8888888888888888,
             "#fdca26"
            ],
            [
             1,
             "#f0f921"
            ]
           ],
           "sequentialminus": [
            [
             0,
             "#0d0887"
            ],
            [
             0.1111111111111111,
             "#46039f"
            ],
            [
             0.2222222222222222,
             "#7201a8"
            ],
            [
             0.3333333333333333,
             "#9c179e"
            ],
            [
             0.4444444444444444,
             "#bd3786"
            ],
            [
             0.5555555555555556,
             "#d8576b"
            ],
            [
             0.6666666666666666,
             "#ed7953"
            ],
            [
             0.7777777777777778,
             "#fb9f3a"
            ],
            [
             0.8888888888888888,
             "#fdca26"
            ],
            [
             1,
             "#f0f921"
            ]
           ]
          },
          "colorway": [
           "#636efa",
           "#EF553B",
           "#00cc96",
           "#ab63fa",
           "#FFA15A",
           "#19d3f3",
           "#FF6692",
           "#B6E880",
           "#FF97FF",
           "#FECB52"
          ],
          "font": {
           "color": "#2a3f5f"
          },
          "geo": {
           "bgcolor": "white",
           "lakecolor": "white",
           "landcolor": "#E5ECF6",
           "showlakes": true,
           "showland": true,
           "subunitcolor": "white"
          },
          "hoverlabel": {
           "align": "left"
          },
          "hovermode": "closest",
          "mapbox": {
           "style": "light"
          },
          "paper_bgcolor": "white",
          "plot_bgcolor": "#E5ECF6",
          "polar": {
           "angularaxis": {
            "gridcolor": "white",
            "linecolor": "white",
            "ticks": ""
           },
           "bgcolor": "#E5ECF6",
           "radialaxis": {
            "gridcolor": "white",
            "linecolor": "white",
            "ticks": ""
           }
          },
          "scene": {
           "xaxis": {
            "backgroundcolor": "#E5ECF6",
            "gridcolor": "white",
            "gridwidth": 2,
            "linecolor": "white",
            "showbackground": true,
            "ticks": "",
            "zerolinecolor": "white"
           },
           "yaxis": {
            "backgroundcolor": "#E5ECF6",
            "gridcolor": "white",
            "gridwidth": 2,
            "linecolor": "white",
            "showbackground": true,
            "ticks": "",
            "zerolinecolor": "white"
           },
           "zaxis": {
            "backgroundcolor": "#E5ECF6",
            "gridcolor": "white",
            "gridwidth": 2,
            "linecolor": "white",
            "showbackground": true,
            "ticks": "",
            "zerolinecolor": "white"
           }
          },
          "shapedefaults": {
           "line": {
            "color": "#2a3f5f"
           }
          },
          "ternary": {
           "aaxis": {
            "gridcolor": "white",
            "linecolor": "white",
            "ticks": ""
           },
           "baxis": {
            "gridcolor": "white",
            "linecolor": "white",
            "ticks": ""
           },
           "bgcolor": "#E5ECF6",
           "caxis": {
            "gridcolor": "white",
            "linecolor": "white",
            "ticks": ""
           }
          },
          "title": {
           "x": 0.05
          },
          "xaxis": {
           "automargin": true,
           "gridcolor": "white",
           "linecolor": "white",
           "ticks": "",
           "title": {
            "standoff": 15
           },
           "zerolinecolor": "white",
           "zerolinewidth": 2
          },
          "yaxis": {
           "automargin": true,
           "gridcolor": "white",
           "linecolor": "white",
           "ticks": "",
           "title": {
            "standoff": 15
           },
           "zerolinecolor": "white",
           "zerolinewidth": 2
          }
         }
        },
        "title": {
         "text": "Emission Intensity vs Waste Proportion (Household Waste)",
         "x": 0.5
        },
        "xaxis": {
         "anchor": "y",
         "autorange": true,
         "categoryarray": [
          "Food",
          "Other",
          "Garden and Green",
          "Paper",
          "Nappies",
          "Textiles",
          "Wood ",
          "Rubber and Leather"
         ],
         "categoryorder": "array",
         "domain": [
          0,
          1
         ],
         "range": [
          -1.0007757508720816,
          7.523325223429132
         ],
         "tickangle": -30,
         "title": {
          "text": "Waste type"
         },
         "type": "category"
        },
        "yaxis": {
         "anchor": "x",
         "autorange": true,
         "domain": [
          0,
          1
         ],
         "range": [
          -1.3102362899391513,
          5.504616996861486
         ],
         "title": {
          "text": "Emission factor (t CO2-e/t)"
         },
         "type": "category"
        }
       }
      },
      "image/png": "[encoded data removed]",
      "text/html": [
       "<div>                            <div id=\"c79e3678-dd7d-4301-8c08-a3ff2a089e53\" class=\"plotly-graph-div\" style=\"height:600px; width:100%;\"></div>            <script type=\"text/javascript\">                require([\"plotly\"], function(Plotly) {                    window.PLOTLYENV=window.PLOTLYENV || {};                                    if (document.getElementById(\"c79e3678-dd7d-4301-8c08-a3ff2a089e53\")) {                    Plotly.newPlot(                        \"c79e3678-dd7d-4301-8c08-a3ff2a089e53\",                        [{\"customdata\":[[0.35,null]],\"hovertemplate\":\"Waste type=%{x}\\u003cbr\\u003eEmission factor (t CO2-e\\u002ft)=%{y}\\u003cbr\\u003eProportion (share)=%{customdata[0]}\\u003cbr\\u003eWeighted EF (t CO2-e)=%{customdata[1]}\\u003cextra\\u003e\\u003c\\u002fextra\\u003e\",\"legendgroup\":\"Food\",\"marker\":{\"color\":\"#636efa\",\"size\":[0.35],\"sizemode\":\"area\",\"sizeref\":7.142857142857142e-05,\"symbol\":\"circle\",\"line\":{\"color\":\"DarkSlateGrey\",\"width\":1}},\"mode\":\"markers\",\"name\":\"Food\",\"orientation\":\"v\",\"showlegend\":true,\"x\":[\"Food\"],\"xaxis\":\"x\",\"y\":[\"2.1\"],\"yaxis\":\"y\",\"type\":\"scatter\"},{\"customdata\":[[0.28,0.0308]],\"hovertemplate\":\"Waste type=%{x}\\u003cbr\\u003eEmission factor (t CO2-e\\u002ft)=%{y}\\u003cbr\\u003eProportion (share)=%{customdata[0]}\\u003cbr\\u003eWeighted EF (t CO2-e)=%{customdata[1]}\\u003cextra\\u003e\\u003c\\u002fextra\\u003e\",\"legendgroup\":\"Other\",\"marker\":{\"color\":\"#EF553B\",\"size\":[0.28],\"sizemode\":\"area\",\"sizeref\":7.142857142857142e-05,\"symbol\":\"circle\",\"line\":{\"color\":\"DarkSlateGrey\",\"width\":1}},\"mode\":\"markers\",\"name\":\"Other\",\"orientation\":\"v\",\"showlegend\":true,\"x\":[\"Other\"],\"xaxis\":\"x\",\"y\":[\"-\"],\"yaxis\":\"y\",\"type\":\"scatter\"},{\"customdata\":[[0.165,null]],\"hovertemplate\":\"Waste type=%{x}\\u003cbr\\u003eEmission factor (t CO2-e\\u002ft)=%{y}\\u003cbr\\u003eProportion (share)=%{customdata[0]}\\u003cbr\\u003eWeighted EF (t CO2-e)=%{customdata[1]}\\u003cextra\\u003e\\u003c\\u002fextra\\u003e\",\"legendgroup\":\"Garden and Green\",\"marker\":{\"color\":\"#00cc96\",\"size\":[0.165],\"sizemode\":\"area\",\"sizeref\":7.142857142857142e-05,\"symbol\":\"circle\",\"line\":{\"color\":\"DarkSlateGrey\",\"width\":1}},\"mode\":\"markers\",\"name\":\"Garden and Green\",\"orientation\":\"v\",\"showlegend\":true,\"x\":[\"Garden and Green\"],\"xaxis\":\"x\",\"y\":[\"1.6\"],\"yaxis\":\"y\",\"type\":\"scatter\"},{\"customdata\":[[0.13,0.0022]],\"hovertemplate\":\"Waste type=%{x}\\u003cbr\\u003eEmission factor (t CO2-e\\u002ft)=%{y}\\u003cbr\\u003eProportion (share)=%{customdata[0]}\\u003cbr\\u003eWeighted EF (t CO2-e)=%{customdata[1]}\\u003cextra\\u003e\\u003c\\u002fextra\\u003e\",\"legendgroup\":\"Paper\",\"marker\":{\"color\":\"#ab63fa\",\"size\":[0.13],\"sizemode\":\"area\",\"sizeref\":7.142857142857142e-05,\"symbol\":\"circle\",\"line\":{\"color\":\"DarkSlateGrey\",\"width\":1}},\"mode\":\"markers\",\"name\":\"Paper\",\"orientation\":\"v\",\"showlegend\":true,\"x\":[\"Paper\"],\"xaxis\":\"x\",\"y\":[\"3.3\"],\"yaxis\":\"y\",\"type\":\"scatter\"},{\"customdata\":[[0.04,0.0103]],\"hovertemplate\":\"Waste type=%{x}\\u003cbr\\u003eEmission factor (t CO2-e\\u002ft)=%{y}\\u003cbr\\u003eProportion (share)=%{customdata[0]}\\u003cbr\\u003eWeighted EF (t CO2-e)=%{customdata[1]}\\u003cextra\\u003e\\u003c\\u002fextra\\u003e\",\"legendgroup\":\"Nappies\",\"marker\":{\"color\":\"#FFA15A\",\"size\":[0.04],\"sizemode\":\"area\",\"sizeref\":7.142857142857142e-05,\"symbol\":\"circle\",\"line\":{\"color\":\"DarkSlateGrey\",\"width\":1}},\"mode\":\"markers\",\"name\":\"Nappies\",\"orientation\":\"v\",\"showlegend\":true,\"x\":[\"Nappies\"],\"xaxis\":\"x\",\"y\":[\"2\"],\"yaxis\":\"y\",\"type\":\"scatter\"},{\"customdata\":[[0.015,0.0055]],\"hovertemplate\":\"Waste type=%{x}\\u003cbr\\u003eEmission factor (t CO2-e\\u002ft)=%{y}\\u003cbr\\u003eProportion (share)=%{customdata[0]}\\u003cbr\\u003eWeighted EF (t CO2-e)=%{customdata[1]}\\u003cextra\\u003e\\u003c\\u002fextra\\u003e\",\"legendgroup\":\"Textiles\",\"marker\":{\"color\":\"#19d3f3\",\"size\":[0.015],\"sizemode\":\"area\",\"sizeref\":7.142857142857142e-05,\"symbol\":\"circle\",\"line\":{\"color\":\"DarkSlateGrey\",\"width\":1}},\"mode\":\"markers\",\"name\":\"Textiles\",\"orientation\":\"v\",\"showlegend\":true,\"x\":[\"Textiles\"],\"xaxis\":\"x\",\"y\":[\"2\"],\"yaxis\":\"y\",\"type\":\"scatter\"},{\"customdata\":[[0.01,null]],\"hovertemplate\":\"Waste type=%{x}\\u003cbr\\u003eEmission factor (t CO2-e\\u002ft)=%{y}\\u003cbr\\u003eProportion (share)=%{customdata[0]}\\u003cbr\\u003eWeighted EF (t CO2-e)=%{customdata[1]}\\u003cextra\\u003e\\u003c\\u002fextra\\u003e\",\"legendgroup\":\"Wood \",\"marker\":{\"color\":\"#FF6692\",\"size\":[0.01],\"sizemode\":\"area\",\"sizeref\":7.142857142857142e-05,\"symbol\":\"circle\",\"line\":{\"color\":\"DarkSlateGrey\",\"width\":1}},\"mode\":\"markers\",\"name\":\"Wood \",\"orientation\":\"v\",\"showlegend\":true,\"x\":[\"Wood \"],\"xaxis\":\"x\",\"y\":[\"0.7\"],\"yaxis\":\"y\",\"type\":\"scatter\"},{\"customdata\":[[0.01,0.0049]],\"hovertemplate\":\"Waste type=%{x}\\u003cbr\\u003eEmission factor (t CO2-e\\u002ft)=%{y}\\u003cbr\\u003eProportion (share)=%{customdata[0]}\\u003cbr\\u003eWeighted EF (t CO2-e)=%{customdata[1]}\\u003cextra\\u003e\\u003c\\u002fextra\\u003e\",\"legendgroup\":\"Rubber and Leather\",\"marker\":{\"color\":\"#B6E880\",\"size\":[0.01],\"sizemode\":\"area\",\"sizeref\":7.142857142857142e-05,\"symbol\":\"circle\",\"line\":{\"color\":\"DarkSlateGrey\",\"width\":1}},\"mode\":\"markers\",\"name\":\"Rubber and Leather\",\"orientation\":\"v\",\"showlegend\":true,\"x\":[\"Rubber and Leather\"],\"xaxis\":\"x\",\"y\":[\"3.3\"],\"yaxis\":\"y\",\"type\":\"scatter\"}],                        {\"template\":{\"data\":{\"histogram2dcontour\":[{\"type\":\"histogram2dcontour\",\"colorbar\":{\"outlinewidth\":0,\"ticks\":\"\"},\"colorscale\":[[0.0,\"#0d0887\"],[0.1111111111111111,\"#46039f\"],[0.2222222222222222,\"#7201a8\"],[0.3333333333333333,\"#9c179e\"],[0.4444444444444444,\"#bd3786\"],[0.5555555555555556,\"#d8576b\"],[0.6666666666666666,\"#ed7953\"],[0.7777777777777778,\"#fb9f3a\"],[0.8888888888888888,\"#fdca26\"],[1.0,\"#f0f921\"]]}],\"choropleth\":[{\"type\":\"choropleth\",\"colorbar\":{\"outlinewidth\":0,\"ticks\":\"\"}}],\"histogram2d\":[{\"type\":\"histogram2d\",\"colorbar\":{\"outlinewidth\":0,\"ticks\":\"\"},\"colorscale\":[[0.0,\"#0d0887\"],[0.1111111111111111,\"#46039f\"],[0.2222222222222222,\"#7201a8\"],[0.3333333333333333,\"#9c179e\"],[0.4444444444444444,\"#bd3786\"],[0.5555555555555556,\"#d8576b\"],[0.6666666666666666,\"#ed7953\"],[0.7777777777777778,\"#fb9f3a\"],[0.8888888888888888,\"#fdca26\"],[1.0,\"#f0f921\"]]}],\"heatmap\":[{\"type\":\"heatmap\",\"colorbar\":{\"outlinewidth\":0,\"ticks\":\"\"},\"colorscale\":[[0.0,\"#0d0887\"],[0.1111111111111111,\"#46039f\"],[0.2222222222222222,\"#7201a8\"],[0.3333333333333333,\"#9c179e\"],[0.4444444444444444,\"#bd3786\"],[0.5555555555555556,\"#d8576b\"],[0.6666666666666666,\"#ed7953\"],[0.7777777777777778,\"#fb9f3a\"],[0.8888888888888888,\"#fdca26\"],[1.0,\"#f0f921\"]]}],\"heatmapgl\":[{\"type\":\"heatmapgl\",\"colorbar\":{\"outlinewidth\":0,\"ticks\":\"\"},\"colorscale\":[[0.0,\"#0d0887\"],[0.1111111111111111,\"#46039f\"],[0.2222222222222222,\"#7201a8\"],[0.3333333333333333,\"#9c179e\"],[0.4444444444444444,\"#bd3786\"],[0.5555555555555556,\"#d8576b\"],[0.6666666666666666,\"#ed7953\"],[0.7777777777777778,\"#fb9f3a\"],[0.8888888888888888,\"#fdca26\"],[1.0,\"#f0f921\"]]}],\"contourcarpet\":[{\"type\":\"contourcarpet\",\"colorbar\":{\"outlinewidth\":0,\"ticks\":\"\"}}],\"contour\":[{\"type\":\"contour\",\"colorbar\":{\"outlinewidth\":0,\"ticks\":\"\"},\"colorscale\":[[0.0,\"#0d0887\"],[0.1111111111111111,\"#46039f\"],[0.2222222222222222,\"#7201a8\"],[0.3333333333333333,\"#9c179e\"],[0.4444444444444444,\"#bd3786\"],[0.5555555555555556,\"#d8576b\"],[0.6666666666666666,\"#ed7953\"],[0.7777777777777778,\"#fb9f3a\"],[0.8888888888888888,\"#fdca26\"],[1.0,\"#f0f921\"]]}],\"surface\":[{\"type\":\"surface\",\"colorbar\":{\"outlinewidth\":0,\"ticks\":\"\"},\"colorscale\":[[0.0,\"#0d0887\"],[0.1111111111111111,\"#46039f\"],[0.2222222222222222,\"#7201a8\"],[0.3333333333333333,\"#9c179e\"],[0.4444444444444444,\"#bd3786\"],[0.5555555555555556,\"#d8576b\"],[0.6666666666666666,\"#ed7953\"],[0.7777777777777778,\"#fb9f3a\"],[0.8888888888888888,\"#fdca26\"],[1.0,\"#f0f921\"]]}],\"mesh3d\":[{\"type\":\"mesh3d\",\"colorbar\":{\"outlinewidth\":0,\"ticks\":\"\"}}],\"scatter\":[{\"fillpattern\":{\"fillmode\":\"overlay\",\"size\":10,\"solidity\":0.2},\"type\":\"scatter\"}],\"parcoords\":[{\"type\":\"parcoords\",\"line\":{\"colorbar\":{\"outlinewidth\":0,\"ticks\":\"\"}}}],\"scatterpolargl\":[{\"type\":\"scatterpolargl\",\"marker\":{\"colorbar\":{\"outlinewidth\":0,\"ticks\":\"\"}}}],\"bar\":[{\"error_x\":{\"color\":\"#2a3f5f\"},\"error_y\":{\"color\":\"#2a3f5f\"},\"marker\":{\"line\":{\"color\":\"#E5ECF6\",\"width\":0.5},\"pattern\":{\"fillmode\":\"overlay\",\"size\":10,\"solidity\":0.2}},\"type\":\"bar\"}],\"scattergeo\":[{\"type\":\"scattergeo\",\"marker\":{\"colorbar\":{\"outlinewidth\":0,\"ticks\":\"\"}}}],\"scatterpolar\":[{\"type\":\"scatterpolar\",\"marker\":{\"colorbar\":{\"outlinewidth\":0,\"ticks\":\"\"}}}],\"histogram\":[{\"marker\":{\"pattern\":{\"fillmode\":\"overlay\",\"size\":10,\"solidity\":0.2}},\"type\":\"histogram\"}],\"scattergl\":[{\"type\":\"scattergl\",\"marker\":{\"colorbar\":{\"outlinewidth\":0,\"ticks\":\"\"}}}],\"scatter3d\":[{\"type\":\"scatter3d\",\"line\":{\"colorbar\":{\"outlinewidth\":0,\"ticks\":\"\"}},\"marker\":{\"colorbar\":{\"outlinewidth\":0,\"ticks\":\"\"}}}],\"scattermapbox\":[{\"type\":\"scattermapbox\",\"marker\":{\"colorbar\":{\"outlinewidth\":0,\"ticks\":\"\"}}}],\"scatterternary\":[{\"type\":\"scatterternary\",\"marker\":{\"colorbar\":{\"outlinewidth\":0,\"ticks\":\"\"}}}],\"scattercarpet\":[{\"type\":\"scattercarpet\",\"marker\":{\"colorbar\":{\"outlinewidth\":0,\"ticks\":\"\"}}}],\"carpet\":[{\"aaxis\":{\"endlinecolor\":\"#2a3f5f\",\"gridcolor\":\"white\",\"linecolor\":\"white\",\"minorgridcolor\":\"white\",\"startlinecolor\":\"#2a3f5f\"},\"baxis\":{\"endlinecolor\":\"#2a3f5f\",\"gridcolor\":\"white\",\"linecolor\":\"white\",\"minorgridcolor\":\"white\",\"startlinecolor\":\"#2a3f5f\"},\"type\":\"carpet\"}],\"table\":[{\"cells\":{\"fill\":{\"color\":\"#EBF0F8\"},\"line\":{\"color\":\"white\"}},\"header\":{\"fill\":{\"color\":\"#C8D4E3\"},\"line\":{\"color\":\"white\"}},\"type\":\"table\"}],\"barpolar\":[{\"marker\":{\"line\":{\"color\":\"#E5ECF6\",\"width\":0.5},\"pattern\":{\"fillmode\":\"overlay\",\"size\":10,\"solidity\":0.2}},\"type\":\"barpolar\"}],\"pie\":[{\"automargin\":true,\"type\":\"pie\"}]},\"layout\":{\"autotypenumbers\":\"strict\",\"colorway\":[\"#636efa\",\"#EF553B\",\"#00cc96\",\"#ab63fa\",\"#FFA15A\",\"#19d3f3\",\"#FF6692\",\"#B6E880\",\"#FF97FF\",\"#FECB52\"],\"font\":{\"color\":\"#2a3f5f\"},\"hovermode\":\"closest\",\"hoverlabel\":{\"align\":\"left\"},\"paper_bgcolor\":\"white\",\"plot_bgcolor\":\"#E5ECF6\",\"polar\":{\"bgcolor\":\"#E5ECF6\",\"angularaxis\":{\"gridcolor\":\"white\",\"linecolor\":\"white\",\"ticks\":\"\"},\"radialaxis\":{\"gridcolor\":\"white\",\"linecolor\":\"white\",\"ticks\":\"\"}},\"ternary\":{\"bgcolor\":\"#E5ECF6\",\"aaxis\":{\"gridcolor\":\"white\",\"linecolor\":\"white\",\"ticks\":\"\"},\"baxis\":{\"gridcolor\":\"white\",\"linecolor\":\"white\",\"ticks\":\"\"},\"caxis\":{\"gridcolor\":\"white\",\"linecolor\":\"white\",\"ticks\":\"\"}},\"coloraxis\":{\"colorbar\":{\"outlinewidth\":0,\"ticks\":\"\"}},\"colorscale\":{\"sequential\":[[0.0,\"#0d0887\"],[0.1111111111111111,\"#46039f\"],[0.2222222222222222,\"#7201a8\"],[0.3333333333333333,\"#9c179e\"],[0.4444444444444444,\"#bd3786\"],[0.5555555555555556,\"#d8576b\"],[0.6666666666666666,\"#ed7953\"],[0.7777777777777778,\"#fb9f3a\"],[0.8888888888888888,\"#fdca26\"],[1.0,\"#f0f921\"]],\"sequentialminus\":[[0.0,\"#0d0887\"],[0.1111111111111111,\"#46039f\"],[0.2222222222222222,\"#7201a8\"],[0.3333333333333333,\"#9c179e\"],[0.4444444444444444,\"#bd3786\"],[0.5555555555555556,\"#d8576b\"],[0.6666666666666666,\"#ed7953\"],[0.7777777777777778,\"#fb9f3a\"],[0.8888888888888888,\"#fdca26\"],[1.0,\"#f0f921\"]],\"diverging\":[[0,\"#8e0152\"],[0.1,\"#c51b7d\"],[0.2,\"#de77ae\"],[0.3,\"#f1b6da\"],[0.4,\"#fde0ef\"],[0.5,\"#f7f7f7\"],[0.6,\"#e6f5d0\"],[0.7,\"#b8e186\"],[0.8,\"#7fbc41\"],[0.9,\"#4d9221\"],[1,\"#276419\"]]},\"xaxis\":{\"gridcolor\":\"white\",\"linecolor\":\"white\",\"ticks\":\"\",\"title\":{\"standoff\":15},\"zerolinecolor\":\"white\",\"automargin\":true,\"zerolinewidth\":2},\"yaxis\":{\"gridcolor\":\"white\",\"linecolor\":\"white\",\"ticks\":\"\",\"title\":{\"standoff\":15},\"zerolinecolor\":\"white\",\"automargin\":true,\"zerolinewidth\":2},\"scene\":{\"xaxis\":{\"backgroundcolor\":\"#E5ECF6\",\"gridcolor\":\"white\",\"linecolor\":\"white\",\"showbackground\":true,\"ticks\":\"\",\"zerolinecolor\":\"white\",\"gridwidth\":2},\"yaxis\":{\"backgroundcolor\":\"#E5ECF6\",\"gridcolor\":\"white\",\"linecolor\":\"white\",\"showbackground\":true,\"ticks\":\"\",\"zerolinecolor\":\"white\",\"gridwidth\":2},\"zaxis\":{\"backgroundcolor\":\"#E5ECF6\",\"gridcolor\":\"white\",\"linecolor\":\"white\",\"showbackground\":true,\"ticks\":\"\",\"zerolinecolor\":\"white\",\"gridwidth\":2}},\"shapedefaults\":{\"line\":{\"color\":\"#2a3f5f\"}},\"annotationdefaults\":{\"arrowcolor\":\"#2a3f5f\",\"arrowhead\":0,\"arrowwidth\":1},\"geo\":{\"bgcolor\":\"white\",\"landcolor\":\"#E5ECF6\",\"subunitcolor\":\"white\",\"showland\":true,\"showlakes\":true,\"lakecolor\":\"white\"},\"title\":{\"x\":0.05},\"mapbox\":{\"style\":\"light\"}}},\"xaxis\":{\"anchor\":\"y\",\"domain\":[0.0,1.0],\"title\":{\"text\":\"Waste type\"},\"categoryorder\":\"array\",\"categoryarray\":[\"Food\",\"Other\",\"Garden and Green\",\"Paper\",\"Nappies\",\"Textiles\",\"Wood \",\"Rubber and Leather\"],\"tickangle\":-30},\"yaxis\":{\"anchor\":\"x\",\"domain\":[0.0,1.0],\"title\":{\"text\":\"Emission factor (t CO2-e\\u002ft)\"}},\"legend\":{\"title\":{\"text\":\"Waste type\"},\"tracegroupgap\":0,\"itemsizing\":\"constant\"},\"title\":{\"text\":\"Emission Intensity vs Waste Proportion (Household Waste)\",\"x\":0.5},\"height\":600},                        {\"responsive\": true}                    ).then(function(){\n",
       "                            \n",
       "var gd = document.getElementById('c79e3678-dd7d-4301-8c08-a3ff2a089e53');\n",
       "var x = new MutationObserver(function (mutations, observer) {{\n",
       "        var display = window.getComputedStyle(gd).display;\n",
       "        if (!display || display === 'none') {{\n",
       "            console.log([gd, 'removed!']);\n",
       "            Plotly.purge(gd);\n",
       "            observer.disconnect();\n",
       "        }}\n",
       "}});\n",
       "\n",
       "// Listen for the removal of the full notebook cells\n",
       "var notebookContainer = gd.closest('#notebook-container');\n",
       "if (notebookContainer) {{\n",
       "    x.observe(notebookContainer, {childList: true});\n",
       "}}\n",
       "\n",
       "// Listen for the clearing of the current output cell\n",
       "var outputEl = gd.closest('.output');\n",
       "if (outputEl) {{\n",
       "    x.observe(outputEl, {childList: true});\n",
       "}}\n",
       "\n",
       "                        })                };                });            </script>        </div>"
      ]
     },
     "metadata": {},
     "output_type": "display_data"
    }
   ],
   "source": [
    "import pandas as pd\n",
    "import plotly.express as px\n",
    "\n",
    "# Load merged CSV\n",
    "df = pd.read_csv(\"merged_emission_factors.csv\")\n",
    "\n",
    "# Remove \"Sludge\"\n",
    "df = df[df[\"Waste type (unified)\"] != \"Sludge\"]\n",
    "\n",
    "# Plot bubble chart with bigger bubbles\n",
    "fig = px.scatter(\n",
    "    df,\n",
    "    x=\"Waste type (unified)\",\n",
    "    y=\"Scope 3 EF (t CO2-e/t)\",\n",
    "    size=\"Proportion (share)\",\n",
    "    color=\"Waste type (unified)\",\n",
    "    hover_data=[\"Proportion (share)\", \"Weighted EF (t CO2-e)\"],\n",
    "    title=\"Emission Intensity vs Waste Proportion (Household Waste)\",\n",
    "    labels={\n",
    "        \"Waste type (unified)\": \"Waste type\",\n",
    "        \"Scope 3 EF (t CO2-e/t)\": \"Emission factor (t CO2-e/t)\"\n",
    "    },\n",
    "    size_max=70  # <-- increase bubble size difference\n",
    ")\n",
    "\n",
    "# Formatting\n",
    "fig.update_traces(marker=dict(line=dict(width=1, color=\"DarkSlateGrey\")))\n",
    "fig.update_layout(title_x=0.5, xaxis_tickangle=-30, height=600)\n",
    "\n",
    "fig.show()\n"
   ]
  }
 ],
 "metadata": {
  "kernelspec": {
   "display_name": "Python 3 (ipykernel)",
   "language": "python",
   "name": "python3"
  },
  "language_info": {
   "codemirror_mode": {
    "name": "ipython",
    "version": 3
   },
   "file_extension": ".py",
   "mimetype": "text/x-python",
   "name": "python",
   "nbconvert_exporter": "python",
   "pygments_lexer": "ipython3",
   "version": "3.12.4"
  }
 },
 "nbformat": 4,
 "nbformat_minor": 5
}
